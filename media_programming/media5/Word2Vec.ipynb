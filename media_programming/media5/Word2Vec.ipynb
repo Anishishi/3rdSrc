{
 "cells": [
  {
   "cell_type": "markdown",
   "metadata": {},
   "source": [
    "# 発展的演習：Word2vecによるWord Embedding\n",
    "\n",
    "ニューラルネットワークによって単語をベクトル化するWord2vecを学びましょう。  \n",
    "ここで、このベクトルとは、その単語の意味が近ければ近く、遠ければ遠くなるようなベクトルです。   \n",
    "また、word2vecで生成されるこのベクトルは、加算・減算ができるということで大きな注目を集めました。   \n",
    "以下のような例が有名です。\n",
    "```\n",
    "king - man + woman = queen\n",
    "```\n",
    "LDAと同じくgensimというライブラリを使って演習します。\n",
    "\n",
    "\n",
    "## 1. モデル学習\n",
    "\n",
    "いま、`texts/wiki_wakati.txt`には、基礎演習で用いた6カテゴリからなる2101個のWikipedia記事の本文について、分かち書きされた文が保存されています。  \n",
    "ここに含まれる語彙のそれぞれを`size`で指定されたサイズの次元のベクトルに変換しましょう。   \n",
    "コーパスにあまり現れない単語まで学習しようとすると精度が低くなるので、\n",
    "`mini_count`パラメータを設定して最低20回以上現れる単語に限りましょう。   \n",
    "また、word2vecでは、ある単語の性質を、その前後の単語が何かによって特徴量化していくのですが、このときに考慮する周辺の単語数（窓幅）`window`は5単語とします。つまり、その単語より前の5単語と、後ろの5単語をもって、その単語の特徴とするということです。   \n",
    "窓幅が広すぎると、文全体を学習することになって精度が落ちます。\n",
    "\n",
    "以下のプログラムを実行すると、ピンクの背景で学習時のログが出力されます。   \n",
    "たとえば\n",
    "\n",
    "```\n",
    "2019-05-27 14:54:55,099 : INFO : min_count=20 retains 7668 unique words (11% of original 67458, drops 59790)\n",
    "2019-05-27 14:54:55,100 : INFO : min_count=20 leaves 2217791 word corpus (92% of original 2404119, drops 186328)\n",
    "```\n",
    "は、`mini_count`を20単語にしたことにより、語彙数は59790から7668に削減され、またそれに伴い文中の全2404119単語のうち、92％に相当する2217791単語が学習に使われたことを意味します。   \n",
    "また、その後にEPOCHが1から5まで続いて出力されるでしょう。   \n",
    "ニューラルネットワークでは、まず学習データとして入力ベクトルと出力ベクトルの対を大量に用意します。   \n",
    "また、モデルのパラメータはランダムに設定されます。ですから初期のモデルはでたらめな答えを返すようなモデルです。   \n",
    "学習のフェーズでは、この対を1つずつモデルに渡して、\n",
    "入力ベクトルに対し、対応する出力ベクトルが出力されるようにモデルのパラメータを更新していきます。   \n",
    "このとき、すべての学習データに対して一通りパラメータを更新すればそれで終わりではなく、\n",
    "同じデータを何度も入力して繰り返し学習します。   \n",
    "この各繰り返しをエポックと呼び、今回は全データを5回学習するように設定されています。"
   ]
  },
  {
   "cell_type": "code",
   "execution_count": 1,
   "metadata": {},
   "outputs": [
    {
     "name": "stderr",
     "output_type": "stream",
     "text": [
      "2019-07-09 18:19:53,526 : INFO : collecting all words and their counts\n",
      "/Users/nishiyamaakito/.pyenv/versions/3.6.5/lib/python3.6/site-packages/smart_open/smart_open_lib.py:398: UserWarning: This function is deprecated, use smart_open.open instead. See the migration notes for details: https://github.com/RaRe-Technologies/smart_open/blob/master/README.rst#migrating-to-the-new-open-function\n",
      "  'See the migration notes for details: %s' % _MIGRATION_NOTES_URL\n",
      "2019-07-09 18:19:53,532 : INFO : PROGRESS: at sentence #0, processed 0 words, keeping 0 word types\n",
      "2019-07-09 18:19:54,325 : INFO : collected 67458 word types from a corpus of 2404119 raw words and 241 sentences\n",
      "2019-07-09 18:19:54,326 : INFO : Loading a fresh vocabulary\n",
      "2019-07-09 18:19:54,380 : INFO : effective_min_count=20 retains 7668 unique words (11% of original 67458, drops 59790)\n",
      "2019-07-09 18:19:54,381 : INFO : effective_min_count=20 leaves 2217791 word corpus (92% of original 2404119, drops 186328)\n",
      "2019-07-09 18:19:54,410 : INFO : deleting the raw counts dictionary of 67458 items\n",
      "2019-07-09 18:19:54,413 : INFO : sample=0.001 downsamples 37 most-common words\n",
      "2019-07-09 18:19:54,414 : INFO : downsampling leaves estimated 1433480 word corpus (64.6% of prior 2217791)\n",
      "2019-07-09 18:19:54,443 : INFO : estimated required memory for 7668 words and 200 dimensions: 16102800 bytes\n",
      "2019-07-09 18:19:54,444 : INFO : resetting layer weights\n",
      "2019-07-09 18:19:54,563 : INFO : training model with 3 workers on 7668 vocabulary and 200 features, using sg=0 hs=0 sample=0.001 negative=5 window=15\n",
      "2019-07-09 18:19:55,572 : INFO : EPOCH 1 - PROGRESS: at 45.23% examples, 638075 words/s, in_qsize 5, out_qsize 0\n",
      "2019-07-09 18:19:56,582 : INFO : EPOCH 1 - PROGRESS: at 90.87% examples, 645193 words/s, in_qsize 5, out_qsize 0\n",
      "2019-07-09 18:19:56,800 : INFO : worker thread finished; awaiting finish of 2 more threads\n",
      "2019-07-09 18:19:56,811 : INFO : worker thread finished; awaiting finish of 1 more threads\n",
      "2019-07-09 18:19:56,817 : INFO : worker thread finished; awaiting finish of 0 more threads\n",
      "2019-07-09 18:19:56,818 : INFO : EPOCH - 1 : training on 2404119 raw words (1433663 effective words) took 2.3s, 637170 effective words/s\n",
      "2019-07-09 18:19:57,823 : INFO : EPOCH 2 - PROGRESS: at 42.32% examples, 597270 words/s, in_qsize 5, out_qsize 0\n",
      "2019-07-09 18:19:58,828 : INFO : EPOCH 2 - PROGRESS: at 90.04% examples, 641729 words/s, in_qsize 5, out_qsize 0\n",
      "2019-07-09 18:19:59,065 : INFO : worker thread finished; awaiting finish of 2 more threads\n",
      "2019-07-09 18:19:59,070 : INFO : worker thread finished; awaiting finish of 1 more threads\n",
      "2019-07-09 18:19:59,073 : INFO : worker thread finished; awaiting finish of 0 more threads\n",
      "2019-07-09 18:19:59,075 : INFO : EPOCH - 2 : training on 2404119 raw words (1432837 effective words) took 2.3s, 636053 effective words/s\n",
      "2019-07-09 18:20:00,089 : INFO : EPOCH 3 - PROGRESS: at 46.89% examples, 659125 words/s, in_qsize 5, out_qsize 0\n",
      "2019-07-09 18:20:01,096 : INFO : EPOCH 3 - PROGRESS: at 93.78% examples, 666475 words/s, in_qsize 5, out_qsize 0\n",
      "2019-07-09 18:20:01,235 : INFO : worker thread finished; awaiting finish of 2 more threads\n",
      "2019-07-09 18:20:01,236 : INFO : worker thread finished; awaiting finish of 1 more threads\n",
      "2019-07-09 18:20:01,242 : INFO : worker thread finished; awaiting finish of 0 more threads\n",
      "2019-07-09 18:20:01,243 : INFO : EPOCH - 3 : training on 2404119 raw words (1434263 effective words) took 2.2s, 662708 effective words/s\n",
      "2019-07-09 18:20:02,253 : INFO : EPOCH 4 - PROGRESS: at 46.06% examples, 649587 words/s, in_qsize 5, out_qsize 0\n",
      "2019-07-09 18:20:03,265 : INFO : EPOCH 4 - PROGRESS: at 90.46% examples, 641208 words/s, in_qsize 5, out_qsize 0\n",
      "2019-07-09 18:20:03,482 : INFO : worker thread finished; awaiting finish of 2 more threads\n",
      "2019-07-09 18:20:03,487 : INFO : worker thread finished; awaiting finish of 1 more threads\n",
      "2019-07-09 18:20:03,491 : INFO : worker thread finished; awaiting finish of 0 more threads\n",
      "2019-07-09 18:20:03,492 : INFO : EPOCH - 4 : training on 2404119 raw words (1433458 effective words) took 2.2s, 638700 effective words/s\n",
      "2019-07-09 18:20:04,498 : INFO : EPOCH 5 - PROGRESS: at 40.25% examples, 567025 words/s, in_qsize 5, out_qsize 0\n",
      "2019-07-09 18:20:05,498 : INFO : EPOCH 5 - PROGRESS: at 85.48% examples, 609054 words/s, in_qsize 5, out_qsize 0\n",
      "2019-07-09 18:20:05,839 : INFO : worker thread finished; awaiting finish of 2 more threads\n",
      "2019-07-09 18:20:05,844 : INFO : worker thread finished; awaiting finish of 1 more threads\n",
      "2019-07-09 18:20:05,848 : INFO : worker thread finished; awaiting finish of 0 more threads\n",
      "2019-07-09 18:20:05,848 : INFO : EPOCH - 5 : training on 2404119 raw words (1434004 effective words) took 2.4s, 609317 effective words/s\n",
      "2019-07-09 18:20:05,849 : INFO : training on a 12020595 raw words (7168225 effective words) took 11.3s, 635215 effective words/s\n",
      "2019-07-09 18:20:05,850 : INFO : saving Word2Vec object under model/wiki.model, separately None\n",
      "2019-07-09 18:20:05,851 : INFO : not storing attribute vectors_norm\n",
      "2019-07-09 18:20:05,852 : INFO : not storing attribute cum_table\n",
      "/Users/nishiyamaakito/.pyenv/versions/3.6.5/lib/python3.6/site-packages/smart_open/smart_open_lib.py:398: UserWarning: This function is deprecated, use smart_open.open instead. See the migration notes for details: https://github.com/RaRe-Technologies/smart_open/blob/master/README.rst#migrating-to-the-new-open-function\n",
      "  'See the migration notes for details: %s' % _MIGRATION_NOTES_URL\n",
      "2019-07-09 18:20:06,002 : INFO : saved model/wiki.model\n"
     ]
    }
   ],
   "source": [
    "from gensim.models import word2vec\n",
    "import logging\n",
    "\n",
    "logging.basicConfig(format='%(asctime)s : %(levelname)s : %(message)s', level=logging.INFO)\n",
    "sentences = word2vec.Text8Corpus('texts/wiki_wakati.txt')\n",
    "\n",
    "model = word2vec.Word2Vec(sentences, # 入力文の集合\n",
    "                        size=200, # 隠れ層の次元＝embedされた単語ベクトルの次元\n",
    "                        min_count=20, # 出現回数が20単語以下のものは削除\n",
    "                        batch_words=10000,# 全文書を10000単語ごとに分割して学習\n",
    "                        iter = 5, # 全文書を学習する過程を何回繰り返すか(エポック数とも呼ぶ)\n",
    "                        window=15) # 考慮する周辺単語数。ここでは前後5単語\n",
    "\n",
    "model.save('model/wiki.model') # 学習済みモデルを保存しておきましょう"
   ]
  },
  {
   "cell_type": "markdown",
   "metadata": {},
   "source": [
    "## 2. 単語ベクトルの出力\n",
    "\n",
    "「動物」」の単語ベクトルを出力してみましょう。   \n",
    "これは学習時にsizeで指定した次元数（200次元）になっています。"
   ]
  },
  {
   "cell_type": "code",
   "execution_count": 2,
   "metadata": {},
   "outputs": [
    {
     "name": "stdout",
     "output_type": "stream",
     "text": [
      "[-6.03116989e-01 -2.81041670e+00  4.18240786e-01  1.78682661e+00\n",
      " -5.02803504e-01  5.12053609e-01  2.16401649e+00  1.12352085e+00\n",
      "  1.32723212e+00 -1.04024816e+00 -1.60855389e+00  3.48652303e-01\n",
      "  8.44524726e-02  3.69114131e-01 -8.73234868e-01 -4.30443347e-01\n",
      "  1.26846194e+00 -1.92001414e+00  3.63814712e-01 -6.51903152e-01\n",
      "  1.44170105e+00 -4.12601717e-02 -4.67782855e-01 -5.34124851e-01\n",
      " -5.84575891e-01 -4.63739365e-01 -3.80559117e-01 -9.16399360e-01\n",
      " -1.55257034e+00 -2.83659410e+00 -5.34855783e-01  3.39244127e-01\n",
      "  1.25713974e-01 -2.52145410e+00 -1.23385978e+00  9.02036965e-01\n",
      " -1.12589741e+00 -7.20946193e-01  8.94335091e-01 -1.10634200e-01\n",
      " -2.23293364e-01  1.10397422e+00 -4.26448993e-02 -1.38647497e+00\n",
      "  1.11745179e+00 -7.00652838e-01  7.16751635e-01  2.51817644e-01\n",
      "  6.59631133e-01  3.85580271e-01  1.00980318e+00 -8.05505276e-01\n",
      "  3.96532804e-01 -6.13431931e-01  6.67707145e-01 -8.44824389e-02\n",
      "  3.46347131e-02  1.43856215e+00  6.63260758e-01  1.56022489e+00\n",
      " -9.00621533e-01  1.46821514e-01  7.13667691e-01  1.55190215e-01\n",
      "  5.66198647e-01 -9.07454312e-01 -1.57125854e+00  6.98420644e-01\n",
      "  9.80274856e-01 -7.28500366e-01 -1.03859305e+00 -2.23021460e+00\n",
      "  7.89266169e-01  1.00292280e-01 -9.62068141e-01  2.00584841e+00\n",
      "  6.25504494e-01  1.04510891e+00  1.76346433e+00 -4.13098240e+00\n",
      "  2.63014048e-01  2.87954658e-01 -1.28636897e-01 -1.26992822e+00\n",
      " -2.09160972e+00 -1.17188680e+00 -7.09441841e-01 -1.39702642e+00\n",
      " -4.63361025e-01 -1.06869972e+00 -2.05577686e-02 -1.63684201e+00\n",
      " -7.42389739e-01 -1.69763744e-01  8.15980792e-01  3.50691843e+00\n",
      "  8.61581713e-02  6.29117429e-01  5.00681818e-01  1.36298347e+00\n",
      " -9.43595469e-01  8.11000228e-01  5.55716157e-01 -1.71927139e-01\n",
      "  1.42115855e+00  4.25636101e+00 -1.33986139e+00 -1.61736476e+00\n",
      " -7.70688176e-01  7.31711566e-01 -1.59212327e+00  2.15994604e-02\n",
      " -7.46238947e-01  1.60610700e+00 -5.57618260e-01  4.11876172e-01\n",
      " -1.42255127e+00  7.39488244e-01  7.51818240e-01  2.42257431e-01\n",
      "  2.26235747e+00  2.13798404e+00 -1.06718922e+00  3.91012728e-01\n",
      "  6.66003644e-01  1.21507600e-01 -1.21817923e+00 -1.47266996e+00\n",
      "  4.62902933e-01 -1.55353796e+00 -4.15309846e-01 -4.68715876e-01\n",
      "  1.40213847e+00  2.37113452e+00 -3.04611444e+00  1.78281558e+00\n",
      " -3.95093203e-01  5.75936973e-01  6.90054715e-01 -1.45088363e+00\n",
      " -1.17260110e+00  2.18932414e+00 -4.71525967e-01  8.15708280e-01\n",
      " -5.49857080e-01  3.73465657e-01  1.42671621e+00 -1.15575671e+00\n",
      " -1.46161258e-01  4.91460294e-01  1.47931850e+00  7.98641741e-01\n",
      "  2.12129498e+00  3.47014964e-01  6.23014450e-01 -1.21101975e-01\n",
      " -7.93811083e-01 -1.16338575e+00  1.89748693e+00  1.02917564e+00\n",
      " -5.26296675e-01 -3.41480255e-01  2.56759572e+00 -1.55373144e+00\n",
      " -1.24664581e+00 -9.65250194e-01 -1.20299160e+00  2.06950377e-03\n",
      " -8.86520684e-01  6.80122316e-01 -6.98500514e-01  1.90680444e+00\n",
      " -6.08745694e-01 -4.34495687e-01 -5.73606014e-01  3.77907120e-02\n",
      " -1.73110783e+00 -9.45378244e-02  4.06835604e+00  1.93100226e+00\n",
      "  3.45555156e-01 -1.37632477e+00 -5.66552460e-01 -1.03861904e+00\n",
      " -9.93886173e-01 -1.63485721e-01 -4.21712816e-01  6.52502418e-01\n",
      "  2.66703224e+00 -3.79291981e-01  1.44127056e-01 -1.16320789e+00\n",
      " -1.68791115e-01  8.61714303e-01  9.22135115e-01  1.38081861e+00\n",
      " -5.18571496e-01 -6.83748186e-01 -5.09174466e-01 -1.37223148e+00]\n"
     ]
    },
    {
     "data": {
      "text/plain": [
       "200"
      ]
     },
     "execution_count": 2,
     "metadata": {},
     "output_type": "execute_result"
    }
   ],
   "source": [
    "print(model.wv['動物'])\n",
    "len(model.wv['動物'])"
   ]
  },
  {
   "cell_type": "markdown",
   "metadata": {},
   "source": [
    "## 3. 単語ベクトルの活用\n",
    "### 3.1 似た意味を持つ単語をみつけよう\n",
    "\n",
    "単語ベクトル同士が近ければ、その単語の意味は似ていると考えられます。   \n",
    "ここで、似たベクトルをもつ単語を出力してみましょう。\n",
    "\n",
    "単語`sample`をいろいろと変えて似た単語を表示させてみてください。   \n",
    "ただし、出現回数がmini_count以下の単語は学習の段階で無視されるので、\n",
    "単語ベクトルも計算されていません。   \n",
    "そのような単語を指定すると\n",
    "```\n",
    "KeyError: \"word '語彙' not in vocabulary\"\n",
    "```\n",
    "といようにエラーが出るので注意してください。"
   ]
  },
  {
   "cell_type": "code",
   "execution_count": 6,
   "metadata": {},
   "outputs": [
    {
     "name": "stdout",
     "output_type": "stream",
     "text": [
      "('門', 0.6523569822311401)\n",
      "('節足動物', 0.6491440534591675)\n",
      "('脊椎動物', 0.6468822360038757)\n",
      "('生物', 0.6394826173782349)\n",
      "('類', 0.6180599331855774)\n",
      "('爬虫類', 0.6144658923149109)\n",
      "('類縁', 0.609425961971283)\n",
      "('鳥類', 0.5976167917251587)\n",
      "('アピコンプレックス', 0.5869155526161194)\n",
      "('祖先', 0.5850323438644409)\n"
     ]
    }
   ],
   "source": [
    "from gensim.models import word2vec\n",
    "\n",
    "sample = '動物'\n",
    "#sample = '日本'\n",
    "#sample = 'カメラ'\n",
    "\n",
    "#model = word2vec.Word2Vec.load(\"model/wiki.model\") # 学習済みモデルを読み込む場合\n",
    "results = model.wv.most_similar(positive=[sample])\n",
    "for result in results:\n",
    "    print(result)"
   ]
  },
  {
   "cell_type": "markdown",
   "metadata": {},
   "source": [
    "### 3.2 ベクトルの加算・減算\n",
    "\n",
    "Word2vecは、複数の単語ベクトルを加算・減算したときに、その意味に相当するような単語を見つけることができるという点で大きな話題を呼びました。   \n",
    "今回はコーパスが小さいのであまりうまく行かないかもしれませんが、いろいろと試してみてください。   \n",
    "（学習データが動物、植物、政治、経済、法、芸術の6カテゴリの記事であることを考慮してください。その中で`mini_count`回以上現れる語彙でないと計算できません！）"
   ]
  },
  {
   "cell_type": "code",
   "execution_count": 15,
   "metadata": {},
   "outputs": [
    {
     "name": "stderr",
     "output_type": "stream",
     "text": [
      "2019-07-09 18:31:01,118 : INFO : loading Word2Vec object from model/wiki.model\n",
      "/Users/nishiyamaakito/.pyenv/versions/3.6.5/lib/python3.6/site-packages/smart_open/smart_open_lib.py:398: UserWarning: This function is deprecated, use smart_open.open instead. See the migration notes for details: https://github.com/RaRe-Technologies/smart_open/blob/master/README.rst#migrating-to-the-new-open-function\n",
      "  'See the migration notes for details: %s' % _MIGRATION_NOTES_URL\n",
      "2019-07-09 18:31:01,237 : INFO : loading wv recursively from model/wiki.model.wv.* with mmap=None\n",
      "2019-07-09 18:31:01,238 : INFO : setting ignored attribute vectors_norm to None\n",
      "2019-07-09 18:31:01,239 : INFO : loading vocabulary recursively from model/wiki.model.vocabulary.* with mmap=None\n",
      "2019-07-09 18:31:01,240 : INFO : loading trainables recursively from model/wiki.model.trainables.* with mmap=None\n",
      "2019-07-09 18:31:01,241 : INFO : setting ignored attribute cum_table to None\n",
      "2019-07-09 18:31:01,242 : INFO : loaded model/wiki.model\n",
      "2019-07-09 18:31:01,270 : INFO : precomputing L2-norms of word weight vectors\n"
     ]
    },
    {
     "name": "stdout",
     "output_type": "stream",
     "text": [
      "('任期', 0.8268277645111084)\n",
      "('総理', 0.8045049905776978)\n",
      "('部会', 0.8044452667236328)\n",
      "('大臣', 0.7873795628547668)\n",
      "('長官', 0.7820247411727905)\n",
      "('下院', 0.780879020690918)\n",
      "('参議院', 0.7603094577789307)\n",
      "('官房', 0.75467848777771)\n",
      "('議長', 0.7503782510757446)\n",
      "('議員', 0.7482025027275085)\n"
     ]
    }
   ],
   "source": [
    "from gensim.models import word2vec\n",
    "\n",
    "# 「国会」-「日本」+「米国」=「下院」\n",
    "sample1 = '国会'\n",
    "sample2 = '日本'\n",
    "sample3 = '米国' \n",
    "\n",
    "# 「生育」-「植物」+「動物」=「飼育」\n",
    "#sample1 = '生育'\n",
    "#sample2 = '植物'\n",
    "#sample3 = '動物'\n",
    "\n",
    "# 「ロンドン」-「イギリス」+「フランス」=「パリ」\n",
    "#sample1 = 'ロンドン'\n",
    "#sample2 = 'イギリス'\n",
    "#sample3 = 'フランス'\n",
    "\n",
    "# 「ロンドン」-「イギリス」+「日本」=「東京」\n",
    "#sample1 = 'ロンドン'\n",
    "#sample2 = 'イギリス'\n",
    "#sample3 = '日本'\n",
    "\n",
    "model = word2vec.Word2Vec.load(\"model/wiki.model\")\n",
    "results = model.wv.most_similar(positive=[sample3, sample1], negative=[sample2])\n",
    "for result in results:\n",
    "    print(result)"
   ]
  },
  {
   "cell_type": "markdown",
   "metadata": {},
   "source": [
    "### 3.3 単語ベクトルの可視化\n",
    "\n",
    "今回学習に用いた6種類のカテゴリに属する単語のうち、各カテゴリの重要語について、それらのベクトルがどのように分布しているか調べてみましょう。   \n",
    "各単語は200次元のベクトルになりますから、これを2次元平面上にプロットするために、\n",
    "主成分分析（PCA: Principal Component Analysis)を使って2次元に圧縮しています。   \n"
   ]
  },
  {
   "cell_type": "code",
   "execution_count": 16,
   "metadata": {},
   "outputs": [
    {
     "name": "stderr",
     "output_type": "stream",
     "text": [
      "2019-07-09 18:31:10,748 : INFO : loading Word2Vec object from model/wiki.model\n",
      "/Users/nishiyamaakito/.pyenv/versions/3.6.5/lib/python3.6/site-packages/smart_open/smart_open_lib.py:398: UserWarning: This function is deprecated, use smart_open.open instead. See the migration notes for details: https://github.com/RaRe-Technologies/smart_open/blob/master/README.rst#migrating-to-the-new-open-function\n",
      "  'See the migration notes for details: %s' % _MIGRATION_NOTES_URL\n",
      "2019-07-09 18:31:10,863 : INFO : loading wv recursively from model/wiki.model.wv.* with mmap=None\n",
      "2019-07-09 18:31:10,864 : INFO : setting ignored attribute vectors_norm to None\n",
      "2019-07-09 18:31:10,865 : INFO : loading vocabulary recursively from model/wiki.model.vocabulary.* with mmap=None\n",
      "2019-07-09 18:31:10,865 : INFO : loading trainables recursively from model/wiki.model.trainables.* with mmap=None\n",
      "2019-07-09 18:31:10,866 : INFO : setting ignored attribute cum_table to None\n",
      "2019-07-09 18:31:10,867 : INFO : loaded model/wiki.model\n"
     ]
    }
   ],
   "source": [
    "from gensim.models import word2vec\n",
    "#import numpy as np\n",
    "from sklearn.decomposition import PCA\n",
    "\n",
    "'''\n",
    "b\t青 (Blue)\n",
    "g\t緑 (Green)\n",
    "r\t赤 (Red)\n",
    "c\tシアン (Cyan)\n",
    "m\tマゼンタ (Magenta)\n",
    "y\t黄 (Yellow)\n",
    "k\t黒 (Black)\n",
    "w\t白 (White)\n",
    "'''\n",
    "# 単語のリストを設定します\n",
    "# このとき、可視化したさいに同じカテゴリの重要語が同じ色で塗られるよう、\n",
    "# 同じカテゴリの単語に同じカラーコード[bgrcmy]を割り当てておきます\n",
    "words = {'動物':'b','種':'b', '細胞':'b', '生物':'b', '卵':'b','寄生':'b', '飼育':'b', '虫':'b', '家畜':'b', '犬':'b', # animal\n",
    "         '作品':'g', '写真':'g', 'アニメ':'g', 'カメラ':'g', '音楽':'g', 'テレビ':'g', 'スタジオ':'g', '漫画':'g', '表現':'g', '賞':'g', # art\n",
    "          '経済':'r', '企業':'r', '社会':'r', '資本':'r', '会社':'r', '生産':'r', '労働':'r', '産業':'r', '市場':'r', '価格':'r', # economy\n",
    "          '法':'c', '憲法':'c', '国家':'c', '監査':'c', '権利':'c', '解釈':'c', '法律':'c', '行政':'c', '教会':'c', '宗教':'c', #law\n",
    "         '植物':'m', '葉':'m', '栽培':'m', '品種':'m', '茎':'m', '種子':'m', '枝':'m', '根':'m', '胞子':'m', '果実':'m', #plant\n",
    "         '軍事':'y', '選挙':'y', '国民':'y', '議会':'y', '主権':'y', '地方':'y', '外交':'y', '行政':'y', '権力':'y', '期間':'y'} #politic\n",
    "\n",
    "# 各単語についてword2vecの学習モデルによって200次元のベクトルを獲得します\n",
    "model = word2vec.Word2Vec.load(\"model/wiki.model\")\n",
    "data = []\n",
    "for word in words.keys():\n",
    "    data.append(model.wv[word])\n",
    "\n",
    "# 200次元を2次元に圧縮するためPCAを用いています\n",
    "pca = PCA(n_components=2)\n",
    "pca.fit(data)\n",
    "data_pca= pca.transform(data)\n"
   ]
  },
  {
   "cell_type": "markdown",
   "metadata": {},
   "source": [
    "単語の分布を可視化してみましょう。   \n",
    "同じカテゴリに属する単語は近くに分布しているでしょうか？\n"
   ]
  },
  {
   "cell_type": "code",
   "execution_count": 17,
   "metadata": {},
   "outputs": [
    {
     "name": "stderr",
     "output_type": "stream",
     "text": [
      "/Users/nishiyamaakito/.pyenv/versions/3.6.5/lib/python3.6/site-packages/matplotlib/backends/backend_agg.py:211: RuntimeWarning: Glyph 8722 missing from current font.\n",
      "  font.set_text(s, 0.0, flags=flags)\n",
      "/Users/nishiyamaakito/.pyenv/versions/3.6.5/lib/python3.6/site-packages/matplotlib/backends/backend_agg.py:180: RuntimeWarning: Glyph 8722 missing from current font.\n",
      "  font.set_text(s, 0, flags=flags)\n",
      "/Users/nishiyamaakito/.pyenv/versions/3.6.5/lib/python3.6/site-packages/matplotlib/backends/backend_agg.py:211: RuntimeWarning: Glyph 34411 missing from current font.\n",
      "  font.set_text(s, 0.0, flags=flags)\n",
      "/Users/nishiyamaakito/.pyenv/versions/3.6.5/lib/python3.6/site-packages/matplotlib/backends/backend_agg.py:176: RuntimeWarning: Glyph 34411 missing from current font.\n",
      "  font.load_char(ord(s), flags=flags)\n",
      "/Users/nishiyamaakito/.pyenv/versions/3.6.5/lib/python3.6/site-packages/matplotlib/backends/backend_agg.py:211: RuntimeWarning: Glyph 20889 missing from current font.\n",
      "  font.set_text(s, 0.0, flags=flags)\n",
      "/Users/nishiyamaakito/.pyenv/versions/3.6.5/lib/python3.6/site-packages/matplotlib/backends/backend_agg.py:211: RuntimeWarning: Glyph 30495 missing from current font.\n",
      "  font.set_text(s, 0.0, flags=flags)\n",
      "/Users/nishiyamaakito/.pyenv/versions/3.6.5/lib/python3.6/site-packages/matplotlib/backends/backend_agg.py:180: RuntimeWarning: Glyph 20889 missing from current font.\n",
      "  font.set_text(s, 0, flags=flags)\n",
      "/Users/nishiyamaakito/.pyenv/versions/3.6.5/lib/python3.6/site-packages/matplotlib/backends/backend_agg.py:180: RuntimeWarning: Glyph 30495 missing from current font.\n",
      "  font.set_text(s, 0, flags=flags)\n",
      "/Users/nishiyamaakito/.pyenv/versions/3.6.5/lib/python3.6/site-packages/matplotlib/backends/backend_agg.py:211: RuntimeWarning: Glyph 27005 missing from current font.\n",
      "  font.set_text(s, 0.0, flags=flags)\n",
      "/Users/nishiyamaakito/.pyenv/versions/3.6.5/lib/python3.6/site-packages/matplotlib/backends/backend_agg.py:180: RuntimeWarning: Glyph 27005 missing from current font.\n",
      "  font.set_text(s, 0, flags=flags)\n",
      "/Users/nishiyamaakito/.pyenv/versions/3.6.5/lib/python3.6/site-packages/matplotlib/backends/backend_agg.py:211: RuntimeWarning: Glyph 30011 missing from current font.\n",
      "  font.set_text(s, 0.0, flags=flags)\n",
      "/Users/nishiyamaakito/.pyenv/versions/3.6.5/lib/python3.6/site-packages/matplotlib/backends/backend_agg.py:180: RuntimeWarning: Glyph 30011 missing from current font.\n",
      "  font.set_text(s, 0, flags=flags)\n",
      "/Users/nishiyamaakito/.pyenv/versions/3.6.5/lib/python3.6/site-packages/matplotlib/backends/backend_agg.py:211: RuntimeWarning: Glyph 32076 missing from current font.\n",
      "  font.set_text(s, 0.0, flags=flags)\n",
      "/Users/nishiyamaakito/.pyenv/versions/3.6.5/lib/python3.6/site-packages/matplotlib/backends/backend_agg.py:211: RuntimeWarning: Glyph 28168 missing from current font.\n",
      "  font.set_text(s, 0.0, flags=flags)\n",
      "/Users/nishiyamaakito/.pyenv/versions/3.6.5/lib/python3.6/site-packages/matplotlib/backends/backend_agg.py:180: RuntimeWarning: Glyph 32076 missing from current font.\n",
      "  font.set_text(s, 0, flags=flags)\n",
      "/Users/nishiyamaakito/.pyenv/versions/3.6.5/lib/python3.6/site-packages/matplotlib/backends/backend_agg.py:180: RuntimeWarning: Glyph 28168 missing from current font.\n",
      "  font.set_text(s, 0, flags=flags)\n",
      "/Users/nishiyamaakito/.pyenv/versions/3.6.5/lib/python3.6/site-packages/matplotlib/backends/backend_agg.py:211: RuntimeWarning: Glyph 20250 missing from current font.\n",
      "  font.set_text(s, 0.0, flags=flags)\n",
      "/Users/nishiyamaakito/.pyenv/versions/3.6.5/lib/python3.6/site-packages/matplotlib/backends/backend_agg.py:180: RuntimeWarning: Glyph 20250 missing from current font.\n",
      "  font.set_text(s, 0, flags=flags)\n",
      "/Users/nishiyamaakito/.pyenv/versions/3.6.5/lib/python3.6/site-packages/matplotlib/backends/backend_agg.py:211: RuntimeWarning: Glyph 29987 missing from current font.\n",
      "  font.set_text(s, 0.0, flags=flags)\n",
      "/Users/nishiyamaakito/.pyenv/versions/3.6.5/lib/python3.6/site-packages/matplotlib/backends/backend_agg.py:180: RuntimeWarning: Glyph 29987 missing from current font.\n",
      "  font.set_text(s, 0, flags=flags)\n",
      "/Users/nishiyamaakito/.pyenv/versions/3.6.5/lib/python3.6/site-packages/matplotlib/backends/backend_agg.py:211: RuntimeWarning: Glyph 21172 missing from current font.\n",
      "  font.set_text(s, 0.0, flags=flags)\n",
      "/Users/nishiyamaakito/.pyenv/versions/3.6.5/lib/python3.6/site-packages/matplotlib/backends/backend_agg.py:211: RuntimeWarning: Glyph 20685 missing from current font.\n",
      "  font.set_text(s, 0.0, flags=flags)\n",
      "/Users/nishiyamaakito/.pyenv/versions/3.6.5/lib/python3.6/site-packages/matplotlib/backends/backend_agg.py:180: RuntimeWarning: Glyph 21172 missing from current font.\n",
      "  font.set_text(s, 0, flags=flags)\n",
      "/Users/nishiyamaakito/.pyenv/versions/3.6.5/lib/python3.6/site-packages/matplotlib/backends/backend_agg.py:180: RuntimeWarning: Glyph 20685 missing from current font.\n",
      "  font.set_text(s, 0, flags=flags)\n",
      "/Users/nishiyamaakito/.pyenv/versions/3.6.5/lib/python3.6/site-packages/matplotlib/backends/backend_agg.py:211: RuntimeWarning: Glyph 20385 missing from current font.\n",
      "  font.set_text(s, 0.0, flags=flags)\n",
      "/Users/nishiyamaakito/.pyenv/versions/3.6.5/lib/python3.6/site-packages/matplotlib/backends/backend_agg.py:180: RuntimeWarning: Glyph 20385 missing from current font.\n",
      "  font.set_text(s, 0, flags=flags)\n",
      "/Users/nishiyamaakito/.pyenv/versions/3.6.5/lib/python3.6/site-packages/matplotlib/backends/backend_agg.py:211: RuntimeWarning: Glyph 22269 missing from current font.\n",
      "  font.set_text(s, 0.0, flags=flags)\n",
      "/Users/nishiyamaakito/.pyenv/versions/3.6.5/lib/python3.6/site-packages/matplotlib/backends/backend_agg.py:180: RuntimeWarning: Glyph 22269 missing from current font.\n",
      "  font.set_text(s, 0, flags=flags)\n",
      "/Users/nishiyamaakito/.pyenv/versions/3.6.5/lib/python3.6/site-packages/matplotlib/backends/backend_agg.py:211: RuntimeWarning: Glyph 27177 missing from current font.\n",
      "  font.set_text(s, 0.0, flags=flags)\n",
      "/Users/nishiyamaakito/.pyenv/versions/3.6.5/lib/python3.6/site-packages/matplotlib/backends/backend_agg.py:180: RuntimeWarning: Glyph 27177 missing from current font.\n",
      "  font.set_text(s, 0, flags=flags)\n",
      "/Users/nishiyamaakito/.pyenv/versions/3.6.5/lib/python3.6/site-packages/matplotlib/backends/backend_agg.py:211: RuntimeWarning: Glyph 37320 missing from current font.\n",
      "  font.set_text(s, 0.0, flags=flags)\n",
      "/Users/nishiyamaakito/.pyenv/versions/3.6.5/lib/python3.6/site-packages/matplotlib/backends/backend_agg.py:180: RuntimeWarning: Glyph 37320 missing from current font.\n",
      "  font.set_text(s, 0, flags=flags)\n",
      "/Users/nishiyamaakito/.pyenv/versions/3.6.5/lib/python3.6/site-packages/matplotlib/backends/backend_agg.py:211: RuntimeWarning: Glyph 25945 missing from current font.\n",
      "  font.set_text(s, 0.0, flags=flags)\n",
      "/Users/nishiyamaakito/.pyenv/versions/3.6.5/lib/python3.6/site-packages/matplotlib/backends/backend_agg.py:180: RuntimeWarning: Glyph 25945 missing from current font.\n",
      "  font.set_text(s, 0, flags=flags)\n",
      "/Users/nishiyamaakito/.pyenv/versions/3.6.5/lib/python3.6/site-packages/matplotlib/backends/backend_agg.py:211: RuntimeWarning: Glyph 33550 missing from current font.\n",
      "  font.set_text(s, 0.0, flags=flags)\n",
      "/Users/nishiyamaakito/.pyenv/versions/3.6.5/lib/python3.6/site-packages/matplotlib/backends/backend_agg.py:176: RuntimeWarning: Glyph 33550 missing from current font.\n",
      "  font.load_char(ord(s), flags=flags)\n",
      "/Users/nishiyamaakito/.pyenv/versions/3.6.5/lib/python3.6/site-packages/matplotlib/backends/backend_agg.py:211: RuntimeWarning: Glyph 23455 missing from current font.\n",
      "  font.set_text(s, 0.0, flags=flags)\n",
      "/Users/nishiyamaakito/.pyenv/versions/3.6.5/lib/python3.6/site-packages/matplotlib/backends/backend_agg.py:180: RuntimeWarning: Glyph 23455 missing from current font.\n",
      "  font.set_text(s, 0, flags=flags)\n",
      "/Users/nishiyamaakito/.pyenv/versions/3.6.5/lib/python3.6/site-packages/matplotlib/backends/backend_agg.py:211: RuntimeWarning: Glyph 25369 missing from current font.\n",
      "  font.set_text(s, 0.0, flags=flags)\n",
      "/Users/nishiyamaakito/.pyenv/versions/3.6.5/lib/python3.6/site-packages/matplotlib/backends/backend_agg.py:180: RuntimeWarning: Glyph 25369 missing from current font.\n",
      "  font.set_text(s, 0, flags=flags)\n"
     ]
    },
    {
     "data": {
      "image/png": "[encoded data removed]",
      "text/plain": [
       "<Figure size 864x648 with 1 Axes>"
      ]
     },
     "metadata": {
      "needs_background": "light"
     },
     "output_type": "display_data"
    }
   ],
   "source": [
    "%matplotlib inline\n",
    "import matplotlib.pyplot as plt\n",
    "\n",
    "# IPAex日本語フォントのインストールができた人は、以下によって日本語が出力できるはずです\n",
    "# できていない環境では、日本語の文字は□に置き換えられます\n",
    "#plt.rcParams[\"font.family\"] = \"IPAexGothic\"\n",
    "\n",
    "# Windowsなら以下でうまく行くかもしれません\n",
    "#plt.rcParams[\"font.family\"] = \"Yu Mincho\"\n",
    "# Macなら以下でうまく行くかもしれません\n",
    "plt.rcParams['font.family'] = 'AppleGothic'\n",
    "\n",
    "plt.rcParams[\"font.size\"] = 18\n",
    "\n",
    "plt.figure(figsize=(12,9))\n",
    "num = 0\n",
    "for word in words:\n",
    "    plt.plot(data_pca[num][0], data_pca[num][1], ms=5.0, zorder=2, marker='x', color=words[word])\n",
    "    plt.annotate(word, (data_pca[num][0], data_pca[num][1])) \n",
    "    num += 1\n",
    "plt.grid()\n",
    "plt.savefig('fig/Word2vec1.png') # 図を画像として保存"
   ]
  },
  {
   "cell_type": "code",
   "execution_count": null,
   "metadata": {},
   "outputs": [],
   "source": []
  }
 ],
 "metadata": {
  "kernelspec": {
   "display_name": "Python 3",
   "language": "python",
   "name": "python3"
  },
  "language_info": {
   "codemirror_mode": {
    "name": "ipython",
    "version": 3
   },
   "file_extension": ".py",
   "mimetype": "text/x-python",
   "name": "python",
   "nbconvert_exporter": "python",
   "pygments_lexer": "ipython3",
   "version": "3.6.5"
  }
 },
 "nbformat": 4,
 "nbformat_minor": 2
}
