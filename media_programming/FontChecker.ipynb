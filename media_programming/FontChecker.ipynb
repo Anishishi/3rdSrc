{
 "cells": [
  {
   "cell_type": "markdown",
   "metadata": {},
   "source": [
    "# matplotlibで利用可能な日本語フォント\n",
    "\n",
    "matplotlibで描画するグラフに日本語文字を張りたい場合は、\n",
    "使用するフォントの種類に日本語が書き出し可能なフォントを指定する必要があります。\n",
    "\n",
    "## 1. 現状の確認方法\n",
    "まず、現在の設定は以下で確認できます。"
   ]
  },
  {
   "cell_type": "code",
   "execution_count": 1,
   "metadata": {},
   "outputs": [
    {
     "name": "stdout",
     "output_type": "stream",
     "text": [
      "デフォルトのフォントファミリー ['sans-serif']\n",
      "sans-serifのフォントリスト（最初のものから順に優先）： ['DejaVu Sans', 'Bitstream Vera Sans', 'Computer Modern Sans Serif', 'Lucida Grande', 'Verdana', 'Geneva', 'Lucid', 'Arial', 'Helvetica', 'Avant Garde', 'sans-serif']\n"
     ]
    }
   ],
   "source": [
    "import matplotlib as plt\n",
    "print('デフォルトのフォントファミリー',plt.rcParams[\"font.family\"])\n",
    "print('sans-serifのフォントリスト（最初のものから順に優先）：',plt.rcParams[\"font.sans-serif\"])"
   ]
  },
  {
   "cell_type": "markdown",
   "metadata": {},
   "source": [
    "デフォルトのフォントファミリーは'sans-serif'となっているのではないでしょうか？\n",
    "\n",
    "アルファベットの大分類には「serif」「sans-serif」「cursive」「fantasy」「monospace」があり、ここで指定しているのはこの大分類です。   \n",
    "日本語フォントうち、「MSゴシック」や「游ゴシック」「HGPゴシックE」のようなゴシック体は「sans-serif」フォントの一つですし、「MS明朝」や「游明朝」「HGP明朝E」のような明朝体は「serif」フォントの一つです。\n",
    "\n",
    "sans-serifが指定されると、今度はfont.sans-serifのリストを参照し、リストの上から順に、インストール済みのフォントが使われることになります。   \n",
    "ここに日本語を書き出し可能なフォントが含まれていないので、デフォルトのままだと日本語文字が「□」になってしまいます。\n",
    "\n"
   ]
  },
  {
   "cell_type": "markdown",
   "metadata": {},
   "source": [
    "## 2. 使用できるフォントの確認\n",
    "\n",
    "どのフォントが使用できるかは、それぞれのPCの環境によって異なります。   \n",
    "以下のセルを実行し、使用できるフォントのリストを表示してください。   \n",
    "\n",
    "この中で、「Gothic」や「Mincho」が含まれているフォントは、日本語が書き出せるフォントだと思います（違ったら私の理解が間違っているので、お手数ですがメッセージにてご報告を！）。"
   ]
  },
  {
   "cell_type": "code",
   "execution_count": 2,
   "metadata": {},
   "outputs": [
    {
     "name": "stdout",
     "output_type": "stream",
     "text": [
      "['cmex10', 'DejaVu Serif', 'STIXNonUnicode', 'cmr10', 'DejaVu Serif', 'DejaVu Sans Mono', 'DejaVu Sans Mono', 'STIXNonUnicode', 'STIXSizeThreeSym', 'STIXSizeThreeSym', 'STIXSizeOneSym', 'DejaVu Sans', 'cmss10', 'DejaVu Sans', 'DejaVu Sans Display', 'cmtt10', 'DejaVu Sans Mono', 'cmb10', 'STIXSizeFourSym', 'STIXSizeFiveSym', 'STIXGeneral', 'STIXSizeTwoSym', 'STIXSizeFourSym', 'DejaVu Sans Mono', 'DejaVu Sans', 'DejaVu Serif', 'STIXGeneral', 'STIXNonUnicode', 'STIXGeneral', 'STIXGeneral', 'DejaVu Serif', 'STIXSizeTwoSym', 'DejaVu Serif Display', 'STIXNonUnicode', 'cmmi10', 'DejaVu Sans', 'cmsy10', 'STIXSizeOneSym', 'Hiragino Sans', 'Arial', '.Aqua Kana', '.SF Compact Display', 'STIXSizeOneSym', '.SF NS Text Condensed', '.SF NS Display Condensed', 'System Font', 'Heiti TC', 'DecoType Naskh', 'Hoefler Text', 'Arial Hebrew', 'Hiragino Mincho ProN', 'Verdana', 'Times New Roman', '.Helvetica Neue DeskInterface', 'Georgia', 'Tamil MN', 'STIXSizeFiveSym', 'System Font', 'STIXSizeTwoSym', '.SF Compact Rounded', '.SF Compact Rounded', 'Apple Braille', 'Webdings', '.SF Compact Display', 'Menlo', '.SF Compact Text', 'System Font', 'Mishafi Gold', 'Arial Rounded MT Bold', 'Myanmar Sangam MN', 'Myanmar MN', 'SignPainter', '.SF NS Text Condensed', 'Charter', 'STIXNonUnicode', '.SF Compact Rounded', 'Arial Narrow', 'Bodoni 72 Oldstyle', 'Seravek', 'Microsoft Sans Serif', 'Al Tarikh', 'Trebuchet MS', 'Skia', '.SF Compact Display', 'Al Bayan', '.SF NS Display Condensed', 'PT Serif', 'InaiMathi', 'Hiragino Sans GB', 'Bodoni Ornaments', 'Comic Sans MS', '.SF Compact Text', 'Hiragino Sans', 'Impact', 'Sukhumvit Set', 'Arial', 'Rockwell', 'Chalkboard SE', 'Tamil Sangam MN', 'New Peninim MT', 'Damascus', 'STIXGeneral', 'Comic Sans MS', '.SF Compact Text', 'Kannada Sangam MN', 'Avenir', '.SF Compact Rounded', '.SF Compact Text', '.Keyboard', 'STIXIntegralsD', 'DIN Condensed', '.SF Compact Display', '.SF Compact Rounded', 'AppleGothic', 'Zapf Dingbats', 'Kohinoor Devanagari', 'Geeza Pro', 'Lao Sangam MN', 'System Font', 'Bodoni 72', 'Farisi', 'Superclarendon', 'Plantagenet Cherokee', 'Hiragino Sans', 'STIXVariants', '.SF Compact Text', 'STIXIntegralsUpD', '.SF NS Display Condensed', 'Kokonor', 'System Font', 'Khmer MN', 'Arial', 'Arial Black', 'STIXIntegralsUp', 'Arial Narrow', 'Apple Symbols', 'Courier New', '.SF NS Display Condensed', 'Courier New', 'Beirut', 'Apple SD Gothic Neo', 'Noto Nastaliq Urdu', 'Devanagari Sangam MN', 'Avenir Next Condensed', '.SF Compact Text', 'Times', 'Waseem', 'Krungthep', '.Arabic UI Display', 'Verdana', 'Raanana', 'Apple Chancery', 'STIXIntegralsUpSm', 'Hiragino Sans', 'Wingdings 3', 'Shree Devanagari 714', 'Diwan Thuluth', 'Symbol', 'Gurmukhi Sangam MN', 'Hiragino Sans', 'Songti SC', 'Zapfino', 'Lucida Grande', 'Kefa', 'Al Nile', 'Sinhala MN', 'Athelas', 'Cochin', 'Malayalam MN', 'STIXIntegralsUpD', 'System Font', 'Trebuchet MS', 'Optima', '.SF Compact Rounded', 'Gurmukhi MN', 'Devanagari MT', '.SF Compact Display', 'PT Serif Caption', 'Baskerville', '.SF Compact Text', 'Tahoma', 'PingFang HK', 'STIXIntegralsUp', 'Sinhala Sangam MN', 'Wingdings', 'Mshtakan', 'Ayuthaya', 'Apple Braille', 'Kohinoor Telugu', 'Heiti TC', '.SF NS Display Condensed', 'ITF Devanagari', 'Snell Roundhand', 'syunka2', 'Bradley Hand', 'Kohinoor Bangla', 'STIXGeneral', 'Herculanum', 'Muna', 'Corsiva Hebrew', 'Kannada MN', '.SF Compact Display', 'STIXIntegralsSm', 'Palatino', '.SF NS Display Condensed', 'Marker Felt', 'STIXVariants', '.SF Compact Display', 'Georgia', '.SF Compact Rounded', 'STIXIntegralsD', 'Chalkboard', 'PT Mono', 'STIXSizeOneSym', 'STIXNonUnicode', 'Hiragino Sans', 'System Font', 'STIXSizeTwoSym', '.SF Compact Text', '.SF Compact Rounded', 'Chalkduster', '.SF Compact Rounded', 'Telugu Sangam MN', 'Khmer Sangam MN', 'Arial Narrow', 'Avenir Next', 'DIN Alternate', 'STIXGeneral', '.SF NS Display Condensed', 'Farah', 'Georgia', 'Big Caslon', 'Brush Script MT', 'AppleMyungjo', 'Euphemia UCAS', 'Oriya Sangam MN', '.SF Compact Display', 'Hoefler Text', 'Hiragino Sans', 'Nadeem', 'Times New Roman', 'Gujarati MT', 'Luminari', 'Sana', 'Telugu MN', 'Courier New', 'System Font', 'STIXSizeThreeSym', 'Iowan Old Style', 'System Font', 'Papyrus', 'Copperplate', 'Helvetica Neue', 'Hiragino Sans', 'STIXSizeFourSym', '.Arabic UI Text', 'Gurmukhi MT', 'American Typewriter', 'Times New Roman', '.SF NS Display Condensed', 'STIXNonUnicode', 'Silom', 'Futura', 'Gill Sans', 'Georgia', '.SF NS Text Condensed', 'Bangla Sangam MN', 'Wingdings 2', 'System Font', 'Hiragino Sans', 'Bodoni 72 Smallcaps', '.SF Compact Display', 'Mishafi', '.SF Compact Text', 'STIXSizeFourSym', 'Sathu', 'System Font', 'Kailasa', '.SF NS Text Condensed', 'Didot', 'Arial Narrow', 'Andale Mono', 'STIXGeneral', '.SF Compact Text', 'Trebuchet MS', 'KufiStandardGK', '.SF Compact Text', '.SF NS Text Condensed', 'Diwan Kufi', 'Thonburi', 'Savoye LET', 'Tahoma', 'Apple Braille', 'Noteworthy', '.SF NS Text Condensed', '.SF Compact Text', '.LastResort', 'Helvetica', 'Malayalam Sangam MN', 'Bangla MN', 'STIXSizeThreeSym', 'Apple Braille', 'Apple Braille', 'STIXNonUnicode', 'Marion', 'Lao MN', 'STIXIntegralsSm', 'Hiragino Maru Gothic Pro', 'PT Sans', 'Gujarati Sangam MN', 'Trattatello', 'Arial', 'System Font', 'Oriya MN', 'Courier New', 'Phosphate', 'Times New Roman', 'Verdana', 'System Font', 'Hiragino Sans', '.SF NS Display Condensed', 'Trebuchet MS', 'Verdana', 'STIXIntegralsUpSm', 'Arial Unicode MS', 'Baghdad']\n"
     ]
    }
   ],
   "source": [
    "import matplotlib.font_manager\n",
    "print([f.name for f in matplotlib.font_manager.fontManager.ttflist])"
   ]
  },
  {
   "cell_type": "markdown",
   "metadata": {},
   "source": [
    "## 3. matplotlibで日本語フォントの指定\n",
    "\n",
    "演習ファイルにも載せましたが、以下のようにして使用するフォントを指定できます。"
   ]
  },
  {
   "cell_type": "code",
   "execution_count": 15,
   "metadata": {},
   "outputs": [],
   "source": [
    "plt.rcParams[\"font.family\"] = 'AppleGothic'"
   ]
  },
  {
   "cell_type": "markdown",
   "metadata": {},
   "source": [
    "## 4. 日本語フォントのチェック\n",
    "\n",
    "以下のセルを実行して、日本語文字が書き出せるか確認してください。"
   ]
  },
  {
   "cell_type": "code",
   "execution_count": 16,
   "metadata": {},
   "outputs": [
    {
     "data": {
      "text/plain": [
       "Text(0.1, 0.5, 'これが表示されたら成功！')"
      ]
     },
     "execution_count": 16,
     "metadata": {},
     "output_type": "execute_result"
    },
    {
     "data": {
      "image/png": "[encoded data removed]",
      "text/plain": [
       "<Figure size 432x72 with 1 Axes>"
      ]
     },
     "metadata": {
      "needs_background": "light"
     },
     "output_type": "display_data"
    }
   ],
   "source": [
    "import matplotlib.pyplot as plt\n",
    "fig = plt.figure(figsize =(6, 1))\n",
    "ax = fig.add_subplot(111)\n",
    "ax.text(0.1, 0.5, \"これが表示されたら成功！\", size = 20, color = \"red\")"
   ]
  },
  {
   "cell_type": "code",
   "execution_count": null,
   "metadata": {},
   "outputs": [],
   "source": []
  }
 ],
 "metadata": {
  "kernelspec": {
   "display_name": "Python 3",
   "language": "python",
   "name": "python3"
  },
  "language_info": {
   "codemirror_mode": {
    "name": "ipython",
    "version": 3
   },
   "file_extension": ".py",
   "mimetype": "text/x-python",
   "name": "python",
   "nbconvert_exporter": "python",
   "pygments_lexer": "ipython3",
   "version": "3.6.5"
  }
 },
 "nbformat": 4,
 "nbformat_minor": 2
}
