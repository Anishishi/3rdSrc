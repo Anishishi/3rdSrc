{
 "cells": [
  {
   "cell_type": "markdown",
   "metadata": {},
   "source": [
    "クライアント側(完全版)\\\n",
    "これから使うものは以下\n"
   ]
  },
  {
   "cell_type": "code",
   "execution_count": 3,
   "metadata": {},
   "outputs": [],
   "source": [
    "import socket\n",
    "import numpy as np\n",
    "import cv2\n",
    "import time\n",
    "import warnings\n",
    "import threading"
   ]
  },
  {
   "cell_type": "code",
   "execution_count": 4,
   "metadata": {},
   "outputs": [],
   "source": [
    "def keyinputhandler(dic, lock): #入力を受け付ける関数、この関数の中にslack-botの入力を入れれば良さそう\n",
    "    while True:\n",
    "        k = input() #今は標準入力を受け付けるだけ\n",
    "        if k=='q': #終了のために実行\n",
    "            lock.acquire()\n",
    "            dic['endflag'] = True\n",
    "            lock.release()\n",
    "            break\n",
    "        elif k=='a': #強制的に画像を呼び出したい時に実行\n",
    "            lock.acquire()\n",
    "            dic['additional'] = True\n",
    "            lock.release()\n",
    "\n",
    "def send_recv_data(dic, lock): #データの要求、受け取り、画像の保存\n",
    "    MSGLEN = 15116544\n",
    "    soc = socket.socket(socket.AF_INET, socket.SOCK_STREAM)\n",
    "    soc_flag = socket.socket(socket.AF_INET, socket.SOCK_STREAM)\n",
    "    \n",
    "    try:\n",
    "        soc.connect((\"192.168.0.12\", 50000))\n",
    "        soc_flag.connect((\"192.168.0.12\", 51001))\n",
    "    except ConnectionRefusedError:\n",
    "        print(\"refused\")\n",
    "        return\n",
    "    else:\n",
    "        print(\"接続完了\")\n",
    "    \n",
    "    st = 1#データの要求flag\n",
    "    addflag = 0 #強制的なデータの要求flag\n",
    "    pre = time.time()\n",
    "    now = time.time()\n",
    "    while True:\n",
    "        if now - pre >60: #前回の測定から60秒以上たっていたらデータを要求\n",
    "            st = 1\n",
    "        lock.acquire()\n",
    "        if dic['endflag'] == True:\n",
    "            sent = 0\n",
    "            while sent==0:\n",
    "                sent=soc_flag.send(b'end')#プログラムを終了するように命令する\n",
    "                time.sleep(0.1)\n",
    "            break\n",
    "        if dic['additional']==True: #即座にデータを送るように要求する\n",
    "            addflag = 1\n",
    "            dic['additional']==False\n",
    "        lock.release()\n",
    "        \n",
    "        \n",
    "        #30秒経過または強制的な要求でデータを要求、このif文の中で画像(mogumogu.jpg)を受け取り保存をしているので\n",
    "        #この中に予測の処理とslack-botの出力機構を作るのが良さそう。スレッド間のメモリの共有に関しては以下を参照...\n",
    "        if st==1 or addflag==1:\n",
    "            print(\"start comm.\")\n",
    "            sent = 0\n",
    "            while sent==0:\n",
    "                sent = soc_flag.send(b'demand')\n",
    "                time.sleep(0.1)\n",
    "            chunks = []\n",
    "            bytes_recd = 0\n",
    "            while bytes_recd < MSGLEN:\n",
    "                chunk = soc.recv(min(MSGLEN - bytes_recd, 2048))\n",
    "                if chunk == b'':\n",
    "                    raise RuntimeError(\"socket connection broken\")\n",
    "                chunks.append(chunk)\n",
    "                bytes_recd = bytes_recd + len(chunk)\n",
    "            data = b''.join(chunks)\n",
    "\n",
    "            data = np.fromstring(data,dtype=np.uint8)\n",
    "            data = np.reshape(data, (1944, 2592, 3))\n",
    "            cv2.imwrite(\"mogumogu.jpg\",data)\n",
    "            print(\"safely comm done.\")\n",
    "            \n",
    "            addflag = 0\n",
    "            if st == 1: #定期的な要求の時\n",
    "                pre = time.time() #前回の測定時間を記録\n",
    "                st = 0\n",
    "        \n",
    "        time.sleep(0.1)\n",
    "        now = time.time()\n",
    "        \n",
    "    soc.close()\n",
    "    soc_flag.close()\n",
    "    \n",
    "def func(): #学科PCとかで動かす、入力を受け付けるスレッド(thread0)とラズパイにデータを要求して画像を受け取り保存するスレッド(thread1)の並列処理\n",
    "    warnings.simplefilter('ignore')\n",
    "    dic = {'endflag':False, 'additional':False}#共有データを辞書型で保存する。slack-botの入力と出力が別スレッドになっているので使いそう\n",
    "    lock = threading.Lock()#データの競合を起こさないためにあるスレッドでアクセス、書き込みしている時は排他制御をする(OS参照、実際の書き方はアクセスする時にacquire()とrelease()で挟むだけ)\n",
    "    thread0 = threading.Thread(target=keyinputhandler, args=(dic,lock))\n",
    "    thread1 = threading.Thread(target=send_recv_data, args=(dic,lock))\n",
    "    thread0.start()\n",
    "    thread1.start()\n",
    "    thread0.join()\n",
    "    thread1.join()\n",
    "    print(\"all threads are done.\")"
   ]
  },
  {
   "cell_type": "code",
   "execution_count": null,
   "metadata": {},
   "outputs": [
    {
     "name": "stdout",
     "output_type": "stream",
     "text": [
      "ああ\n",
      "ああ\n"
     ]
    },
    {
     "name": "stderr",
     "output_type": "stream",
     "text": [
      "Exception in thread Thread-5:\n",
      "Traceback (most recent call last):\n",
      "  File \"/usr/lib/python3.6/threading.py\", line 916, in _bootstrap_inner\n",
      "    self.run()\n",
      "  File \"/usr/lib/python3.6/threading.py\", line 864, in run\n",
      "    self._target(*self._args, **self._kwargs)\n",
      "  File \"<ipython-input-4-f9af1c790606>\", line 20, in send_recv_data\n",
      "    soc.connect((\"192.168.0.12\", 50000))\n",
      "TimeoutError: [Errno 110] Connection timed out\n",
      "\n"
     ]
    }
   ],
   "source": [
    "func()"
   ]
  },
  {
   "cell_type": "code",
   "execution_count": null,
   "metadata": {},
   "outputs": [],
   "source": []
  }
 ],
 "metadata": {
  "kernelspec": {
   "display_name": "Python 3",
   "language": "python",
   "name": "python3"
  },
  "language_info": {
   "codemirror_mode": {
    "name": "ipython",
    "version": 3
   },
   "file_extension": ".py",
   "mimetype": "text/x-python",
   "name": "python",
   "nbconvert_exporter": "python",
   "pygments_lexer": "ipython3",
   "version": "3.6.9"
  }
 },
 "nbformat": 4,
 "nbformat_minor": 2
}
