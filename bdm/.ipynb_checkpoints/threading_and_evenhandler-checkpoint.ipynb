{
 "cells": [
  {
   "cell_type": "code",
   "execution_count": 2,
   "metadata": {},
   "outputs": [],
   "source": [
    "import time\n",
    "import threading\n",
    "import logging"
   ]
  },
  {
   "cell_type": "code",
   "execution_count": 4,
   "metadata": {},
   "outputs": [
    {
     "name": "stdout",
     "output_type": "stream",
     "text": [
      "2000000\n"
     ]
    }
   ],
   "source": [
    "flag=False\n",
    "\n",
    "class test:\n",
    "    num=0\n",
    "    num+=1\n",
    "    \n",
    "    def p(self):\n",
    "        print(self.num)\n",
    "        \n",
    "    def increment(self):\n",
    "        self.num+=1\n",
    "        self.p()\n",
    "\n",
    "class ttt():\n",
    "    lock = threading.Lock()\n",
    "    cnt=0\n",
    "    def sl1(self):\n",
    "        for i in range(1000000):\n",
    "            self.lock.acquire()\n",
    "            self.cnt+=1\n",
    "            self.lock.release()\n",
    "        \n",
    "    def sl2(self):\n",
    "        for i in range(1000000):\n",
    "            self.lock.acquire()\n",
    "            self.cnt+=1\n",
    "            self.lock.release()\n",
    "        \n",
    "def threadtest():\n",
    "    cl = ttt()\n",
    "    t1 = threading.Thread(target=cl.sl1)\n",
    "    t2 = threading.Thread(target=cl.sl2)\n",
    "    pre = time.time()\n",
    "    t1.start()\n",
    "    t2.start()\n",
    "    t1.join()\n",
    "    t2.join()\n",
    "    print(cl.cnt)\n",
    "    \n",
    "if __name__=='__main__':\n",
    "    threadtest()"
   ]
  },
  {
   "cell_type": "markdown",
   "metadata": {},
   "source": [
    "サーバ側(不完全版)"
   ]
  },
  {
   "cell_type": "code",
   "execution_count": 5,
   "metadata": {},
   "outputs": [],
   "source": [
    "import socket\n",
    "import numpy as np\n",
    "import cv2\n",
    "import time\n",
    "import threading"
   ]
  },
  {
   "cell_type": "code",
   "execution_count": 6,
   "metadata": {},
   "outputs": [
    {
     "ename": "IndentationError",
     "evalue": "unexpected indent (<ipython-input-6-5235d2236fab>, line 2)",
     "output_type": "error",
     "traceback": [
      "\u001b[0;36m  File \u001b[0;32m\"<ipython-input-6-5235d2236fab>\"\u001b[0;36m, line \u001b[0;32m2\u001b[0m\n\u001b[0;31m    s.bind((\"192.168.0.5\", 50000))\u001b[0m\n\u001b[0m    ^\u001b[0m\n\u001b[0;31mIndentationError\u001b[0m\u001b[0;31m:\u001b[0m unexpected indent\n"
     ]
    }
   ],
   "source": [
    "s = socket.socket(socket.AF_INET, socket.SOCK_STREAM)\n",
    "    s.bind((\"192.168.0.5\", 50000))\n",
    "    print(\"接続待機中\")\n",
    "    s.listen(1)\n",
    "    soc, addr = s.accept()\n",
    "    print(str(addr)+\"と接続完了\")\n",
    "\n",
    "    img = cv2.imread('apple.jpeg')\n",
    "    img = img.tostring()\n",
    "    MSGLEN = 15116544\n",
    "    totalsent = 0\n",
    "    while endflag==False:\n",
    "        while totalsent < MSGLEN:\n",
    "            sent = soc.send(img[totalsent:])\n",
    "            if sent == 0:\n",
    "                print(\"send failed : \", totalsent, \"bytes was sent\")\n",
    "                raise RuntimeError(\"socket connection broken\")\n",
    "            totalsent += sent\n",
    "    s.close()"
   ]
  },
  {
   "cell_type": "code",
   "execution_count": null,
   "metadata": {},
   "outputs": [],
   "source": []
  }
 ],
 "metadata": {
  "kernelspec": {
   "display_name": "Python 3",
   "language": "python",
   "name": "python3"
  },
  "language_info": {
   "codemirror_mode": {
    "name": "ipython",
    "version": 3
   },
   "file_extension": ".py",
   "mimetype": "text/x-python",
   "name": "python",
   "nbconvert_exporter": "python",
   "pygments_lexer": "ipython3",
   "version": "3.7.6"
  }
 },
 "nbformat": 4,
 "nbformat_minor": 2
}
