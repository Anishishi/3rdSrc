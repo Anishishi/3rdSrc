{
 "cells": [
  {
   "cell_type": "markdown",
   "metadata": {},
   "source": [
    "# オペレーティングシステム 演習 1\n",
    "# スレッドプログラミングの基本"
   ]
  },
  {
   "cell_type": "markdown",
   "metadata": {},
   "source": [
    "**このセルを編集して, 名前と学生証番号を書け.**\n",
    "\n",
    " * 名前 Name : 西山　晃人\n",
    " * 学生証番号 Student ID : 03-190503\n",
    "\n",
    "**書けたら Shift + Enter で実行(入力を確定)させ, 保存(`Ctrl-S`)せよ**"
   ]
  },
  {
   "cell_type": "markdown",
   "metadata": {},
   "source": [
    "# 1. この教材の使い方\n",
    "\n",
    "1. 文章の部分を読んで概念を理解する\n",
    "1. コードになっている部分は読んで理解し, `Shift + Enter` で実行して理解を確かめる\n",
    "1. <font color=\"blue\"><b>課題</b></font> と書かれている部分では指示に従ってコードを書いて, そのあとのコマンドが成功するようにする\n",
    "1. 大概の場合セルに不完全なコードが提供されているのでそれを修正してプログラムを完成させよ\n",
    "1. そのようなセルには \"write your answer here\" という指示がある. これは消さないこと \n",
    "1. 実行結果を確かめるセルには \"Execute this cell and check the result\" という指示がある. これも消さないこと"
   ]
  },
  {
   "cell_type": "markdown",
   "metadata": {},
   "source": [
    "# <font color=\"blue\">課題 1-1:</font>  練習用お試し課題\n",
    "\n",
    "_以下のプログラムを修正し, hello world が3回出力されるようにせよ_"
   ]
  },
  {
   "cell_type": "code",
   "execution_count": 3,
   "metadata": {},
   "outputs": [],
   "source": [
    "/* 以下の指示は消してはいけない(以降も同様) */\n",
    "/* ------- このセルを修正して解答を書け. write your answer here ------- */\n",
    "\n",
    "//% file: hello_world.c\n",
    "//% cmd: gcc -O3 -Wall -Wextra -o hello_world hello_world.c\n",
    "\n",
    "#include <stdio.h>\n",
    "int main() {\n",
    "  for(int i=0; i<3; i++){\n",
    "    printf(\"hello world\\n\");\n",
    "  }\n",
    "  return 0;\n",
    "}"
   ]
  },
  {
   "cell_type": "markdown",
   "metadata": {},
   "source": [
    "_テスト用セル_"
   ]
  },
  {
   "cell_type": "code",
   "execution_count": 4,
   "metadata": {},
   "outputs": [
    {
     "name": "stdout",
     "output_type": "stream",
     "text": [
      "hello world\n",
      "hello world\n",
      "hello world\n"
     ]
    }
   ],
   "source": [
    "/* 以下の指示は消してはいけない(以降も同様) */\n",
    "/* ------- このセルを実行して結果を確かめよ Execute this cell and check the result ------- */\n",
    "\n",
    "//% cmd: ./hello_world"
   ]
  },
  {
   "cell_type": "markdown",
   "metadata": {},
   "source": [
    "# 2. スレッド (POSIXスレッド)"
   ]
  },
  {
   "cell_type": "markdown",
   "metadata": {},
   "source": [
    "## 2-1. スレッドを使う一番単純なプログラム\n",
    "\n",
    "* 二つのスレッドを作りそれぞれが3回helloと表示するだけのプログラム"
   ]
  },
  {
   "cell_type": "markdown",
   "metadata": {},
   "source": [
    "## 利用API\n",
    "\n",
    "* pthread_create(&tid,..,f,x) はf(x)を実行するスレッドを作る. スレッドのIDが変数tidに格納される\n",
    "* pthread_join(tid,..) はスレッドtidの終了を待つ\n",
    "* 特定の関数に関する情報(上記の..部分など)はググっても良いが, そのOS上の man コマンドで得るのがもっとも正確な上, コピペもしやすい(ググると高い確率でLinux用man pageが見つかるが, 知らないうちに他のOSのページを見ているかも知れない). 例:\n",
    "```\n",
    "$ man pthread_create\n",
    "```\n",
    "* 本演習環境はLinux (Ubuntu)なので手元のPCが学科PCの人は自分でやるのがよいし, そうでない人はクラウド環境のターミナルを使えば良い"
   ]
  },
  {
   "cell_type": "code",
   "execution_count": 5,
   "metadata": {},
   "outputs": [],
   "source": [
    "//% file: hello_pthread.c\n",
    "//% cmd: gcc -O3 -Wall -Wextra -o hello_pthread hello_pthread.c -lpthread\n",
    "\n",
    "#include <stdio.h>\n",
    "#include <pthread.h>\n",
    "#include <unistd.h>\n",
    "\n",
    "/* スレッドによって実行される関数 */\n",
    "void * f(void * args_) {\n",
    "  (void)args_;\n",
    "  pthread_t tid = pthread_self();\n",
    "  for (int i = 0; i < 3; i++) {\n",
    "    printf(\"%ld : hello %d\\n\", tid, i);\n",
    "    usleep(100);                /* 100 μ秒 = 0.0001 秒休眠 */\n",
    "  }\n",
    "  return 0;\n",
    "}\n",
    "\n",
    "int main() {\n",
    "  pthread_t tid[2];\n",
    "  /* スレッドを2個作る */\n",
    "  for (int i = 0; i < 2; i++) {\n",
    "    pthread_create(&tid[i], NULL, f, NULL);\n",
    "  }\n",
    "  /* 終了待ち */\n",
    "  for (int i = 0; i < 2; i++) {\n",
    "    pthread_join(tid[i], NULL);\n",
    "  }\n",
    "  return 0;\n",
    "}\n"
   ]
  },
  {
   "cell_type": "code",
   "execution_count": 6,
   "metadata": {},
   "outputs": [
    {
     "name": "stdout",
     "output_type": "stream",
     "text": [
      "140145598166784 : hello 0\n",
      "140145589774080 : hello 0\n",
      "140145598166784 : hello 1\n",
      "140145589774080 : hello 1\n",
      "140145598166784 : hello 2\n",
      "140145589774080 : hello 2\n"
     ]
    }
   ],
   "source": [
    "//% cmd: ./hello_pthread"
   ]
  },
  {
   "cell_type": "markdown",
   "metadata": {},
   "source": [
    "## ポイント:\n",
    "\n",
    "* スレッドは並行して動作するので両者が混ざりあった結果になる\n",
    "* 1回表示する毎にusleepしているのは必須ではない\n",
    "* usleepしなくても多数回表示しているうちに混ざり合うが, 3回程度ではあまりならないので, usleepすることで人工的に混ざりやすいようにしている"
   ]
  },
  {
   "cell_type": "markdown",
   "metadata": {},
   "source": [
    "## 2-2. スレッドに引数を渡す\n",
    "\n",
    "* すべての実用的なユースケースでは各スレッドに異なる動作をさせる\n",
    "* そのためにpthread_createに異なる関数を渡すことも出来るが普通は, その関数に別の引数を与えて異なる動作をさせる\n",
    "* 先程のプログラムを微修正して, fに異なる引数を与える例\n",
    "* pthread_createに渡す関数はスレッドに複数の値を渡す, 返り値を受け取る, などからそのための構造体を作って"
   ]
  },
  {
   "cell_type": "code",
   "execution_count": 7,
   "metadata": {},
   "outputs": [],
   "source": [
    "//% file: pthread_arg.c\n",
    "//% cmd: gcc -O3 -Wall -Wextra -o pthread_arg pthread_arg.c -lpthread\n",
    "\n",
    "#include <stdio.h>\n",
    "#include <pthread.h>\n",
    "#include <unistd.h>\n",
    "\n",
    "/* スレッドに渡す情報を詰める構造体 */\n",
    "typedef struct {\n",
    "  pthread_t tid;\n",
    "  long id;\n",
    "  long n;                       /* 繰り返し数 */\n",
    "  long slp_us;                     /* 繰り返し間のsleep時間 */\n",
    "} thread_arg_t;\n",
    "\n",
    "/* スレッドに実行される関数\n",
    "   引数は void* 1つと決まっているが実際には thread_arg_tへのポインタ */\n",
    "void * f(void * arg_) {\n",
    "  thread_arg_t * arg = arg_;\n",
    "  long id = arg->id;\n",
    "  long n = arg->n;\n",
    "  long slp_us = arg->slp_us;\n",
    "  for (int i = 0; i < n; i++) {\n",
    "    printf(\"%ld : hello %d\\n\", id, i);\n",
    "    usleep(slp_us);                /* 100 μ秒 = 0.0001 秒休眠 */\n",
    "  }\n",
    "  return 0;\n",
    "}\n",
    "\n",
    "int main() {\n",
    "  thread_arg_t args[2];\n",
    "  /* スレッドを2個作る */\n",
    "  for (int i = 0; i < 2; i++) {\n",
    "    /* スレッドに渡す構造体に情報を詰める */\n",
    "    args[i].id = i;\n",
    "    args[i].n = (i + 1) * 5;\n",
    "    args[i].slp_us = 1000 / args[i].n;\n",
    "    pthread_create(&args[i].tid, NULL, f, &args[i]);\n",
    "  }\n",
    "  /* 終了待ち */\n",
    "  for (int i = 0; i < 2; i++) {\n",
    "    pthread_join(args[i].tid, NULL);\n",
    "  }\n",
    "  return 0;\n",
    "}\n"
   ]
  },
  {
   "cell_type": "code",
   "execution_count": 8,
   "metadata": {},
   "outputs": [
    {
     "name": "stdout",
     "output_type": "stream",
     "text": [
      "1 : hello 0\n",
      "1 : hello 1\n",
      "1 : hello 2\n",
      "1 : hello 3\n",
      "0 : hello 0\n",
      "1 : hello 4\n",
      "1 : hello 5\n",
      "0 : hello 1\n",
      "1 : hello 6\n",
      "1 : hello 7\n",
      "0 : hello 2\n",
      "1 : hello 8\n",
      "0 : hello 3\n",
      "1 : hello 9\n",
      "0 : hello 4\n"
     ]
    }
   ],
   "source": [
    "//% cmd: ./pthread_arg"
   ]
  },
  {
   "cell_type": "markdown",
   "metadata": {},
   "source": [
    "# 3. OpenMP\n",
    "\n",
    "* pthread_createを使ってスレッドを作ると, いちいちそのための関数を定義してそれに引数を渡すための構造体を作ったりと, 決まりきったことのために手間がかかる\n",
    "* OpenMPは並列処理のためのC/C++言語拡張で, スレッドを使った並列処理をするのであればこちらが簡単\n",
    "* 例えば上記で作った pthread_arg.c と同じものは以下で済む"
   ]
  },
  {
   "cell_type": "markdown",
   "metadata": {},
   "source": [
    "# 3-1. `#pragma omp parallel` ディレクティブ"
   ]
  },
  {
   "cell_type": "code",
   "execution_count": 9,
   "metadata": {},
   "outputs": [],
   "source": [
    "//% file: hello_omp.c\n",
    "//% cmd: gcc -fopenmp -o hello_omp hello_omp.c\n",
    "\n",
    "#include <stdio.h>\n",
    "#include <unistd.h>\n",
    "#include <omp.h>\n",
    "\n",
    "int main() {\n",
    "  /* 以下の { ... } を実行するスレッドを2個作る */\n",
    "#pragma omp parallel num_threads(2) \n",
    "  {\n",
    "    long id = omp_get_thread_num(); /*  0 または 1 の ID */\n",
    "    long n = (id + 1) * 5;\n",
    "    long slp_us = 1000 / n;\n",
    "    for (int i = 0; i < n; i++) {\n",
    "      printf(\"%ld : hello %d\\n\", id, i);\n",
    "      usleep(slp_us);                /* 100 μ秒 = 0.0001 秒休眠 */\n",
    "    }\n",
    "  }\n",
    "  return 0;\n",
    "}\n"
   ]
  },
  {
   "cell_type": "code",
   "execution_count": 10,
   "metadata": {},
   "outputs": [
    {
     "name": "stdout",
     "output_type": "stream",
     "text": [
      "0 : hello 0\n",
      "1 : hello 0\n",
      "1 : hello 1\n",
      "0 : hello 1\n",
      "1 : hello 2\n",
      "1 : hello 3\n",
      "0 : hello 2\n",
      "1 : hello 4\n",
      "0 : hello 3\n",
      "1 : hello 5\n",
      "1 : hello 6\n",
      "0 : hello 4\n",
      "1 : hello 7\n",
      "1 : hello 8\n",
      "1 : hello 9\n"
     ]
    }
   ],
   "source": [
    "//% cmd: ./hello_omp"
   ]
  },
  {
   "cell_type": "markdown",
   "metadata": {},
   "source": [
    "* 一般に\n",
    "```\n",
    "#pragma omp parallel num_threads(n)\n",
    "  文\n",
    "```\n",
    "で, 「文」を実行するスレッドをn個作る. num_threads(n)省略可能. 後にもう少し正確に述べる\n",
    "\n",
    "* 注意として, n個のスレッドが実行するのは, #pragma omp parallel の「直下の一文」のみ. 以下では hello が n回, good bye は1回だけ表示される. \n",
    "```\n",
    "#pragma omp parallel num_threads(n)\n",
    "  printf(\"hello\\n\");\n",
    "  printf(\"good bye\\n\");\n",
    "```\n",
    "\n",
    "* 複数の文を実行したければ複合文 { ... } にしたり, 関数呼び出しにすればよい. \n",
    "\n",
    "* #pragma omp parallel 全体はn個のスレッドすべてが「文」を実行し終えたら実行される. すなわち good bye は必ず hello すべての後に出力される\n",
    "\n",
    "* 「文」中で\n",
    "```\n",
    "omp_get_thread_num()\n",
    "```\n",
    "は, これを呼び出したスレッドがnスレッド中の何番目のスレッドなのかの番号(0〜n-1)を返す. これを使って異なる挙動をさせることができる.\n",
    "* 上記には出ていないが「文」中で\n",
    "```\n",
    "omp_get_num_threads()\n",
    "```\n",
    "は, 「文」を同時に実行しているスレッドの数(つまり上記のn)を返す. \n",
    "\n",
    "* OpenMPのスレッド = Pthreadのスレッドと思ってよく, したがってOpenMPのスレッドが普通にPthreadのプリミティブを利用可能"
   ]
  },
  {
   "cell_type": "markdown",
   "metadata": {},
   "source": [
    "# 3-2. `#pragma omp for` ディレクティブ\n",
    "\n",
    "* `#pragma omp parallel`によってnスレッドで実行されている文中に\n",
    "```\n",
    "#pragma omp for\n",
    "  for 文\n",
    "```\n",
    "と書くと, for文の繰り返しをn個のスレッドで分け合って実行する. \n",
    "\n",
    "* 例えば以下は10回の繰り返しを2個のスレッドで分け合って実行する"
   ]
  },
  {
   "cell_type": "code",
   "execution_count": 11,
   "metadata": {},
   "outputs": [],
   "source": [
    "//% file: hello_omp_for.c\n",
    "//% cmd: gcc -fopenmp -o hello_omp_for hello_omp_for.c\n",
    "\n",
    "#include <stdio.h>\n",
    "#include <unistd.h>\n",
    "#include <omp.h>\n",
    "\n",
    "int main() {\n",
    "#pragma omp parallel num_threads(2) \n",
    "  {\n",
    "    int id = omp_get_thread_num();\n",
    "    /* 以下のfor文の繰り返し(10回)が2スレッドで分割されて実行(つまり並列実行)される */\n",
    "#pragma omp for\n",
    "    for (int i = 0; i < 10; i++) {\n",
    "      printf(\"thread %d executes iteration %d\\n\", id, i);\n",
    "    }\n",
    "  }\n",
    "  return 0;\n",
    "}\n"
   ]
  },
  {
   "cell_type": "code",
   "execution_count": 12,
   "metadata": {},
   "outputs": [
    {
     "name": "stdout",
     "output_type": "stream",
     "text": [
      "thread 0 executes iteration 0\n",
      "thread 0 executes iteration 1\n",
      "thread 0 executes iteration 2\n",
      "thread 0 executes iteration 3\n",
      "thread 0 executes iteration 4\n",
      "thread 1 executes iteration 5\n",
      "thread 1 executes iteration 6\n",
      "thread 1 executes iteration 7\n",
      "thread 1 executes iteration 8\n",
      "thread 1 executes iteration 9\n"
     ]
    }
   ],
   "source": [
    "//% cmd: ./hello_omp_for"
   ]
  },
  {
   "cell_type": "markdown",
   "metadata": {},
   "source": [
    "* `#pragma omp parallel` と`#pragma omp for` を組み合わせることでお手軽に for 文の並列処理ができる\n",
    "* 注意: `#pragma omp parallel` はあくまで「全員が」同じ文を実行するもの, 言い換えれば「重複して実行する」文であったことに注意\n",
    "* 以下は2 x 10 = 20行の出力がなされる"
   ]
  },
  {
   "cell_type": "code",
   "execution_count": 13,
   "metadata": {},
   "outputs": [],
   "source": [
    "//% file: hello_omp_for_wrong.c\n",
    "//% cmd: gcc -O3 -Wall -Wextra -fopenmp -o hello_omp_for_wrong hello_omp_for_wrong.c\n",
    "\n",
    "#include <stdio.h>\n",
    "#include <unistd.h>\n",
    "#include <omp.h>\n",
    "\n",
    "int main() {\n",
    "  /* これはfor文の繰り返し全部(10回)をそれぞれのスレッドが実行するもの */\n",
    "#pragma omp parallel num_threads(2) \n",
    "  {\n",
    "    int id = omp_get_thread_num();\n",
    "    for (int i = 0; i < 10; i++) {\n",
    "      printf(\"thread %d executes iteration %d\\n\", id, i);\n",
    "    }\n",
    "  }\n",
    "  return 0;\n",
    "}\n"
   ]
  },
  {
   "cell_type": "code",
   "execution_count": 14,
   "metadata": {},
   "outputs": [
    {
     "name": "stdout",
     "output_type": "stream",
     "text": [
      "thread 1 executes iteration 0\n",
      "thread 1 executes iteration 1\n",
      "thread 1 executes iteration 2\n",
      "thread 1 executes iteration 3\n",
      "thread 1 executes iteration 4\n",
      "thread 1 executes iteration 5\n",
      "thread 1 executes iteration 6\n",
      "thread 1 executes iteration 7\n",
      "thread 1 executes iteration 8\n",
      "thread 1 executes iteration 9\n",
      "thread 0 executes iteration 0\n",
      "thread 0 executes iteration 1\n",
      "thread 0 executes iteration 2\n",
      "thread 0 executes iteration 3\n",
      "thread 0 executes iteration 4\n",
      "thread 0 executes iteration 5\n",
      "thread 0 executes iteration 6\n",
      "thread 0 executes iteration 7\n",
      "thread 0 executes iteration 8\n",
      "thread 0 executes iteration 9\n"
     ]
    }
   ],
   "source": [
    "//% cmd: ./hello_omp_for_wrong"
   ]
  },
  {
   "cell_type": "markdown",
   "metadata": {},
   "source": [
    "* `#pragma omp for` によって繰り返しがどのようにスレッドに分割されるかは色々と指定できるが深入りしない\n",
    " * 必要になったら, omp for schedule くらいでググってください\n",
    "\n",
    " * OpenMPや本格的な並列処理についてはまだ語るべきことがあるが, この演習では, 簡単にスレッドを何個か作ったり, 簡単にfor文を並列実行する手段として(のみ), OpenMPを使う. \n",
    "\n",
    " * OpenMPの仕様の詳細については https://www.openmp.org/wp-content/uploads/OpenMP4.0.0.pdf を参照"
   ]
  },
  {
   "cell_type": "markdown",
   "metadata": {},
   "source": [
    "# 3-3. `#pragma omp parallel` を実行するスレッド数\n",
    "\n",
    "`#pragma omp parallel` の直後の文を実際にいくつのスレッドで実行するかについての規則をすべて書くとややこしい. この演習で必要な範囲に限って述べる\n",
    "\n",
    "1. `omp_set_nested(1)`を実行しているかまたは環境変数`OMP_NESTED=true`が設定されている場合, 以下の3つのルールで定まる\n",
    " 1. num_threads(n)が指定されていればn\n",
    " 1. num_threadsが省略されており環境変数 OMP_NUM_THREADS=n が設定されていればn\n",
    " 1. どちらでもない場合実装依存だが典型的にはその環境のプロセッサ数\n",
    "1. `omp_set_nested(1)`を実行しておらず環境変数`OMP_NESTED=true`も設定されていない場合,\n",
    " 1. その`#pragma omp parallel`がもっとも外側にある場合(つまりすでに実行中の`#pragma omp parallel`の中で(入れ子に)実行されているのではない場合), 上記と同じ\n",
    " 1. そうでない場合1 (つまり, `#pragma omp parallel` が無視されたのと同じ状態)\n",
    "\n",
    "以下では`omp_set_nested(1)`を実行しておくことで, fを実行するスレッドをm個, gを実行するスレッドをn個生成している"
   ]
  },
  {
   "cell_type": "code",
   "execution_count": 15,
   "metadata": {},
   "outputs": [],
   "source": [
    "//% file: f_and_g.c\n",
    "//% cmd: gcc -O3 -Wall -Wextra -fopenmp -o f_and_g f_and_g.c\n",
    "\n",
    "#include <stdio.h>\n",
    "#include <stdlib.h>\n",
    "#include <unistd.h>\n",
    "#include <omp.h>\n",
    "\n",
    "void f(int nthreads) {\n",
    "  /* nthreadsスレッドで実行 */\n",
    "#pragma omp parallel num_threads(nthreads)\n",
    "  {\n",
    "    int id = omp_get_thread_num();\n",
    "    int nt = omp_get_num_threads();\n",
    "    printf(\"%d/%d: f\\n\", id, nt);\n",
    "  }\n",
    "}\n",
    "\n",
    "void g(int nthreads) {\n",
    "  /* nthreadsスレッドで実行 */\n",
    "#pragma omp parallel num_threads(nthreads)\n",
    "  {\n",
    "    int id = omp_get_thread_num();\n",
    "    int nt = omp_get_num_threads();\n",
    "    printf(\"%d/%d: g\\n\", id, nt);\n",
    "  }\n",
    "}\n",
    "\n",
    "int main(int argc, char ** argv) {\n",
    "  int m = (argc > 1 ? atoi(argv[1]) : 2);\n",
    "  int n = (argc > 2 ? atoi(argv[2]) : 3);\n",
    "  /* omp_set_nested(1)を実行しているので, 以降は基本的に指定した数のスレッドが出来る */\n",
    "  omp_set_nested(1);\n",
    "  /* 全体としてfをmスレッド, gをnスレッドが実行 */\n",
    "#pragma omp parallel num_threads(2) \n",
    "  {\n",
    "    int id = omp_get_thread_num();\n",
    "    if (id == 0) {\n",
    "      f(m);\n",
    "    } else if (id == 1) {\n",
    "      g(n);\n",
    "    }\n",
    "  }\n",
    "  return 0;\n",
    "}\n"
   ]
  },
  {
   "cell_type": "code",
   "execution_count": 16,
   "metadata": {},
   "outputs": [
    {
     "name": "stdout",
     "output_type": "stream",
     "text": [
      "0/2: f\n",
      "1/2: f\n",
      "2/3: g\n",
      "0/3: g\n",
      "1/3: g\n"
     ]
    }
   ],
   "source": [
    "//% cmd: ./f_and_g 2 3"
   ]
  },
  {
   "cell_type": "markdown",
   "metadata": {},
   "source": [
    "## 4 競合状態と同期"
   ]
  },
  {
   "cell_type": "markdown",
   "metadata": {},
   "source": [
    "## 4-1. 競合状態の概念\n",
    "\n",
    "* <font color=\"blue\">競合状態 (race condition)</font>とは以下の状態のこと\n",
    " * 並行に実行されている複数のスレッドが同じ場所(変数や配列の要素等)をアクセスしている\n",
    " * そのうちの少なくとも一つは書き込みをしている\n",
    "* 授業で説明したとおり, 競合状態のあるプログラムは大概の場合間違ったプログラムで, 結果が正しく計算されない, 毎回結果が違う, などの現象がおきうる\n",
    "* 以下ではまずそれを体験する\n",
    "\n",
    "* 以下は1つのスレッドがxを1000000回インクリメント (+1) するだけの単純なコード"
   ]
  },
  {
   "cell_type": "code",
   "execution_count": 17,
   "metadata": {},
   "outputs": [],
   "source": [
    "//% file: update_x_1.c\n",
    "//% cmd: gcc -O3 -Wall -Wextra -fopenmp -o update_x_1 update_x_1.c\n",
    "\n",
    "\n",
    "#include <assert.h>\n",
    "#include <stdio.h>\n",
    "#include <unistd.h>\n",
    "#include <omp.h>\n",
    "#include <pthread.h>\n",
    "\n",
    "int main() {\n",
    "  volatile long x = 0;\n",
    "  for (long i = 0; i < 1000000; i++) {\n",
    "    x++;\n",
    "  }\n",
    "  printf(\"x = %ld\\n\", x); fflush(stdout);\n",
    "  return 0;\n",
    "}\n"
   ]
  },
  {
   "cell_type": "markdown",
   "metadata": {},
   "source": [
    "* 当然結果は1000000と表示される"
   ]
  },
  {
   "cell_type": "code",
   "execution_count": 18,
   "metadata": {},
   "outputs": [
    {
     "name": "stdout",
     "output_type": "stream",
     "text": [
      "x = 1000000\n"
     ]
    }
   ],
   "source": [
    "//%cmd: ./update_x_1"
   ]
  },
  {
   "cell_type": "markdown",
   "metadata": {},
   "source": [
    "# <font color=\"blue\"><b>課題1-2:</b></font> 競合状態を経験する\n",
    "\n",
    "* _上記の for文を実行するスレッドを二つにして実行せよ_ \n",
    "* _2つのスレッドがそれぞれ x++ を 1000000回実行する. 合計で 2000000回実行される._\n",
    "* ヒント: OpenMPのpragma omp parallelを使えば修正は1行だけ!"
   ]
  },
  {
   "cell_type": "code",
   "execution_count": 19,
   "metadata": {},
   "outputs": [],
   "source": [
    "//% file: update_x_2.c\n",
    "//% cmd: gcc -O3 -Wall -Wextra -fopenmp -o update_x_2 update_x_2.c\n",
    "\n",
    "/* ------- このセルを修正して解答を書け. write your answer here ------- */\n",
    "\n",
    "#include <assert.h>\n",
    "#include <stdio.h>\n",
    "#include <unistd.h>\n",
    "#include <omp.h>\n",
    "#include <pthread.h>\n",
    "\n",
    "int main() {\n",
    "  volatile long x = 0;\n",
    "#pragma omp parallel num_threads(2) \n",
    "  for (long i = 0; i < 1000000; i++) {\n",
    "    x++;\n",
    "  }\n",
    "  printf(\"x = %ld\\n\", x); fflush(stdout);\n",
    "  return 0;\n",
    "}\n"
   ]
  },
  {
   "cell_type": "markdown",
   "metadata": {},
   "source": [
    "* 結果が 20000000 にはならないこと(偶然なる可能性もあるが), 実行する度に結果が違うことを, 以下を何度も実行して確認してみよ."
   ]
  },
  {
   "cell_type": "code",
   "execution_count": 20,
   "metadata": {},
   "outputs": [
    {
     "name": "stdout",
     "output_type": "stream",
     "text": [
      "x = 1289136\n"
     ]
    }
   ],
   "source": [
    "/* ------- このセルを実行して結果を確かめよ Execute this cell and check the result ------- */\n",
    "//%cmd: ./update_x_2"
   ]
  },
  {
   "cell_type": "markdown",
   "metadata": {},
   "source": [
    "注:\n",
    " * ちなみにもちろんこの例は, xに10000000回, 1ずつ足すなどというおよそ意味のない計算で, だったらはじめからxに10000000を足せば良い. ただしそれにしても競合状態があることには変わりない. この例では競合状態が実際の間違いにつながる確率を高めるためにあえて1を10000000回足す, などということをしている\n",
    " * `volatile long x;` の `volatile` の意味を正確に説明するのは難しいが, 大雑把に言えば「xに対するアクセスは書かれた通りにやれ. 勝手に最適化して省略するな」という指示. これがないとコンパイラが勝手に上記のループを, `x += 10000000` と等価なものに変換する可能性もある. それをするなということ. これも誤動作の確率を高めるための(実用上ではなく, 教育上の)ミニ工夫. あってもなくても競合状態があることには代わりはない."
   ]
  },
  {
   "cell_type": "markdown",
   "metadata": {},
   "source": [
    "## 4-2. 同期の概念\n",
    "\n",
    "* <font color=\"blue\">「同期 (synchronization)」</font>という言葉は, 一般には「タイミングを揃える」という意味\n",
    "* 並行プログラミングの文脈では, 放っておくと競合状態にあるプログラムにおいて, 二つの操作AとBが起きる<font color=\"blue\">順番を制御</font>したり, AとBが<font color=\"blue\">不可分(atomic)</font>に実行される(混ざりながら実行されない)ようにする, という意味で使われる\n",
    "* 同期と言っても目的に応じていくつかの種類があるので以下では重要なものを演習する"
   ]
  },
  {
   "cell_type": "markdown",
   "metadata": {},
   "source": [
    "## 4-3. 排他制御 (mutual exclusion)\n",
    "\n",
    "* <font color=\"blue\">排他制御</font>は「あるスレッドがAをしている間, 他のスレッドにはBをさせない」という目的にのために使われる\n",
    "* 比喩は「一人しか入れない部屋」. 誰かが入っている間は他の人は入れない\n",
    "* 英語はmutual exclusionで, 略して mutex (ミューテックス)と言うことがほとんど\n",
    "* ロック(lock)と呼ばれることも多い. 部屋に入る=鍵をかける=lockする\n",
    "* API (詳しくはman を読むこと)\n",
    " * `pthread_mutex_t` m; mutexのためのデータ構造\n",
    " * `pthread_mutex_init(&m, ...)`; 初期化\n",
    " * `pthread_mutex_lock(&m)`; lockをする(部屋に入る)\n",
    " * `pthread_mutex_unlock(&m)`; lockを開放する(部屋から出る)"
   ]
  },
  {
   "cell_type": "markdown",
   "metadata": {},
   "source": [
    "# <font color=\"blue\"><b>課題1-3:</b></font> 排他制御で不可分な更新を行う\n",
    "\n",
    "* 前課題で作ったプログラムにmutexを導入して正しく動作する(つまりxが2000000になる)ようにせよ"
   ]
  },
  {
   "cell_type": "code",
   "execution_count": 21,
   "metadata": {},
   "outputs": [],
   "source": [
    "//% file: update_x_3.c\n",
    "//% cmd: gcc -O3 -Wall -Wextra -fopenmp -o update_x_3 update_x_3.c\n",
    "\n",
    "/* ------- このセルを修正して解答を書け. write your answer here ------- */\n",
    "\n",
    "#include <assert.h>\n",
    "#include <stdio.h>\n",
    "#include <unistd.h>\n",
    "#include <omp.h>\n",
    "#include <pthread.h>\n",
    "\n",
    "int main() {\n",
    "  volatile long x = 0;\n",
    "  pthread_mutex_t m;\n",
    "  pthread_mutex_init(&m, NULL);\n",
    "#pragma omp parallel num_threads(2) \n",
    "  for (long i = 0; i < 1000000; i++) {\n",
    "    pthread_mutex_lock(&m);\n",
    "    x++;\n",
    "    pthread_mutex_unlock(&m);\n",
    "  }\n",
    "  printf(\"x = %ld\\n\", x); fflush(stdout);\n",
    "  assert(x == 2 * 1000000);\n",
    "  return 0;\n",
    "}\n"
   ]
  },
  {
   "cell_type": "code",
   "execution_count": 22,
   "metadata": {},
   "outputs": [
    {
     "name": "stdout",
     "output_type": "stream",
     "text": [
      "x = 2000000\n"
     ]
    }
   ],
   "source": [
    "/* ------- このセルを実行して結果を確かめよ Execute this cell and check the result ------- */\n",
    "//% cmd: ./update_x_3"
   ]
  },
  {
   "cell_type": "markdown",
   "metadata": {},
   "source": [
    "## 同期の内包(encapsulation), スレッドセーフティの概念\n",
    "\n",
    "* あるデータ(今の例ではx)を触るのに同期(今の例では排他制御)が必要という時, そのためのデータ(今の例ではm)を別の変数として導入してユーザがそれを使って同期をしなくてはいけないというのは面倒なことこの上ない\n",
    "* データそのものと, それにアクセスするのに必要な同期のためのデータ構造をひとまとめにしたもの(構造体)を作り, 行う操作は関数呼び出しにして, 使う方が特別な注意をしなくても良いようにする---同期をデータ構造の中に内包(encapsulate)する---というのが基本である\n",
    "* 特段難しいことではなく, 今の場合であればデータ(x)とmutex (m)をセットにした構造体を作れば良い. 名前は, counter_t とでもしておくのが適切だろう\n",
    "* また, 必要な同期が内包されていて呼び出すだけで複数スレッドから使えるようになっているデータ構造や関数を, 「スレッドセーフ(thread safe)」である, と呼ぶ"
   ]
  },
  {
   "cell_type": "code",
   "execution_count": 23,
   "metadata": {},
   "outputs": [],
   "source": [
    "//% file: counter.c\n",
    "//% cmd: gcc -O3 -Wall -Wextra -fopenmp -o counter counter.c \n",
    "\n",
    "#include <stdio.h>\n",
    "#include <unistd.h>\n",
    "#include <omp.h>\n",
    "#include <pthread.h>\n",
    "\n",
    "/* counter_t : スレッドセーフなカウンタ(同期が内包されたデータ構造) */\n",
    "typedef struct {\n",
    "  pthread_mutex_t m[1];         /* mutexを内包 */\n",
    "  volatile long x;\n",
    "} counter_t;\n",
    "\n",
    "/* counterの初期化 */\n",
    "void counter_init(counter_t * c) {\n",
    "  pthread_mutex_init(c->m, NULL);\n",
    "  c->x = 0;\n",
    "}\n",
    "\n",
    "/* counterに+1 */\n",
    "void counter_inc(counter_t * c) {\n",
    "  pthread_mutex_lock(c->m);\n",
    "  c->x++;\n",
    "  pthread_mutex_unlock(c->m);\n",
    "}\n",
    "\n",
    "/* counterの値を取り出す */\n",
    "long counter_get(counter_t * c) {\n",
    "  return c->x;\n",
    "}\n",
    "\n",
    "int main() {\n",
    "  counter_t c[1];\n",
    "  counter_init(c);\n",
    "#pragma omp parallel\n",
    "  {\n",
    "    for (long i = 0; i < 10000000; i++) {\n",
    "      counter_inc(c);\n",
    "    }\n",
    "  }\n",
    "  printf(\"x = %ld\\n\", counter_get(c));\n",
    "  return 0;\n",
    "}\n"
   ]
  },
  {
   "cell_type": "code",
   "execution_count": 24,
   "metadata": {},
   "outputs": [
    {
     "name": "stdout",
     "output_type": "stream",
     "text": [
      "x = 20000000\n"
     ]
    }
   ],
   "source": [
    "//% cmd: OMP_NUM_THREADS=2 ./counter"
   ]
  },
  {
   "cell_type": "code",
   "execution_count": 25,
   "metadata": {},
   "outputs": [
    {
     "name": "stdout",
     "output_type": "stream",
     "text": [
      "x = 100000000\n"
     ]
    }
   ],
   "source": [
    "//% cmd: OMP_NUM_THREADS=10 ./counter"
   ]
  },
  {
   "cell_type": "markdown",
   "metadata": {},
   "source": [
    "プログラム全体は明らかに長くなっているが, main関数がきれいに書けている"
   ]
  },
  {
   "cell_type": "markdown",
   "metadata": {},
   "source": [
    "## 4-4. 条件変数 (condition variables)\n",
    "\n",
    "* <font color=\"blue\">条件変数(condition variable)</font>は「ある条件が成り立つまでスレッドを待たせる」ための一般的な仕組み(一般的であるがゆえにはじめは概念を理解しづらいかも知れない)\n",
    "* よくある状況は, AとBを「A -> Bの順序で実行したい」という状況. 排他制御は「AとBを同時に実行しない」というだけで特定の順序を保証することは出来なかった事に注意\n",
    " * 典型的に A がある変数への書き込みでBがそれを読む, という場合. 正しく値をを受け渡すために, Aが書き込みを終えてからBが読むことを保証したい\n",
    " * 逆のケースもある. Aが読み込みで, Bが書き込み. Aの読み出しが終わってからでないと, 同じ変数を別の目的に使えないので, Aが読み出した後Bが書き込むことを保証したい"
   ]
  },
  {
   "cell_type": "markdown",
   "metadata": {},
   "source": [
    "* 以下はスレッド0がxに12345を書き込み, もう一つのスレッドがそれを読み出すプログラム\n",
    " * もちろんこのままでは正しく動かない\n",
    " * なおここでは間違いが起きやすいように, スレッド0が書き込む前に usleep(100) (100μ秒寝る)をしているがこれがなくても間違ったプログラムであることに変わりはない"
   ]
  },
  {
   "cell_type": "code",
   "execution_count": 26,
   "metadata": {},
   "outputs": [],
   "source": [
    "//% file: race2.c\n",
    "//% cmd: gcc -O3 -Wall -Wextra -fopenmp -o race2 race2.c\n",
    "\n",
    "#include <assert.h>\n",
    "#include <stdio.h>\n",
    "#include <stdlib.h>\n",
    "#include <unistd.h>\n",
    "#include <omp.h>\n",
    "\n",
    "int main() {\n",
    "  volatile long x = 0;\n",
    "#pragma omp parallel num_threads(2)\n",
    "  {\n",
    "    int id = omp_get_thread_num();\n",
    "    if (id == 0) {\n",
    "      usleep(100);\n",
    "      x = 12345;\n",
    "    } else {\n",
    "      printf(\"x = %ld\\n\", x); fflush(stdout);\n",
    "      assert(x == 12345);\n",
    "    }\n",
    "  }\n",
    "  return 0;\n",
    "}\n",
    "\n"
   ]
  },
  {
   "cell_type": "code",
   "execution_count": 27,
   "metadata": {},
   "outputs": [
    {
     "name": "stdout",
     "output_type": "stream",
     "text": [
      "x = 0\n"
     ]
    },
    {
     "name": "stderr",
     "output_type": "stream",
     "text": [
      "race2: race2.c:20: main: Assertion `x == 12345' failed.\n",
      "[C kernel] command exited with code -6, subsequent commands will not be executed"
     ]
    }
   ],
   "source": [
    "//% cmd: ./race2"
   ]
  },
  {
   "cell_type": "markdown",
   "metadata": {},
   "source": [
    "* 条件変数の使い方: ある条件 COND が成り立つまで待ちたい時のパターンは以下\n",
    "\n",
    "```\n",
    "pthread_mutex_lock(m);\n",
    "while (!COND)\n",
    "  pthread_cond_wait(c, m);\n",
    "pthread_mutex_unlock(m);\n",
    "```\n",
    "\n",
    "一見するとなぜこんなややこしいコードが必要なのかわかりにくい. 授業で説明している.\n",
    "\n",
    "結局今のケースは以下のようになる."
   ]
  },
  {
   "cell_type": "code",
   "execution_count": 28,
   "metadata": {},
   "outputs": [],
   "source": [
    "//% file: hello_cond.c\n",
    "//% cmd: gcc -fopenmp -o hello_cond hello_cond.c\n",
    "\n",
    "#include <assert.h>\n",
    "#include <stdio.h>\n",
    "#include <unistd.h>\n",
    "#include <omp.h>\n",
    "#include <pthread.h>\n",
    "\n",
    "int main() {\n",
    "  volatile long x = 0;\n",
    "  pthread_mutex_t m[1];\n",
    "  pthread_cond_t c[1];\n",
    "  pthread_mutex_init(m, NULL);  /* mutex初期化 */\n",
    "  pthread_cond_init(c, NULL);  /* 条件変数初期化 */\n",
    "#pragma omp parallel num_threads(2)\n",
    "  {\n",
    "    int id = omp_get_thread_num();\n",
    "    if (id == 0) {\n",
    "      usleep(100);\n",
    "      pthread_mutex_lock(m);\n",
    "      x = 12345;\n",
    "      pthread_cond_broadcast(c); /* スレッド1が寝てたら起こす */\n",
    "      pthread_mutex_unlock(m);\n",
    "    } else {\n",
    "      pthread_mutex_lock(m);\n",
    "      while (x == 0) {\n",
    "        pthread_cond_wait(c, m); /* まだ書かれてなかったら寝る(mは解放する. 起きたときはまた取得している) */\n",
    "      }\n",
    "      pthread_mutex_unlock(m);\n",
    "      printf(\"x = %ld\\n\", x);\n",
    "      assert(x == 12345);\n",
    "      printf(\"OK\\n\");\n",
    "    }\n",
    "  }\n",
    "  return 0;\n",
    "}\n"
   ]
  },
  {
   "cell_type": "code",
   "execution_count": 29,
   "metadata": {},
   "outputs": [
    {
     "name": "stdout",
     "output_type": "stream",
     "text": [
      "x = 12345\n",
      "OK\n"
     ]
    }
   ],
   "source": [
    "//% cmd: ./hello_cond"
   ]
  },
  {
   "cell_type": "markdown",
   "metadata": {},
   "source": [
    "# 同期を内包した構造への変更\n",
    "\n",
    "* ここでもひとつの値xを正しく受け渡したいだけなのにm, cと余分な変数を作り, 見にくいコードを書く羽目になっているので同期を内包したプログラムへの変更を試みる\n",
    "* ここで実現すべきは, 値の書き込み(put), 値の読み出し(get)という二つの操作が可能で, かつgetはputがなされるまでは値を読み出さない, というデータ構造と関数である\n",
    "* 簡単のためputは一度しか行われないとする\n",
    "* wo_var_t (write-once variable)と命名する"
   ]
  },
  {
   "cell_type": "code",
   "execution_count": 30,
   "metadata": {},
   "outputs": [],
   "source": [
    "//% file: wo_var.c\n",
    "//% cmd: gcc -O3 -Wall -Wextra -fopenmp -o wo_var wo_var.c\n",
    "\n",
    "#include <assert.h>\n",
    "#include <stdio.h>\n",
    "#include <unistd.h>\n",
    "#include <omp.h>\n",
    "#include <pthread.h>\n",
    "\n",
    "/* write-once 変数\n",
    "   あるスレッドがwo_var_put(v, x);\n",
    "   あるスレッドがwo_var_get(v);\n",
    "   とすると確実にxが読み出される.\n",
    "   つまりgetがput後に行われることを保証する */\n",
    "\n",
    "typedef struct {\n",
    "  long val;\n",
    "  pthread_mutex_t m[1];\n",
    "  pthread_cond_t c[1];\n",
    "} wo_var_t;\n",
    "\n",
    "/* 初期化 */\n",
    "void wo_var_init(wo_var_t * v) {\n",
    "  pthread_mutex_init(v->m, NULL);\n",
    "  pthread_cond_init(v->c, NULL);\n",
    "  v->val = 0;\n",
    "}\n",
    "\n",
    "/* v に x を書く */\n",
    "void wo_var_put(wo_var_t * v, long x) {\n",
    "  pthread_mutex_lock(v->m);\n",
    "  v->val = x;\n",
    "  pthread_cond_broadcast(v->c);\n",
    "  pthread_mutex_unlock(v->m);\n",
    "}\n",
    "\n",
    "/* v を読み出す. ただし put がされるまで待つ */\n",
    "long wo_var_get(wo_var_t * v) {\n",
    "  pthread_mutex_lock(v->m);\n",
    "  while (v->val == 0) {\n",
    "    pthread_cond_wait(v->c, v->m);\n",
    "  }\n",
    "  pthread_mutex_unlock(v->m);\n",
    "  return v->val;\n",
    "}\n",
    "\n",
    "int main() {\n",
    "  wo_var_t v[1];\n",
    "  wo_var_init(v);\n",
    "#pragma omp parallel num_threads(2)\n",
    "  {\n",
    "    int id = omp_get_thread_num();\n",
    "    if (id == 0) {\n",
    "      usleep(100);\n",
    "      wo_var_put(v, 12345);\n",
    "    } else {\n",
    "      long x = wo_var_get(v);\n",
    "      printf(\"x = %ld\\n\", x);\n",
    "      assert(x == 12345);\n",
    "      printf(\"OK\\n\");\n",
    "    }\n",
    "  }\n",
    "  return 0;\n",
    "}\n"
   ]
  },
  {
   "cell_type": "code",
   "execution_count": 31,
   "metadata": {},
   "outputs": [
    {
     "name": "stdout",
     "output_type": "stream",
     "text": [
      "x = 12345\n",
      "OK\n"
     ]
    }
   ],
   "source": [
    "//% cmd: ./wo_var"
   ]
  }
 ],
 "metadata": {
  "kernelspec": {
   "display_name": "C",
   "language": "c",
   "name": "c_kernel"
  },
  "language_info": {
   "file_extension": ".c",
   "mimetype": "text/plain",
   "name": "c"
  }
 },
 "nbformat": 4,
 "nbformat_minor": 2
}
