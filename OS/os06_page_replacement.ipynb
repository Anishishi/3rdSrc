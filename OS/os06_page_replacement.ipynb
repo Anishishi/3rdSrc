{
 "cells": [
  {
   "cell_type": "markdown",
   "metadata": {},
   "source": [
    "# オペレーティングシステム 演習 6\n",
    "# ページ置換アルゴリズムの観察"
   ]
  },
  {
   "cell_type": "markdown",
   "metadata": {},
   "source": [
    "**このセルを編集して, 名前と学生証番号を書け.**\n",
    "\n",
    " * 名前 Name : 03-190503\n",
    " * 学生証番号 Student ID : 西山　晃人\n",
    "\n",
    "**書けたら Shift + Enter で実行(入力を確定)させ, 保存(`Ctrl-S`)せよ**"
   ]
  },
  {
   "cell_type": "markdown",
   "metadata": {},
   "source": [
    "## 1. はじめに\n",
    "\n",
    "* 演習 5 において, 物理メモリ量 (通常は搭載物理メモリ量. ただし先の実験においてはcgroups を用いて 256MB という人工的な制限を課していた) を上回るメモリ領域をアクセスするとメジャーページフォルトが多数発生し, 急激に性能が低下することを見た\n",
    "\n",
    "* OSがどのページをメモリ上に置くかのアルゴリズムの基本は, 「古いものを捨て, 新しいものは残す」ということ\n",
    " * 古い = 長らくアクセスされていない, 新しい = 最近アクセスされた, ということ\n",
    "* これを完全に行ったのが LRU (Least Recently Used)置換というもの\n",
    " * LRU置換では, 捨てなくてはいけないページを選ぶ際, 最後にアクセスされたのがもっとも古い時点であるものを捨てる\n",
    "* 実際のOSはLRU置換を近似している\n",
    " * 厳密な順番を管理する代わりに, ある頻度で区間を区切り, 各区間でのアクセスの有無を記録する"
   ]
  },
  {
   "cell_type": "markdown",
   "metadata": {},
   "source": [
    "## 2. 常駐メモリの取得と記録\n",
    "\n",
    "* Linuxにはmincoreというシステムコールがあり, 指定した範囲のどのページに, 現在物理メモリが割り当てられているかを知ることが出来る\n",
    "* 以下はそれを利用して,\n",
    " * A MBの配列を用意\n",
    " * その全ページを順にアクセスする. それをB回繰り返す\n",
    " * 時折, mincore を読んで配列中のどの部分が物理メモリにあるかを記録する\n",
    "\n",
    "ということをするプログラム"
   ]
  },
  {
   "cell_type": "code",
   "execution_count": 1,
   "metadata": {},
   "outputs": [],
   "source": [
    "//% file: record_incore_1.c\n",
    "//% cmd: gcc -O3 -Wall -Wextra -o record_incore_1 record_incore_1.c\n",
    "\n",
    "\n",
    "#include <assert.h>\n",
    "#include <stdio.h>\n",
    "#include <stdlib.h>\n",
    "#include <string.h>\n",
    "#include <sys/time.h>\n",
    "#include <sys/resource.h>\n",
    "#include <unistd.h>\n",
    "#include <sys/mman.h>\n",
    "\n",
    "void die(const char * s) {\n",
    "  perror(s);\n",
    "  exit(1);\n",
    "}\n",
    "\n",
    "void die2(int err, const char * s) {\n",
    "  fprintf(stderr, \"%s: %s\\n\", s, strerror(err));\n",
    "  exit(1);\n",
    "}\n",
    "\n",
    "/* ページサイズ */\n",
    "const long page_sz = 1 << 12;     /* 4096 */\n",
    "\n",
    "/* 秒単位で時刻を返す.\n",
    "   初めて呼び出された時が時刻0 */\n",
    "double cur_time() {\n",
    "  static long t0 = 0;\n",
    "  struct timeval tp[1];\n",
    "  gettimeofday(tp, 0);\n",
    "  long t = tp->tv_sec * 1000000 + tp->tv_usec;\n",
    "  if (t0 == 0) t0 = t;\n",
    "  return (t - t0) * 1.0e-6;\n",
    "}\n",
    "\n",
    "typedef struct {\n",
    "  FILE * wp;                    /* 保存するファイル */\n",
    "  void * a;                     /* アクセスしている配列の先頭ページ */\n",
    "  long sz;                      /* アクセスしている配列のサイズ(ページの先頭から最後まで) */\n",
    "  unsigned char * v;            /* mincoreの結果を受け取るバッファ */\n",
    "  long n_pages;                 /* ページ数(vの要素数) */\n",
    "} incore_records_t;\n",
    "\n",
    "/* a から始まる sz バイトに対応する記録を準備 */\n",
    "incore_records_t * mk_incore_records(void * a, long sz, const char * filename) {\n",
    "  long begin = (long)a;\n",
    "  long end   = (long)(a + sz + page_sz - 1);\n",
    "  void * begin_aligned = (void*) (begin - begin % page_sz); /* aを含むページの先頭 */\n",
    "  void * end_aligned   = (void*) (end   - end % page_sz);   /* a+sz-1を含むページの次のページの先頭 */\n",
    "  long sz_aligned = end_aligned - begin_aligned;\n",
    "  long n_pages = sz_aligned / page_sz; /* ページ数 */\n",
    "  unsigned char * v = calloc(1, n_pages); /* mincoreの結果を受け取るバッファ */\n",
    "  if (!v) die(\"malloc\");\n",
    "  FILE * wp = fopen(filename, \"w\"); /* 結果を書き込む */\n",
    "  if (!wp) die(\"fopen\");\n",
    "  incore_records_t * ir = malloc(sizeof(incore_records_t));\n",
    "  if (!ir) die(\"malloc\");\n",
    "  ir->a = begin_aligned;\n",
    "  ir->sz = sz_aligned;\n",
    "  ir->n_pages = n_pages;\n",
    "  ir->v = v;\n",
    "  ir->wp = wp;\n",
    "  return ir;\n",
    "}\n",
    "\n",
    "/* 時刻やページフォルトの回数を記録 */\n",
    "void record_incore(incore_records_t * ir, void * last_addr) {\n",
    "  /* get current time */\n",
    "  double t = cur_time();\n",
    "  unsigned char * v = ir->v;\n",
    "  long n_pages = ir->n_pages;\n",
    "  FILE * wp = ir->wp;\n",
    "  if (mincore(ir->a, ir->sz, v) == -1) die(\"mincore\");\n",
    "\n",
    "  /* 記録の仕方: 0がA個, 1がB個, 0がC個, 1がD個, ... に対して A B C D ...\n",
    "     を記録する(run length圧縮).\n",
    "     それ以外に時刻と, 直近にアクセスした場所(何ページ目か)を記録 */\n",
    "  unsigned char c = 0;\n",
    "  size_t x = 0;\n",
    "  fprintf(wp, \"%f\", t);         /* 時刻 */\n",
    "  fprintf(wp, \" %lu\", (last_addr - ir->a) / page_sz); /* 直近のページ */\n",
    "  /* run-length 符号化 */\n",
    "  for (long i = 0; i < n_pages; i++) {\n",
    "    if (v[i] != c) {\n",
    "      fprintf(wp, \" %lu\", x);\n",
    "      c = v[i];\n",
    "      x = 0;\n",
    "    }\n",
    "    x++;\n",
    "  }\n",
    "  assert(x > 0);\n",
    "  fprintf(wp, \" %lu\", x);\n",
    "  /* 改行 */\n",
    "  fprintf(wp, \"\\n\");\n",
    "}\n",
    "\n",
    "/* 記録された時刻とページフォルト数をファイルに保存 */\n",
    "void save_records(incore_records_t * ir) {\n",
    "  fclose(ir->wp);\n",
    "}\n",
    "\n",
    "/* 記録の間隔(アクセス数). 1MB分のページを触る毎に記録 */\n",
    "const long record_interval = 59;\n",
    "\n",
    "/* A MB 割り当ててそれを B 回スキャンする.\n",
    "   記録を log に書く */\n",
    "int main(int argc, char ** argv) {\n",
    "  long A = (argc > 1 ? atol(argv[1]) : 128);\n",
    "  long B = (argc > 2 ? atol(argv[2]) : 3);\n",
    "  char * log = (argc > 3 ? argv[3] : \"incore.log\");\n",
    "  long sz = A * 1024L * 1024L;\n",
    "  cur_time();\n",
    "  /* A MB割当て. posix_memalign で先頭アドレスがページの先頭に来るように */\n",
    "  char * a = 0;\n",
    "  int err = posix_memalign((void **)&a, page_sz, sz);\n",
    "  if (err) die2(err, \"posix_memalign\");\n",
    "  incore_records_t * ir = mk_incore_records(a, sz, log);\n",
    "  /* (A MB 中のページ数) x B 回 ページをアクセス */\n",
    "  long n_accesses = sz / page_sz * B;\n",
    "  long j = 0;\n",
    "  for (long k = 0; k < n_accesses; k++) {\n",
    "    a[j % sz]++;\n",
    "    if (k % record_interval == 0) record_incore(ir, &a[j % sz]);\n",
    "    j += page_sz;\n",
    "  }\n",
    "  save_records(ir);\n",
    "  return 0;\n",
    "}\n"
   ]
  },
  {
   "cell_type": "markdown",
   "metadata": {},
   "source": [
    "199MB を 3回"
   ]
  },
  {
   "cell_type": "code",
   "execution_count": 2,
   "metadata": {},
   "outputs": [
    {
     "name": "stdout",
     "output_type": "stream",
     "text": [
      "0.11user 1.15system 0:12.93elapsed 9%CPU (0avgtext+0avgdata 205452maxresident)k\n",
      "16448inputs+488outputs (2046major+54815minor)pagefaults 0swaps\n"
     ]
    }
   ],
   "source": [
    "//% cmd: /usr/bin/time ./record_incore_1 199 3 incore199x3.log 2>&1"
   ]
  },
  {
   "cell_type": "markdown",
   "metadata": {},
   "source": [
    "実行したら, os06_page_replacement_visualize.ipynb を開いて, 可視化してみよ"
   ]
  },
  {
   "cell_type": "markdown",
   "metadata": {},
   "source": [
    "293MB を 3回"
   ]
  },
  {
   "cell_type": "code",
   "execution_count": 3,
   "metadata": {},
   "outputs": [
    {
     "name": "stdout",
     "output_type": "stream",
     "text": [
      "0.77user 75.66system 2:40.94elapsed 47%CPU (0avgtext+0avgdata 231828maxresident)k\n",
      "1200256inputs+26552outputs (149996major+75120minor)pagefaults 0swaps\n"
     ]
    }
   ],
   "source": [
    "//% cmd: /usr/bin/time ./record_incore_1 293 3 incore293x3.log 2>&1"
   ]
  },
  {
   "cell_type": "markdown",
   "metadata": {},
   "source": [
    "同様に, os06_page_replacement_visualize.ipynb を開いて, 可視化してみよ"
   ]
  },
  {
   "cell_type": "markdown",
   "metadata": {},
   "source": [
    "## <font color=\"blue\">課題 6-1:</font> アクセスパターンに変化を持たせてみる\n",
    "\n",
    "* 全ページを頭から終わりまでアクセスするという単純過ぎるアクセスパターンに少し変化を持たせてみる\n",
    "\n",
    "* 以下を変更して, ページを5つ飛ばしでアクセスするようにせよ\n",
    "\n",
    "* 注: プログラムの挙動について\n",
    "```\n",
    "./record_incore_2 A B FILE\n",
    "```\n",
    "とすると, \n",
    " * A MBの配列を用意\n",
    " * (A MB / ページサイズ * B) 回, 配列の要素をアクセスする\n",
    " * j 回目のアクセスは,  a[j * 5 * ページサイズ % 配列サイズ] をアクセスする(したがって1週目と2周目では違う要素をアクセスするかもしれない)\n",
    "\n",
    "* 可視化したらどんな結果が見えるかを予想してみよ"
   ]
  },
  {
   "cell_type": "code",
   "execution_count": 5,
   "metadata": {},
   "outputs": [],
   "source": [
    "//% file: record_incore_2.c\n",
    "//% cmd: gcc -O3 -Wall -Wextra -o record_incore_2 record_incore_2.c\n",
    "\n",
    "/* ------- このセルを修正して解答を書け. write your answer here ------- */\n",
    "\n",
    "#include <assert.h>\n",
    "#include <stdio.h>\n",
    "#include <stdlib.h>\n",
    "#include <string.h>\n",
    "#include <sys/time.h>\n",
    "#include <sys/resource.h>\n",
    "#include <unistd.h>\n",
    "#include <sys/mman.h>\n",
    "\n",
    "void die(const char * s) {\n",
    "  perror(s);\n",
    "  exit(1);\n",
    "}\n",
    "\n",
    "void die2(int err, const char * s) {\n",
    "  fprintf(stderr, \"%s: %s\\n\", s, strerror(err));\n",
    "  exit(1);\n",
    "}\n",
    "\n",
    "/* ページサイズ */\n",
    "const long page_sz = 1 << 12;     /* 4096 */\n",
    "\n",
    "/* 秒単位で時刻を返す.\n",
    "   初めて呼び出された時が時刻0 */\n",
    "double cur_time() {\n",
    "  static long t0 = 0;\n",
    "  struct timeval tp[1];\n",
    "  gettimeofday(tp, 0);\n",
    "  long t = tp->tv_sec * 1000000 + tp->tv_usec;\n",
    "  if (t0 == 0) t0 = t;\n",
    "  return (t - t0) * 1.0e-6;\n",
    "}\n",
    "\n",
    "typedef struct {\n",
    "  FILE * wp;                    /* 保存するファイル */\n",
    "  void * a;                     /* アクセスしている配列の先頭ページ */\n",
    "  long sz;                      /* アクセスしている配列のサイズ(ページの先頭から最後まで) */\n",
    "  unsigned char * v;            /* mincoreの結果を受け取るバッファ */\n",
    "  long n_pages;                 /* ページ数(vの要素数) */\n",
    "} incore_records_t;\n",
    "\n",
    "/* a から始まる sz バイトに対応する記録を準備 */\n",
    "incore_records_t * mk_incore_records(void * a, long sz, const char * filename) {\n",
    "  long begin = (long)a;\n",
    "  long end   = (long)(a + sz + page_sz - 1);\n",
    "  void * begin_aligned = (void*) (begin - begin % page_sz); /* aを含むページの先頭 */\n",
    "  void * end_aligned   = (void*) (end   - end % page_sz);   /* a+sz-1を含むページの次のページの先頭 */\n",
    "  long sz_aligned = end_aligned - begin_aligned;\n",
    "  long n_pages = sz_aligned / page_sz; /* ページ数 */\n",
    "  unsigned char * v = calloc(1, n_pages); /* mincoreの結果を受け取るバッファ */\n",
    "  if (!v) die(\"malloc\");\n",
    "  FILE * wp = fopen(filename, \"w\"); /* 結果を書き込む */\n",
    "  if (!wp) die(\"fopen\");\n",
    "  incore_records_t * ir = malloc(sizeof(incore_records_t));\n",
    "  if (!ir) die(\"malloc\");\n",
    "  ir->a = begin_aligned;\n",
    "  ir->sz = sz_aligned;\n",
    "  ir->n_pages = n_pages;\n",
    "  ir->v = v;\n",
    "  ir->wp = wp;\n",
    "  return ir;\n",
    "}\n",
    "\n",
    "/* 時刻やページフォルトの回数を記録 */\n",
    "void record_incore(incore_records_t * ir, void * last_addr) {\n",
    "  /* get current time */\n",
    "  double t = cur_time();\n",
    "  unsigned char * v = ir->v;\n",
    "  long n_pages = ir->n_pages;\n",
    "  FILE * wp = ir->wp;\n",
    "  if (mincore(ir->a, ir->sz, v) == -1) die(\"mincore\");\n",
    "\n",
    "  /* 記録の仕方: 0がA個, 1がB個, 0がC個, 1がD個, ... に対して A B C D ...\n",
    "     を記録する(run length圧縮).\n",
    "     それ以外に時刻と, 直近にアクセスした場所(何ページ目か)を記録 */\n",
    "  unsigned char c = 0;\n",
    "  size_t x = 0;\n",
    "  fprintf(wp, \"%f\", t);         /* 時刻 */\n",
    "  fprintf(wp, \" %lu\", (last_addr - ir->a) / page_sz); /* 直近のページ */\n",
    "  /* run-length 符号化 */\n",
    "  for (long i = 0; i < n_pages; i++) {\n",
    "    if (v[i] != c) {\n",
    "      fprintf(wp, \" %lu\", x);\n",
    "      c = v[i];\n",
    "      x = 0;\n",
    "    }\n",
    "    x++;\n",
    "  }\n",
    "  assert(x > 0);\n",
    "  fprintf(wp, \" %lu\", x);\n",
    "  /* 改行 */\n",
    "  fprintf(wp, \"\\n\");\n",
    "}\n",
    "\n",
    "/* 記録された時刻とページフォルト数をファイルに保存 */\n",
    "void save_records(incore_records_t * ir) {\n",
    "  fclose(ir->wp);\n",
    "}\n",
    "\n",
    "/* 記録の間隔(アクセス数). 1MB分のページを触る毎に記録 */\n",
    "const long record_interval = 59;\n",
    "\n",
    "/* A MB 割り当ててそれを B 回スキャンする.\n",
    "   記録を log に書く */\n",
    "int main(int argc, char ** argv) {\n",
    "  long A = (argc > 1 ? atol(argv[1]) : 128);\n",
    "  long B = (argc > 2 ? atol(argv[2]) : 3);\n",
    "  char * log = (argc > 3 ? argv[3] : \"incore.log\");\n",
    "  long sz = A * 1024L * 1024L;\n",
    "  cur_time();\n",
    "  /* A MB割当て. posix_memalign で先頭アドレスがページの先頭に来るように */\n",
    "  char * a = 0;\n",
    "  int err = posix_memalign((void **)&a, page_sz, sz);\n",
    "  if (err) die2(err, \"posix_memalign\");\n",
    "  incore_records_t * ir = mk_incore_records(a, sz, log);\n",
    "  /* (A MB 中のページ数) x B 回 ページをアクセス */\n",
    "  long n_accesses = sz / page_sz * B;\n",
    "  long j = 0;\n",
    "  for (long k = 0; k < n_accesses; k++) {\n",
    "    a[j % sz]++;\n",
    "    if (k % record_interval == 0) record_incore(ir, &a[j % sz]);\n",
    "    /* 以下を書き換えて 5 ページ飛ばしでアクセスするようにせよ */\n",
    "    j += page_sz * 5;\n",
    "  }\n",
    "  save_records(ir);\n",
    "  return 0;\n",
    "}\n",
    "\n",
    "//予想：ページアウトされている領域が先の例に比べてさらにまばらになる。\n"
   ]
  },
  {
   "cell_type": "markdown",
   "metadata": {},
   "source": [
    "199MB を 3回"
   ]
  },
  {
   "cell_type": "code",
   "execution_count": 6,
   "metadata": {},
   "outputs": [
    {
     "name": "stdout",
     "output_type": "stream",
     "text": [
      "1.37user 1.07system 0:23.13elapsed 10%CPU (0avgtext+0avgdata 205392maxresident)k\n",
      "5496inputs+56104outputs (687major+53978minor)pagefaults 0swaps\n"
     ]
    }
   ],
   "source": [
    "//% cmd: /usr/bin/time ./record_incore_2 199 3 incore199_5x3.log 2>&1"
   ]
  },
  {
   "cell_type": "markdown",
   "metadata": {},
   "source": [
    "実行したら, os06_page_replacement_visualize.ipynb を開いて, 可視化してみよ"
   ]
  },
  {
   "cell_type": "markdown",
   "metadata": {},
   "source": [
    "293MB を 3回"
   ]
  },
  {
   "cell_type": "code",
   "execution_count": 7,
   "metadata": {},
   "outputs": [
    {
     "name": "stdout",
     "output_type": "stream",
     "text": [
      "9.31user 73.73system 2:59.56elapsed 46%CPU (0avgtext+0avgdata 247084maxresident)k\n",
      "1209552inputs+503696outputs (136307major+88813minor)pagefaults 0swaps\n"
     ]
    }
   ],
   "source": [
    "//% cmd: /usr/bin/time ./record_incore_2 293 3 incore293_5x3.log 2>&1"
   ]
  },
  {
   "cell_type": "markdown",
   "metadata": {},
   "source": [
    "295MB を 3回 (293 MB との違いに注目. なぜか?):理由...295が5の倍数になっており、毎週同じ場所をアクセスしているため物理メモリは295/5MB程度しか使わず、既存のメモリ領域のみで処理することができメジャーフォルトが起こらない。"
   ]
  },
  {
   "cell_type": "code",
   "execution_count": 8,
   "metadata": {},
   "outputs": [
    {
     "name": "stdout",
     "output_type": "stream",
     "text": [
      "8.24user 1.27system 0:09.52elapsed 99%CPU (0avgtext+0avgdata 62096maxresident)k\n",
      "0inputs+438088outputs (0major+15186minor)pagefaults 0swaps\n"
     ]
    }
   ],
   "source": [
    "//% cmd: /usr/bin/time ./record_incore_2 295 3 incore295_5x3.log 2>&1"
   ]
  }
 ],
 "metadata": {
  "kernelspec": {
   "display_name": "C",
   "language": "c",
   "name": "c_kernel"
  },
  "language_info": {
   "file_extension": ".c",
   "mimetype": "text/plain",
   "name": "c"
  }
 },
 "nbformat": 4,
 "nbformat_minor": 2
}
