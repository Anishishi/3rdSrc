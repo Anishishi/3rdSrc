{
 "cells": [
  {
   "cell_type": "markdown",
   "metadata": {},
   "source": [
    "# オペレーティングシステム 演習 4"
   ]
  },
  {
   "cell_type": "markdown",
   "metadata": {},
   "source": [
    "**このセルを編集して, 名前と学生証番号を書け.**\n",
    "\n",
    " * 名前 Name : 03-190503\n",
    " * 学生証番号 Student ID : 西山　晃人\n",
    "\n",
    "**書けたら Shift + Enter で実行(入力を確定)させ, 保存(`Ctrl-S`)せよ**"
   ]
  },
  {
   "cell_type": "markdown",
   "metadata": {},
   "source": [
    "* このページは, 以前の課題 オペレーティングシステム 演習 2 「同期, スレッドセーフなデータ」のうち, 課題2-2 スレッドセーフな有限バッファ(2) の不備を訂正したものです. \n",
    "\n",
    "* 混乱を防ぐため形式的に新しい課題として出題しています. \n",
    "\n",
    "* 問題の趣旨, 目標は課題2-2と全く同じですが, こちらから提供したベースとなるコード(動作をするためのコードでもある)が間違っていましたので, ここに正しいものを示します.\n",
    "\n",
    "* 以前の課題 2-2 は回答不要です."
   ]
  },
  {
   "cell_type": "markdown",
   "metadata": {},
   "source": [
    "## <font color=\"blue\">課題 4-1:</font> スレッドセーフな有限バッファ(2)\n",
    "\n",
    "* _課題2-2を拡張して, queueが満杯の状態でenqが呼ばれたり, queueが空の状態でdeqが呼ばれたら, それぞれの動作が可能になるまで待つ動作にせよ_\n",
    "* _ヒント: mutexに加えて条件変数を使う_"
   ]
  },
  {
   "cell_type": "code",
   "execution_count": 1,
   "metadata": {},
   "outputs": [],
   "source": [
    "//%file: bb_4.h\n",
    "//%cmd:\n",
    "\n",
    "// answer-box\n",
    "// ------- 解答をここに書く. write your answer here -------\n",
    "\n",
    "#include <pthread.h>\n",
    "\n",
    "/* 有限バッファ\n",
    "\n",
    "             p->               q->\n",
    "        +-+-+-+-+-+-+-+-+-+-+-+-+-+-+\n",
    "   vals | | |x|x|x|x| ... |x|x| | | |\n",
    "        +-+-+-+-+-+-+-+-+-+-+-+-+-+-+ \n",
    "         0 1 2 ...                     */\n",
    "\n",
    "typedef struct {\n",
    "  pthread_mutex_t m[1];\n",
    "  pthread_cond_t c[1];\n",
    "  long p;                       /* 次に要素が取られる場所 */\n",
    "  long q;                       /* 次の要素が入る場所 */\n",
    "  long C;                       /* 容量 */\n",
    "  long * vals;                  /* C要素の配列 */\n",
    "} bb_t;\n",
    "\n",
    "/* 容量Cの有限バッファを作る */\n",
    "bb_t * make_bb(long C);\n",
    "/* bbの初期化*/\n",
    "void bb_init(bb_t * bb);\n",
    "/* xを挿入 */\n",
    "long bb_enq(bb_t * bb, long x);\n",
    "/* 取り出し */\n",
    "long bb_deq(bb_t * bb);\n"
   ]
  },
  {
   "cell_type": "code",
   "execution_count": 2,
   "metadata": {},
   "outputs": [],
   "source": [
    "//% file: bb_4.c\n",
    "//% cmd: gcc -O3 -Wall -Wextra -fopenmp -o bb_4 bb_4.c\n",
    "\n",
    "/* ------- このセルを修正して解答を書け. write your answer here ------- */\n",
    "\n",
    "#include <assert.h>\n",
    "#include <stdio.h>\n",
    "#include <stdlib.h>\n",
    "#include <omp.h>\n",
    "#include <pthread.h>\n",
    "#include \"bb_4.h\"\n",
    "\n",
    "/* チェック・エラー表示のための補助関数 */\n",
    "int check_(int cond, const char * cond_s,\n",
    "           char * file, int line, const char * fun) {\n",
    "  if (!cond) {\n",
    "    fprintf(stderr, \"%s:%d:%s: check '%s' failed\\n\",\n",
    "            file, line, fun, cond_s);\n",
    "    abort();\n",
    "  }\n",
    "  return 1;                     /* OK */\n",
    "}\n",
    "\n",
    "#define check(x) check_((x) != 0, #x, __FILE__, __LINE__, __func__)\n",
    "\n",
    "/* 容量Cの有限バッファを作る */\n",
    "bb_t * make_bb(long C) {\n",
    "  long * vals = calloc(C, sizeof(long));\n",
    "  check(vals);\n",
    "  bb_t * bb = malloc(sizeof(bb_t));\n",
    "  check(bb);\n",
    "  bb->p = 0;\n",
    "  bb->q = 0;\n",
    "  bb->C = C;\n",
    "  bb->vals = vals;\n",
    "  return bb;\n",
    "}\n",
    "\n",
    "void bb_init(bb_t * bb){\n",
    "    pthread_mutex_init(bb->m, NULL);\n",
    "    pthread_cond_init(bb->c, NULL);\n",
    "}\n",
    "\n",
    "/* 要素を入れる */\n",
    "long bb_enq(bb_t * bb, long x) {\n",
    "  pthread_mutex_lock(bb->m);\n",
    "  while (bb->q - bb->p >= bb->C) {\n",
    "    pthread_cond_wait(bb->c, bb->m);\n",
    "  }\n",
    "  long q = bb->q;\n",
    "  bb->vals[q % bb->C] = x;\n",
    "  bb->q = q + 1;\n",
    "  pthread_cond_broadcast(bb->c);\n",
    "  pthread_mutex_unlock(bb->m);\n",
    "  return q;\n",
    "}\n",
    "\n",
    "/* 要素を取り出す */\n",
    "long bb_deq(bb_t * bb) {\n",
    "  pthread_mutex_lock(bb->m);\n",
    "  while (bb->q - bb->p <= 0) {\n",
    "    pthread_cond_wait(bb->c, bb->m);\n",
    "  }\n",
    "  long p = bb->p;\n",
    "  long x = bb->vals[p % bb->C];\n",
    "  bb->p = p + 1;\n",
    "  pthread_cond_broadcast(bb->c);\n",
    "  pthread_mutex_unlock(bb->m);\n",
    "  return x;\n",
    "}\n",
    "\n",
    "/* スレッドを nthreads 個作って0 .. n-1 を1つずつbbにput */\n",
    "long enqs(bb_t * bb, long n, long nthreads) {\n",
    "#pragma omp parallel num_threads(nthreads)\n",
    "#pragma omp for\n",
    "  for (long i = 0; i < n; i++) {\n",
    "    bb_enq(bb, i);\n",
    "  }\n",
    "  return 1;                     /* OK */\n",
    "}\n",
    "\n",
    "/* スレッドを nthreads 個作って合計n個の要素をbbからget.\n",
    "   0 .. n - 1 が一回ずつ取り出されることをチェック. */\n",
    "long deqs(bb_t * bb, long n, long nthreads) {\n",
    "  /* check用配列. x が取り出されたところでcheck[x] = 1とする */\n",
    "  char * a = calloc(1, n);\n",
    "  for (long i = 0; i < n; i++) {\n",
    "    a[i] = 0;\n",
    "  }\n",
    "#pragma omp parallel num_threads(nthreads)\n",
    "#pragma omp for\n",
    "  for (long i = 0; i < n; i++) {\n",
    "    long x = bb_deq(bb);\n",
    "    check(x >= 0);\n",
    "    check(x < n);\n",
    "    check(a[x] == 0);\n",
    "    a[x] = 1;\n",
    "  }\n",
    "  for (long i = 0; i < n; i++) {\n",
    "    check(a[i]);\n",
    "  }\n",
    "  free(a);\n",
    "  return 1;\n",
    "}\n",
    "\n",
    "/* n個並行にenq; n個並行にdeq\n",
    "   (enqとdeqは並行には行わない) */\n",
    "long enqs_deqs(bb_t * bb, long n,\n",
    "               long n_producers, long n_consumers) {\n",
    "  enqs(bb, n, n_producers);\n",
    "  return deqs(bb, n, n_consumers);\n",
    "}\n",
    "\n",
    "/* n個enqとn個deqを並行に */\n",
    "long enqs_deqs_conc(bb_t * bb, long n,\n",
    "                    long n_producers, long n_consumers) {\n",
    "  int r = 0;\n",
    "#pragma omp parallel num_threads(2)\n",
    "  {\n",
    "    int id = omp_get_thread_num();\n",
    "    if (id == 0) {\n",
    "      enqs(bb, n, n_producers);\n",
    "    } else {\n",
    "      assert(id == 1);\n",
    "      r = deqs(bb, n, n_consumers);\n",
    "    }\n",
    "  }\n",
    "  return r;\n",
    "}\n",
    "\n",
    "int main(int argc, char ** argv) {\n",
    "  long C             = (argc > 1 ? atol(argv[1]) : 100000);\n",
    "  long n             = (argc > 2 ? atol(argv[2]) : C * 3);\n",
    "  long n_enq_threads = (argc > 3 ? atol(argv[3]) : 4); /* enq スレッドの数 */\n",
    "  long n_deq_threads = (argc > 4 ? atol(argv[4]) : 8); /* deq スレッドの数 */\n",
    "  long conc_enq_deq  = (argc > 5 ? atol(argv[5]) : 1); /* enq/deq を並行に行うか? */\n",
    "\n",
    "  printf(\"queue capacity C = %ld\\n\", C);\n",
    "  printf(\"items to enq/deq n = %ld\\n\", n);\n",
    "  printf(\"enq threads = %ld\\n\", n_enq_threads);\n",
    "  printf(\"deq threads = %ld\\n\", n_deq_threads);\n",
    "  printf(\"concurrently enq/deq = %ld\\n\", conc_enq_deq);\n",
    "  fflush(stdout);\n",
    "  \n",
    "  if (conc_enq_deq == 0 && n > C) {\n",
    "    fprintf(stderr,\n",
    "            \"n items (%ld) > capacity (%ld);\"\n",
    "            \" you must set conc_prod_cons = 0\\n\",\n",
    "            n, C);\n",
    "    exit(1);\n",
    "  }\n",
    "  omp_set_nested(1);\n",
    "\n",
    "  bb_t * bb = make_bb(C);\n",
    "  bb_init(bb);\n",
    "  int r = 0;\n",
    "  if (conc_enq_deq == 0) {\n",
    "    r = enqs_deqs(bb, n, n_enq_threads, n_deq_threads);\n",
    "  } else {\n",
    "    r = enqs_deqs_conc(bb, n, n_enq_threads, n_deq_threads);\n",
    "  }\n",
    "  if (r) {\n",
    "    printf(\"OK\\n\");\n",
    "    return 0;\n",
    "  } else {\n",
    "    printf(\"NG\\n\");\n",
    "    return 1;\n",
    "  }\n",
    "}\n"
   ]
  },
  {
   "cell_type": "markdown",
   "metadata": {},
   "source": [
    "「容量 < enq回数」という場合でも正しく動作することを確認せよ\n",
    "\n",
    "```\n",
    "./bb_3 容量 enq回数(=deq回数) enqスレッド数 deqスレッド数 1\n",
    "```"
   ]
  },
  {
   "cell_type": "code",
   "execution_count": 3,
   "metadata": {},
   "outputs": [
    {
     "name": "stdout",
     "output_type": "stream",
     "text": [
      "queue capacity C = 10000\n",
      "items to enq/deq n = 10000000\n",
      "enq threads = 1\n",
      "deq threads = 1\n",
      "concurrently enq/deq = 1\n",
      "OK\n"
     ]
    }
   ],
   "source": [
    "//% cmd: ./bb_4 10000 10000000 1 1 1\n",
    "/* ------- このセルを実行して結果を確かめよ Execute this cell and check the result ------- */"
   ]
  },
  {
   "cell_type": "code",
   "execution_count": 4,
   "metadata": {},
   "outputs": [
    {
     "name": "stdout",
     "output_type": "stream",
     "text": [
      "queue capacity C = 10000\n",
      "items to enq/deq n = 10000000\n",
      "enq threads = 10\n",
      "deq threads = 1\n",
      "concurrently enq/deq = 1\n",
      "OK\n"
     ]
    }
   ],
   "source": [
    "//% cmd: ./bb_4 10000 10000000 10 1 1\n",
    "/* ------- このセルを実行して結果を確かめよ Execute this cell and check the result ------- */"
   ]
  },
  {
   "cell_type": "code",
   "execution_count": 5,
   "metadata": {},
   "outputs": [
    {
     "name": "stdout",
     "output_type": "stream",
     "text": [
      "queue capacity C = 10000\n",
      "items to enq/deq n = 10000000\n",
      "enq threads = 1\n",
      "deq threads = 10\n",
      "concurrently enq/deq = 1\n",
      "OK\n"
     ]
    }
   ],
   "source": [
    "//% cmd: ./bb_4 10000 10000000 1 10 1\n",
    "/* ------- このセルを実行して結果を確かめよ Execute this cell and check the result ------- */"
   ]
  },
  {
   "cell_type": "code",
   "execution_count": 6,
   "metadata": {},
   "outputs": [
    {
     "name": "stdout",
     "output_type": "stream",
     "text": [
      "queue capacity C = 10000\n",
      "items to enq/deq n = 10000000\n",
      "enq threads = 10\n",
      "deq threads = 20\n",
      "concurrently enq/deq = 1\n",
      "OK\n"
     ]
    }
   ],
   "source": [
    "//% cmd: ./bb_4 10000 10000000 10 20 1\n",
    "/* ------- このセルを実行して結果を確かめよ Execute this cell and check the result ------- */"
   ]
  },
  {
   "cell_type": "code",
   "execution_count": 7,
   "metadata": {},
   "outputs": [
    {
     "name": "stdout",
     "output_type": "stream",
     "text": [
      "queue capacity C = 10000\n",
      "items to enq/deq n = 10000000\n",
      "enq threads = 20\n",
      "deq threads = 10\n",
      "concurrently enq/deq = 1\n",
      "OK\n"
     ]
    }
   ],
   "source": [
    "//% cmd: ./bb_4 10000 10000000 20 10 1\n",
    "/* ------- このセルを実行して結果を確かめよ Execute this cell and check the result ------- */"
   ]
  },
  {
   "cell_type": "markdown",
   "metadata": {},
   "source": [
    "以下のような極端なケース(容量1)も試してみよ"
   ]
  },
  {
   "cell_type": "code",
   "execution_count": 8,
   "metadata": {},
   "outputs": [
    {
     "name": "stdout",
     "output_type": "stream",
     "text": [
      "queue capacity C = 1\n",
      "items to enq/deq n = 1000000\n",
      "enq threads = 20\n",
      "deq threads = 20\n",
      "concurrently enq/deq = 1\n",
      "OK\n"
     ]
    }
   ],
   "source": [
    "//% cmd: ./bb_4 1 1000000 20 20 1\n",
    "/* ------- このセルを実行して結果を確かめよ Execute this cell and check the result ------- */"
   ]
  }
 ],
 "metadata": {
  "kernelspec": {
   "display_name": "C",
   "language": "c",
   "name": "c_kernel"
  },
  "language_info": {
   "file_extension": ".c",
   "mimetype": "text/plain",
   "name": "c"
  }
 },
 "nbformat": 4,
 "nbformat_minor": 2
}
