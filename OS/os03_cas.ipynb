{
 "cells": [
  {
   "cell_type": "markdown",
   "metadata": {},
   "source": [
    "# オペレーティングシステム 演習 3\n",
    "# 不可分命令を用いた更新"
   ]
  },
  {
   "cell_type": "markdown",
   "metadata": {},
   "source": [
    "**このセルを編集して, 名前と学生証番号を書け.**\n",
    "\n",
    " * 名前 Name : 03-190503\n",
    " * 学生証番号 Student ID : 西山　晃人\n",
    "\n",
    "**書けたら Shift + Enter で実行(入力を確定)させ, 保存(`Ctrl-S`)せよ**"
   ]
  },
  {
   "cell_type": "markdown",
   "metadata": {},
   "source": [
    "## 1. 不可分命令\n",
    "\n",
    "* 不可分命令を使って, mutexを使わずに不可分に更新を行う方法\n",
    "* 使える場面は限定されているが使える場面では使ったほうが性能が良い\n",
    "\n",
    "* 以下のプログラムを思い出す"
   ]
  },
  {
   "cell_type": "code",
   "execution_count": 1,
   "metadata": {},
   "outputs": [],
   "source": [
    "//% file: race.c\n",
    "//% cmd: gcc -O3 -Wall -Wextra -fopenmp -o race race.c\n",
    "\n",
    "#include <assert.h>\n",
    "#include <stdio.h>\n",
    "#include <unistd.h>\n",
    "#include <omp.h>\n",
    "\n",
    "int main() {\n",
    "  volatile long x = 0;\n",
    "#pragma omp parallel num_threads(2)\n",
    "  {\n",
    "    for (long i = 0; i < 10000000; i++) {\n",
    "      x++;                      /* 競合状態!! */\n",
    "    }\n",
    "  }\n",
    "    \n",
    "  printf(\"x = %ld\\n\", x); fflush(stdout);\n",
    "  assert(x == 20000000);        /* これは(きっと)エラーになる */\n",
    "  return 0;\n",
    "}\n"
   ]
  },
  {
   "cell_type": "code",
   "execution_count": 2,
   "metadata": {},
   "outputs": [
    {
     "name": "stdout",
     "output_type": "stream",
     "text": [
      "x = 10593403\n"
     ]
    },
    {
     "name": "stderr",
     "output_type": "stream",
     "text": [
      "race: race.c:19: main: Assertion `x == 20000000' failed.\n",
      "[C kernel] command exited with code -6, subsequent commands will not be executed"
     ]
    }
   ],
   "source": [
    "//% cmd: ./race"
   ]
  },
  {
   "cell_type": "markdown",
   "metadata": {},
   "source": [
    "* 結果が(ほとんどの場合)正しく 20000000 にはならない理由は以下の命令列が不可分に実行されないことにある\n",
    "(R はレジスタ. x は x が格納されているアドレス)\n",
    "\n",
    "```\n",
    "R = x\n",
    "R = R + 1\n",
    "x = R\n",
    "```\n",
    "\n",
    "もう少し本物の機械語風に書くと,\n",
    "\n",
    "```\n",
    "movl x,%rax\n",
    "addl $1,%rax\n",
    "movl %rax,x\n",
    "```\n",
    "\n",
    "もちろん必ずこういう命令列になるなどという保証はないが, ここでのポイントは\n",
    "\n",
    "* CPUは(通常)1 命令ごとの不可分性は保証している(*)が, 複数命令が不可分に実行されることは保証しない\n",
    "* x++ という命令が1命令では実行できない\n",
    "\n",
    "ということである. \n",
    "\n",
    "* 注: (*)は例えば movl $100,x (x=100) と movl $200,x (x=200) が(ほぼ)同時に起こった時に, 100でも200でもない(たとえば両者のbitが混ざったような)結果が書かれたり, movl $100,x と movl x,%rax が(ほぼ)同時に起こった時に, 100でも, 元あった値でもない結果が読み込まれたりすることはない, ということ.\n",
    "\n",
    "* 逆に言うとCPUにもともと「あるアドレスを1加算する」という命令が備わっていればそれを使えばよいということになる. \n",
    "\n",
    "* 実を言うとそのような命令(fetch-and-add)は多くのCPUに備わっているのだが, 足し算以外にもやりたくなることがあるだろう. どれだけの命令を作ればいいのか切りがないことになる\n",
    "\n",
    "* 一般的に, read-modify-write (あるアドレスを読み込み, 変更したっけかを書き込む)操作を不可分に実行できる命令として, compare-and-swap という命令がある\n",
    "\n",
    "* https://gcc.gnu.org/onlinedocs/gcc-4.1.0/gcc/Atomic-Builtins.html の中の\n",
    "\n",
    "```\n",
    "bool __sync_bool_compare_and_swap (type *ptr, type oldval type newval, ...)\n",
    "```\n",
    "\n",
    "を参照 (以降は cas と書く)\n",
    "\n",
    "*\n",
    "```\n",
    "cas(p, x, x_new)\n",
    "```\n",
    "は \n",
    "```\n",
    "if (*p == x) { *p = x_new; return 1; }\n",
    "else { return 0 }\n",
    "```\n",
    "という操作を不可分に行う(つまり, *p を読み出してから *p に x_new を書き込むまでの間に *p が書き換わっていることがないことが保証されている)"
   ]
  },
  {
   "cell_type": "markdown",
   "metadata": {},
   "source": [
    "## <font color=\"blue\">課題 3-1:</font> compare-and-swapを使った不可分更新\n",
    "\n",
    "* _アドレスp にある値を不可分に +1 する関数_ `inc_cas(p)` _を compare-and-swap 命令を使って実装せよ_\n",
    "* _以下のコードが正しく動く(終了時にx == 20000000となる)ようにせよ_"
   ]
  },
  {
   "cell_type": "code",
   "execution_count": 21,
   "metadata": {},
   "outputs": [],
   "source": [
    "//% file: hello_cas_1.c\n",
    "//% cmd: gcc -O3 -Wall -Wextra -fopenmp -o hello_cas_1 hello_cas_1.c\n",
    "\n",
    "/* ------- このセルを修正して解答を書け. write your answer here ------- */\n",
    "\n",
    "#include <assert.h>\n",
    "#include <stdio.h>\n",
    "#include <stdlib.h>\n",
    "#include <unistd.h>\n",
    "#include <omp.h>\n",
    "\n",
    "/* *p を不可分に +1 する関数を \n",
    "   __sync_bool_compare_and_swap\n",
    "   を使って実装 */\n",
    "void inc_cas(volatile long * p) {\n",
    "  long pre = *p;\n",
    "  long nt = pre+1;\n",
    "  while(__sync_bool_compare_and_swap(p, pre, nt) == 0){\n",
    "      pre = *p;\n",
    "      nt = pre+1;\n",
    "  }\n",
    "}\n",
    "\n",
    "int main() {\n",
    "  volatile long x = 0;\n",
    "#pragma omp parallel num_threads(2)\n",
    "  {\n",
    "    for (long i = 0; i < 10000000; i++) {\n",
    "      inc_cas(&x);\n",
    "    }\n",
    "  }\n",
    "  printf(\"x = %ld\\n\", x); fflush(stdout);\n",
    "  assert(x == 20000000);\n",
    "  printf(\"OK\\n\");\n",
    "  return 0;\n",
    "}\n"
   ]
  },
  {
   "cell_type": "code",
   "execution_count": 22,
   "metadata": {},
   "outputs": [
    {
     "name": "stdout",
     "output_type": "stream",
     "text": [
      "x = 20000000\n",
      "OK\n"
     ]
    }
   ],
   "source": [
    "//% cmd: ./hello_cas_1\n",
    "/* ------- このセルを実行して結果を確かめよ Execute this cell and check the result ------- */"
   ]
  }
 ],
 "metadata": {
  "kernelspec": {
   "display_name": "C",
   "language": "c",
   "name": "c_kernel"
  },
  "language_info": {
   "file_extension": ".c",
   "mimetype": "text/plain",
   "name": "c"
  }
 },
 "nbformat": 4,
 "nbformat_minor": 2
}
