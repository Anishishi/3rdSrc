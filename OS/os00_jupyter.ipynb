{
 "cells": [
  {
   "cell_type": "markdown",
   "metadata": {},
   "source": [
    "# オペレーティングシステム 演習環境\n",
    "\n",
    "* os0x_xxxx.ipynb というファイルを順に開いて読みながら実行して下さい"
   ]
  },
  {
   "cell_type": "markdown",
   "metadata": {},
   "source": [
    "# 1. Jupyter環境の基本\n",
    "\n",
    "Jupyter環境は今まさに使っているもので, 様々なプログラミング言語をウェブブラウザを通して実行し, プログラム, その出力, このようなドキュメント, を一緒にして保存できる仕組み."
   ]
  },
  {
   "cell_type": "markdown",
   "metadata": {},
   "source": [
    "## 1-1. セル \n",
    "\n",
    "Jupyterでは以下のような四角を __セル__ (「コード」セルと呼ぶほうがより正確)と呼ぶ."
   ]
  },
  {
   "cell_type": "code",
   "execution_count": null,
   "metadata": {},
   "outputs": [],
   "source": [
    " "
   ]
  },
  {
   "cell_type": "markdown",
   "metadata": {},
   "source": [
    "* セルの上でマウスをクリックするとセルが「選択」され, 入力できる状態になる(その他にもキーボードの矢印キーで, 選択されているセルを変えることもできる).\n",
    "\n",
    "* セルが選択された状態で`Shift + Enter` を入力する (`Shift`キーを押しながら`Enter`キーを押す)と, セルの中身が実行される\n",
    "\n",
    "* `Shift + Enter` で実行すると自動的に次のセルが選択されるので, ページを実行しながら読んでいくには `Shift + Enter` をひたすら押していけば良い\n",
    "\n",
    "* Jupyterは色々なプログラミング言語を入力できるようになっているがここで見せているのは, C/C++プログラムを入力できるようになっている特別な環境. 一つのセルに\n",
    " * Cのプログラム\n",
    " * //% file: そのCのプログラムの保存先\n",
    " * //% cmd: 実行(コンパイラやコンパイルされた実行ファイル)するコマンドライン\n",
    "を記述する\n",
    "\n",
    "* 例: 以下のセルを `Shift + Enter`で実行すると次のことが起きる\n",
    " 1. 内容をhello.cとして保存\n",
    " 1. gcc hello.c でコンパイル(helloが生成される)\n",
    " 1. それ (./hello) をコマンドライン ./hello で実行"
   ]
  },
  {
   "cell_type": "code",
   "execution_count": null,
   "metadata": {},
   "outputs": [],
   "source": [
    "//% file: hello.c\n",
    "//% cmd: gcc -o hello hello.c\n",
    "//% cmd: ./hello\n",
    "\n",
    "#include <stdio.h>\n",
    "int main() {\n",
    "  printf(\"hello world!\\n\");\n",
    "  fprintf(stderr, \"good bye, see you again.\\n\");\n",
    "  return 0;\n",
    "}"
   ]
  },
  {
   "cell_type": "markdown",
   "metadata": {},
   "source": [
    "### 練習1: \n",
    "\n",
    "* 上記セルを `Shift + Enter` を押して実行してみよ\n",
    "* printf, fprintfで出力される内容を修正してまた実行してみよ"
   ]
  },
  {
   "cell_type": "markdown",
   "metadata": {},
   "source": [
    "## 1-2. マークダウンセル\n",
    "\n",
    "このような文章(テキスト)が表示されている部分もセルであり, ダブルクリックすることで編集可能になり, `Shift + Enter`で編集結果を表示できる."
   ]
  },
  {
   "cell_type": "markdown",
   "metadata": {},
   "source": [
    "### 練習2: \n",
    "\n",
    "**このセルを編集して, 名前と学生証番号を書け.**\n",
    "\n",
    " * 名前 Name : 西山　晃人\n",
    " * 学生証番号 Student ID : 03-190503\n",
    "\n",
    "**書けたら Shift + Enter で実行して入力を確定させよ**\n",
    "\n",
    "**以降の演習環境でも必ず先頭に名前と学生証番号を書く欄があるので書いてください**"
   ]
  },
  {
   "cell_type": "markdown",
   "metadata": {},
   "source": [
    "* セルを編集したり実行したら**こまめに保存** (`Ctrl-S`) せよ\n",
    " * ある程度時間が立つと勝手に保存されるがそれに頼らず, ちょっと書き換えたり実行したらこまめに保存する癖をつけてください(そうしないとクラッシュしたりだなんだで作業が失われる可能性があります)"
   ]
  },
  {
   "cell_type": "markdown",
   "metadata": {},
   "source": [
    "# 2. 演習を始まる前の注意\n",
    "\n",
    "* 環境はクラウド環境です\n",
    "* クラス全員が実は同じマシンを使っています\n",
    "* 何か失敗して, とっちらかったときの後始末の方法を覚えておいてください"
   ]
  },
  {
   "cell_type": "markdown",
   "metadata": {},
   "source": [
    "## 2-1. えらく時間がかかっているプロセスの始末\n",
    "\n",
    "* 例えば以下は10秒間寝るプログラムで, 当然実行に10秒間かかります\n",
    "* プログラムを実行すると, セルの横に [*] と表示されていることを確認してください\n",
    "* [*] がプログラムが実行中という印で, ___その間, Jupyterは次の入力には反応しません___\n",
    "* この状態に陥ったら(待っていれば終わると確信しているときは待っていれば良いですが), 画面上部の ■ ボタンでプログラムを強制終了できます"
   ]
  },
  {
   "cell_type": "markdown",
   "metadata": {},
   "source": [
    "### 練習3: \n",
    "\n",
    "以下を実行し, 通常通り終了する前に ■ で実行を強制終了せよ"
   ]
  },
  {
   "cell_type": "code",
   "execution_count": null,
   "metadata": {},
   "outputs": [],
   "source": [
    "//% file: sleep10.c\n",
    "//% cmd: gcc -o sleep10 sleep10.c\n",
    "//% cmd: ./sleep10\n",
    "\n",
    "#include <unistd.h>\n",
    "#include <stdio.h>\n",
    "int main() {\n",
    "  printf(\"going to sleep\\n\");\n",
    "  sleep(10);\n",
    "  printf(\"woke up\\n\");\n",
    "  return 0;\n",
    "}"
   ]
  },
  {
   "cell_type": "markdown",
   "metadata": {},
   "source": [
    "## 2-2. 大量の出力を消す\n",
    "\n",
    "* Jupyter はwebアプリケーションで, 大量の出力をされると描画に時間がかかるなど, ただの端末よりも大量出力に弱いです\n",
    "* 意図せず大量の出力をしてしまったら, 放置せずに出力をリセットしましょう. その方法:\n",
    " * 方法1: プログラムを大量の出力をしないように修正して再実行\n",
    " * 方法2: 画面上部のメニューから Kernel -> Restart & Clear Output を実行"
   ]
  },
  {
   "cell_type": "markdown",
   "metadata": {},
   "source": [
    "### 練習4: \n",
    "\n",
    "* 以下を実行した後, Kernel -> Restart & Clear Output を実行して出力を消せ\n",
    "* その後, `cmd: ./sleep50` を `cmd: ./sleep50 > sleep50.txt` と変更して再実行せよ"
   ]
  },
  {
   "cell_type": "code",
   "execution_count": 2,
   "metadata": {},
   "outputs": [],
   "source": [
    "//% file: sheep50.c\n",
    "//% cmd: gcc -o sheep50 sheep50.c\n",
    "//% cmd: ./sheep50 > sleep50.txt\n",
    "\n",
    "#include <stdio.h>\n",
    "int main() {\n",
    "  for (int i = 0; i < 50; i++) {\n",
    "    printf(\"%2d sheep\\n\", i);\n",
    "  }\n",
    "  return 0;\n",
    "}"
   ]
  },
  {
   "cell_type": "markdown",
   "metadata": {},
   "source": [
    "# 2. ターミナル環境\n",
    "\n",
    "* 画面上部の<img src=\"img/jupyter.png\" height=10/>「Jupyter」アイコンをクリックし, \n",
    "\n",
    "<img src=\"img/jupyter-new-menu.png\" height=5/> New -> Terminal を選ぶと, クラウド環境をコマンドラインで利用可能\n",
    "\n",
    "<img src=\"img/jupyter-terminal.png\" height=5/>\n",
    "\n",
    "* 本演習では特に使うことを想定していないが必要だと思ったら使っても良い\n",
    "* 使いたくなるかも知れない場面\n",
    " * gdbでデバッグをする\n",
    " * man page閲覧など端末を必要とするコマンド\n",
    " * 暴走して, reset しても止まらないプログラムを kill コマンドで殺す"
   ]
  }
 ],
 "metadata": {
  "kernelspec": {
   "display_name": "C",
   "language": "c",
   "name": "c_kernel"
  },
  "language_info": {
   "file_extension": ".c",
   "mimetype": "text/plain",
   "name": "c"
  }
 },
 "nbformat": 4,
 "nbformat_minor": 2
}
