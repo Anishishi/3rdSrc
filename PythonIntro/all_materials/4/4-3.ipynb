{
 "cells": [
  {
   "cell_type": "markdown",
   "metadata": {
    "slideshow": {
     "slide_type": "slide"
    }
   },
   "source": [
    "# Pythonプログラミング入門 第4回\n",
    "json ファイルの入出力について説明します\n",
    "\n",
    "参考\n",
    "\n",
    "- https://docs.python.org/ja/3/library/json.html"
   ]
  },
  {
   "cell_type": "markdown",
   "metadata": {},
   "source": [
    "# json ファイルの入出力\n",
    "\n",
    "## json形式とは\n",
    "\n",
    "**json形式**は、JavaScript Object Notationの略で、データを保存するための記録方式の一つです。<br>\n",
    "特に、辞書や辞書のリストを記録することができます。\n",
    "\n",
    "たとえばサークルのメンバーデータを作ることを考えましょう。<br>\n",
    "メンバーは「鈴木一郎」と「山田花子」の2名で、それぞれ『氏名』『ニックネーム』『出身地』を記録しておきたいと思います。<br>\n",
    "表で表すとこんなデータです。ニックネームには複数の要素が入っていることに注意してください。<br>"
   ]
  },
  {
   "cell_type": "markdown",
   "metadata": {},
   "source": [
    "|ID| 氏名 | ニックネーム | 出身地 | \n",
    "|---:|:--------|:---------------|:-------|\n",
    "|user1| 鈴木一郎 | イチロー, いっち | 広島 |\n",
    "|user2| 山田花子 | はなこ,ハナちゃん | 名古屋 |"
   ]
  },
  {
   "cell_type": "markdown",
   "metadata": {},
   "source": [
    "これをjson形式で表すと以下のようになります。"
   ]
  },
  {
   "cell_type": "raw",
   "metadata": {},
   "source": [
    "{\n",
    "    \"user1\" :  {\n",
    "        \"氏名\":\"鈴木一郎\",\n",
    "        \"ニックネーム\":[\n",
    "            \"イチロー\",\n",
    "            \"いっち\"\n",
    "        ],\n",
    "        \"出身地\":\"広島\"\n",
    "    },\n",
    "    \"user2\"  :  {\n",
    "        \"氏名\":\"鈴木花子\",\n",
    "        \"ニックネーム\":[\n",
    "            \"はなこ\",\n",
    "            \"ハナちゃん\"\n",
    "        ],\n",
    "        \"出身地\":\"名古屋\"\n",
    "    }\n",
    "}"
   ]
  },
  {
   "cell_type": "markdown",
   "metadata": {},
   "source": [
    "json形式で`key:value`となっている場合、`:`で挟んだ左側がkey, 右側がvalueであるような辞書と考えてください。\n",
    "\n",
    "また、`{}`で囲んだものはオブジェクト、`[]`で囲んだものはリストで、オブジェクトの中にオブジェクト、リストの中にオブジェクト、など、入れ子の構造にすることができます。複数の要素を列挙する場合は`,(コンマ)`で区切ります。\n",
    "\n",
    "| 値の型 | jsonの例 |\n",
    "|:---|:---|\n",
    "| string | `\"data\":\"123\"` |\n",
    "| number | `\"data\":123` |\n",
    "| boolean | `\"data\":true` |\n",
    "| オブジェクト | `\"data\":{\"a\":\"b\"}` |    \n",
    "| 配列 | `\"data\":[1,2,3]` |"
   ]
  },
  {
   "cell_type": "markdown",
   "metadata": {},
   "source": [
    "csv形式では、上記のニックネームの列のように、同じセルに複数の要素を含むデータは基本的には扱えませんが、jsonでは扱うことができます。<br>\n",
    "また「ID」「氏名」「ニックネーム」「出身地」のようなラベルは、\n",
    "csv形式では1行目のデータとして書きこむことはできますが、『1行目はラベルの行』とプログラム側で区別しなければ、\n",
    "ただの一行のデータとして扱われてしまいます。<br>\n",
    "これに対しjsonでは、「氏名」が「鈴木一郎」というように、各値に対してキーを設定することができます。"
   ]
  },
  {
   "cell_type": "markdown",
   "metadata": {
    "slideshow": {
     "slide_type": "slide"
    }
   },
   "source": [
    "## json ファイルのダンプとロード\n",
    "\n",
    "**`json`** モジュールを用いることにより、Pythonの各種のデータをファイルに書き出す（ダンプする）ことができ、また、ファイルからロード（読み込み）することができます。ダンプとロードには、それぞれ **`json.dump`** と **`json.load`** を用います。"
   ]
  },
  {
   "cell_type": "code",
   "execution_count": null,
   "metadata": {},
   "outputs": [],
   "source": [
    "import json\n",
    "\n",
    "# 上で例に挙げたjson形式のデータ表現\n",
    "d = {\n",
    "    \"user1\" :  {\n",
    "        \"氏名\":\"鈴木一郎\",\n",
    "        \"ニックネーム\":[\n",
    "            \"イチロー\",\n",
    "            \"いっち\"\n",
    "        ],\n",
    "        \"出身地\":\"広島\"\n",
    "    },\n",
    "    \"user2\"  :  {\n",
    "        \"氏名\":\"鈴木花子\",\n",
    "        \"ニックネーム\":[\n",
    "            \"はなこ\",\n",
    "            \"ハナちゃん\"\n",
    "        ],\n",
    "        \"出身地\":\"名古屋\"\n",
    "    }\n",
    "}\n",
    "\n",
    "# dをファイルに書き出し\n",
    "with open(\"test.json\", \"w\") as f:\n",
    "    json.dump(d, f)\n",
    "    \n",
    "# jsonファイルを読み込み\n",
    "with open(\"test.json\", \"r\") as f:\n",
    "    d1 = json.load(f)\n",
    "\n",
    "# jsonデータのプリント\n",
    "print(d1)\n",
    "\n",
    "# 上記のようだととても見にくいので整形して読み込み\n",
    "\n",
    "# jsonファイルを読み込み\n",
    "# ensure_ascii=Falseを指定しないと文字化けします\n",
    "print(json.dumps(d1, indent=2, ensure_ascii=False))"
   ]
  },
  {
   "cell_type": "markdown",
   "metadata": {
    "slideshow": {
     "slide_type": "slide"
    }
   },
   "source": [
    "## 練習\n",
    "\n",
    "1. 以下のリスト内包の結果を `fib.json` というファイルにjsonフォーマットでダンプしてください。\n",
    "\n",
    "2. ダンプしたファイルからロードして、同じものが得られることを確かめてください。"
   ]
  },
  {
   "cell_type": "code",
   "execution_count": null,
   "metadata": {},
   "outputs": [],
   "source": [
    "def fib(n):\n",
    "    if (n == 0):\n",
    "        return 0\n",
    "    elif (n == 1):\n",
    "        return 1\n",
    "    else:\n",
    "        return fib(n-1)+fib(n-2)\n",
    "\n",
    "[{'n': n, 'fib' : fib(n)} for n in range(0,10)]"
   ]
  },
  {
   "cell_type": "code",
   "execution_count": null,
   "metadata": {},
   "outputs": [],
   "source": []
  },
  {
   "cell_type": "markdown",
   "metadata": {},
   "source": [
    "以下のセルによってテストしてください。"
   ]
  },
  {
   "cell_type": "code",
   "execution_count": null,
   "metadata": {
    "slideshow": {
     "slide_type": "slide"
    }
   },
   "outputs": [],
   "source": [
    "with open(\"fib.json\", \"r\") as f:\n",
    "    print(json.load(f) == [{'n': n, 'fib' : fib(n)} for n in range(0,10)])"
   ]
  },
  {
   "cell_type": "markdown",
   "metadata": {
    "slideshow": {
     "slide_type": "slide"
    }
   },
   "source": [
    "### 東京大学授業カタログ\n",
    "`catalog-2018.json` には、東京大学授業カタログから取り出したデータが記録されています。\n",
    "\n",
    "具体的には、各授業の情報を納めた辞書のリストがjsonフォーマットで記録されています。\n",
    "これをロードするには、以下のようにします。"
   ]
  },
  {
   "cell_type": "code",
   "execution_count": null,
   "metadata": {},
   "outputs": [],
   "source": [
    "with open(\"catalog-2018.json\", \"r\", encoding=\"utf-8\") as f:\n",
    "    j = json.load(f)"
   ]
  },
  {
   "cell_type": "code",
   "execution_count": null,
   "metadata": {
    "slideshow": {
     "slide_type": "slide"
    }
   },
   "outputs": [],
   "source": [
    "j"
   ]
  },
  {
   "cell_type": "code",
   "execution_count": null,
   "metadata": {
    "slideshow": {
     "slide_type": "slide"
    }
   },
   "outputs": [],
   "source": [
    "len(j)"
   ]
  },
  {
   "cell_type": "markdown",
   "metadata": {},
   "source": [
    "`j` の各要素は個々の授業に対応していて、各授業の情報を辞書として含んでいます。"
   ]
  },
  {
   "cell_type": "code",
   "execution_count": null,
   "metadata": {},
   "outputs": [],
   "source": [
    "j[0]"
   ]
  },
  {
   "cell_type": "code",
   "execution_count": null,
   "metadata": {
    "slideshow": {
     "slide_type": "slide"
    }
   },
   "outputs": [],
   "source": [
    "j[1]"
   ]
  },
  {
   "cell_type": "markdown",
   "metadata": {
    "slideshow": {
     "slide_type": "slide"
    }
   },
   "source": [
    "各授業の担当教員の日本語の名前は、`name_j` というキーに対する値として格納されています。"
   ]
  },
  {
   "cell_type": "code",
   "execution_count": null,
   "metadata": {},
   "outputs": [],
   "source": [
    "j[1]['name_j']"
   ]
  },
  {
   "cell_type": "markdown",
   "metadata": {},
   "source": [
    "姓と名は、`\\u3000` というコードで区切られているようです。 "
   ]
  },
  {
   "cell_type": "code",
   "execution_count": null,
   "metadata": {},
   "outputs": [],
   "source": [
    "j[1]['name_j'].split('\\u3000')"
   ]
  },
  {
   "cell_type": "code",
   "execution_count": null,
   "metadata": {},
   "outputs": [],
   "source": [
    "j[1]['Title']"
   ]
  },
  {
   "cell_type": "markdown",
   "metadata": {
    "slideshow": {
     "slide_type": "skip"
    }
   },
   "source": [
    "`title` をキーに持たない授業はないようです。"
   ]
  },
  {
   "cell_type": "code",
   "execution_count": null,
   "metadata": {
    "slideshow": {
     "slide_type": "skip"
    }
   },
   "outputs": [],
   "source": [
    "for d in j:\n",
    "    if d.get('title',-1)==-1:\n",
    "        print(d)"
   ]
  },
  {
   "cell_type": "markdown",
   "metadata": {
    "slideshow": {
     "slide_type": "skip"
    }
   },
   "source": [
    "## ▲不要な空白や改行の除去\n",
    "ファイルから読み込んだ文字列の前後に不要な空白や改行がある場合は、組み込み関数 **`strip()`** を使用するとそれらの空白・改行を除去することができます。"
   ]
  },
  {
   "cell_type": "code",
   "execution_count": null,
   "metadata": {
    "slideshow": {
     "slide_type": "skip"
    }
   },
   "outputs": [],
   "source": [
    "\"   This is strip.\\n\".strip()"
   ]
  },
  {
   "cell_type": "markdown",
   "metadata": {
    "slideshow": {
     "slide_type": "skip"
    }
   },
   "source": [
    "lstrip は文頭、rstrip は文末の空白や改行を除去します。"
   ]
  },
  {
   "cell_type": "code",
   "execution_count": null,
   "metadata": {
    "slideshow": {
     "slide_type": "skip"
    }
   },
   "outputs": [],
   "source": [
    "\"   This is strip.\\n\".lstrip()"
   ]
  },
  {
   "cell_type": "code",
   "execution_count": null,
   "metadata": {
    "slideshow": {
     "slide_type": "skip"
    }
   },
   "outputs": [],
   "source": [
    "\"   This is strip.\\n\".rstrip()"
   ]
  },
  {
   "cell_type": "code",
   "execution_count": null,
   "metadata": {},
   "outputs": [],
   "source": []
  },
  {
   "cell_type": "code",
   "execution_count": null,
   "metadata": {},
   "outputs": [],
   "source": []
  },
  {
   "cell_type": "code",
   "execution_count": null,
   "metadata": {
    "slideshow": {
     "slide_type": "skip"
    }
   },
   "outputs": [],
   "source": []
  },
  {
   "cell_type": "markdown",
   "metadata": {
    "slideshow": {
     "slide_type": "skip"
    }
   },
   "source": [
    "##  練習の解答"
   ]
  },
  {
   "cell_type": "code",
   "execution_count": null,
   "metadata": {},
   "outputs": [],
   "source": [
    "with open(\"fib.json\", \"w\") as f:\n",
    "    json.dump([{'n': n, 'fib' : fib(n)} for n in range(0,10)], f)"
   ]
  }
 ],
 "metadata": {
  "kernelspec": {
   "display_name": "Python 3",
   "language": "python",
   "name": "python3"
  },
  "language_info": {
   "codemirror_mode": {
    "name": "ipython",
    "version": 3
   },
   "file_extension": ".py",
   "mimetype": "text/x-python",
   "name": "python",
   "nbconvert_exporter": "python",
   "pygments_lexer": "ipython3",
   "version": "3.7.2"
  }
 },
 "nbformat": 4,
 "nbformat_minor": 2
}
