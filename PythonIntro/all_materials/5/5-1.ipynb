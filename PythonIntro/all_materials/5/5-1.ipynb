{
 "cells": [
  {
   "cell_type": "markdown",
   "metadata": {},
   "source": [
    "# Pythonプログラミング入門 第5回\n",
    "モジュールの使い方について説明します"
   ]
  },
  {
   "cell_type": "markdown",
   "metadata": {},
   "source": [
    "参考\n",
    "\n",
    "- https://docs.python.org/ja/3/reference/import.html\n",
    "- https://docs.python.org/ja/3/tutorial/modules.html\n",
    "- https://docs.python.org/ja/3/library/math.html\n",
    "- https://docs.python.org/ja/3/library/random.html\n",
    "- https://docs.python.org/ja/3/library/time.html"
   ]
  },
  {
   "cell_type": "markdown",
   "metadata": {},
   "source": [
    "# モジュールの使い方\n",
    "\n",
    "## モジュールの `import`\n",
    "\n",
    "Pythonでは特別な関数や値をまとめたもの（これを**モジュール**といいます）を使うために、 **`import`** という文を使います（第1回（1-1）においても説明しました）。具体的には次の様に記述します。\n",
    "\n",
    "---\n",
    "```Python\n",
    "import モジュール名\n",
    "```\n",
    "---\n",
    "\n",
    "例えば、数学関係の機能をまとめた `math` というモジュールがあります。これらの関数や値を使いたいときは、以下のようにして mathモジュールを `import` で**インポート**します。そうすると、`math.関数名` という形で関数を用いることができます。 "
   ]
  },
  {
   "cell_type": "code",
   "execution_count": null,
   "metadata": {},
   "outputs": [],
   "source": [
    "import math# importは大抵セルの一番上に記述します\n",
    "print(math.sqrt(2)) # sqrt は平方根を計算する関数\n",
    "print(math.pi) # πの値\n",
    "print(math.sin(math.pi/4)) # sin関数 \n",
    "print(math.cos(0)) # cos関数 \n",
    "print(math.log(32,2)) # 2を底とする32の対数（texで記述すると、$\\log_2 32$）"
   ]
  },
  {
   "cell_type": "markdown",
   "metadata": {},
   "source": [
    "上の例では、mathモジュールの中の関数や値を使用しています。\n",
    "\n",
    "注意しなければならないのは、モジュールの中の関数（値）を使う場合には、\n",
    "\n",
    "---\n",
    "```Python\n",
    "モジュール名.モジュールの中の関数名（値）\n",
    "```\n",
    "---\n",
    "\n",
    "とする必要があるということです。"
   ]
  },
  {
   "cell_type": "markdown",
   "metadata": {},
   "source": [
    "## from\n",
    "\n",
    "モジュール内で定義されている関数を「モジュールの中の関数名（値）」の様にして、「モジュール名.」を付けずにそのままの名前で、モジュールの読み込み元のプログラムで使いたい場合には、**`from`** を以下の様に書くことで利用することができます。\n",
    "\n",
    "---\n",
    "```Python\n",
    "from モジュール名 import モジュールの中の関数名（値）\n",
    "```\n",
    "---\n",
    "\n",
    "例えば、次の様になります。"
   ]
  },
  {
   "cell_type": "code",
   "execution_count": null,
   "metadata": {},
   "outputs": [],
   "source": [
    "from math import sqrt\n",
    "print(sqrt(2)) # sqrt は平方根を計算する関数 \n",
    "from math import pi\n",
    "print(pi) # πの値\n",
    "from math import sin\n",
    "print(sin(math.pi/4)) # sin関数 \n",
    "from math import cos\n",
    "print(cos(0)) # cos関数 \n",
    "from math import log\n",
    "print(log(32,2)) # 2を底とする32の対数（texで記述すると、$\\log_2 32$）"
   ]
  },
  {
   "cell_type": "markdown",
   "metadata": {},
   "source": [
    "この方法では、関数ごとに `from` を用いてインポートする必要があります。\n",
    "\n",
    "なお、関数だけではなく、グローバル変数や後に学習するクラスも、\n",
    "このようにして import することができます。\n",
    "\n",
    "別の方法として、**ワイルドカード** **`*`** を利用する方法もあります。\n",
    "\n",
    "---\n",
    "```Python\n",
    "from math import *\n",
    "```\n",
    "---\n",
    "\n",
    "この方法ではアンダースコア `_` で始まるものを除いた全ての名前が読み込まれるため、明示的に名前を指定する必要はありません。\n"
   ]
  },
  {
   "cell_type": "code",
   "execution_count": null,
   "metadata": {},
   "outputs": [],
   "source": [
    "from math import *\n",
    "print(factorial(5)) # 5 の階乗 # import mathを使う場合、math.factorial(5)\n",
    "print(floor(2.31)) # 2.31以下の最大の整数  # import mathを使う場合、math.floor(2.31)\n",
    "print(e) # ネイピア数 # import mathを使う場合、math.e"
   ]
  },
  {
   "cell_type": "markdown",
   "metadata": {},
   "source": [
    "ただしこの方法は推奨されていません。理由は読み込んだモジュール内の未知の名前とプログラム内の名前が衝突する可能性があるためです。"
   ]
  },
  {
   "cell_type": "code",
   "execution_count": null,
   "metadata": {},
   "outputs": [],
   "source": [
    "pi = \"パイ\" # piという変数に文字列「パイ」を代入する\n",
    "print(pi) \n",
    "from math import *\n",
    "print(pi) # mathモジュールのpiの値で上書きされる（衝突）"
   ]
  },
  {
   "cell_type": "markdown",
   "metadata": {},
   "source": [
    "## as\n",
    "\n",
    "モジュール名が長すぎるなどの理由から別の名前としたい場合は、**`as`** を利用する方法もあります。例えば、5-3において学習するNumPyというモジュールは、次の様に、 `numpy` を `np` という略称で使うことがあります。"
   ]
  },
  {
   "cell_type": "code",
   "execution_count": null,
   "metadata": {},
   "outputs": [],
   "source": [
    "import numpy\n",
    "print(numpy.ones((3, 5))) # 3×5の行列を表示\n",
    "import numpy as np\n",
    "print(np.ones((3, 5))) # np という短い名称で同じ関数を利用する"
   ]
  },
  {
   "cell_type": "markdown",
   "metadata": {},
   "source": [
    "個々の関数ごとに別の名前を付けることもできます。"
   ]
  },
  {
   "cell_type": "code",
   "execution_count": null,
   "metadata": {},
   "outputs": [],
   "source": [
    "import math\n",
    "print(math.factorial(5)) # 階乗を求める関数factorial # 5の階乗\n",
    "from math import factorial as fact # fact という名前でmath.factorialを使用したい\n",
    "print(fact(5))"
   ]
  },
  {
   "cell_type": "markdown",
   "metadata": {},
   "source": [
    "## 練習\n",
    "第1回では、数学関数を以下のように import し、`math.sqrt()` のようにして、数学関数や数学関係の変数を利用していました。\n",
    "\n",
    "---\n",
    "```Python\n",
    "import math\n",
    "print(math.sqrt(2))\n",
    "print(math.sin(math.pi))\n",
    "```\n",
    "\n",
    "---\n",
    "\n",
    "以下のセルを、モジュール名を付けないでこれらの関数や変数を参照できるように変更してください。"
   ]
  },
  {
   "cell_type": "code",
   "execution_count": null,
   "metadata": {},
   "outputs": [],
   "source": [
    "import ...\n",
    "...\n",
    "\n",
    "print(sqrt(2))\n",
    "print(sin(pi))"
   ]
  },
  {
   "cell_type": "markdown",
   "metadata": {},
   "source": [
    "## パッケージ\n",
    "大きなモジュールは、パッケージによって階層化されていることが多いです。\n",
    "パッケージはモジュールのディレクトリのようなものです。\n",
    "\n",
    "A がパッケージの場合、A の下のモジュールを A.B という記法によって参照することができます。\n",
    "（階層構造はさらに深くすることもできます。）\n",
    "\n",
    "以下の例では、`matplotlib` というパッケージの下にある `pyplot` というモジュールをインポートしています。"
   ]
  },
  {
   "cell_type": "code",
   "execution_count": null,
   "metadata": {},
   "outputs": [],
   "source": [
    "import matplotlib.pyplot"
   ]
  },
  {
   "cell_type": "code",
   "execution_count": null,
   "metadata": {},
   "outputs": [],
   "source": [
    "# plotするデータ\n",
    "d =[0, 1, 4, 9, 16]\n",
    "\n",
    "# plot関数で描画\n",
    "matplotlib.pyplot.plot(d);"
   ]
  },
  {
   "cell_type": "markdown",
   "metadata": {},
   "source": [
    "これは長いので `matplotlib.pyplot` に `plt` という名前を付けましょう。"
   ]
  },
  {
   "cell_type": "code",
   "execution_count": null,
   "metadata": {},
   "outputs": [],
   "source": [
    "import matplotlib.pyplot as plt"
   ]
  },
  {
   "cell_type": "markdown",
   "metadata": {},
   "source": [
    "すると、`matplotlib.pyplot.plot` を `plt.plot` として参照することができます。"
   ]
  },
  {
   "cell_type": "code",
   "execution_count": null,
   "metadata": {},
   "outputs": [],
   "source": [
    "# plotするデータ\n",
    "d =[0, 1, 4, 9, 16]\n",
    "\n",
    "# plot関数で描画\n",
    "plt.plot(d);"
   ]
  },
  {
   "cell_type": "markdown",
   "metadata": {},
   "source": [
    "以下のようにすれば、`matplotlib.pyplot.plot` を `plot` として参照することができます。"
   ]
  },
  {
   "cell_type": "code",
   "execution_count": null,
   "metadata": {},
   "outputs": [],
   "source": [
    "from matplotlib.pyplot import plot"
   ]
  },
  {
   "cell_type": "code",
   "execution_count": null,
   "metadata": {},
   "outputs": [],
   "source": [
    "# plotするデータ\n",
    "d =[0, 1, 4, 9, 16]\n",
    "\n",
    "# plot関数で描画\n",
    "plot(d);"
   ]
  },
  {
   "cell_type": "markdown",
   "metadata": {},
   "source": [
    "以下では、よく使われるモジュールについて簡単に説明しています。"
   ]
  },
  {
   "cell_type": "markdown",
   "metadata": {},
   "source": [
    "## math\n",
    "**`math`** モジュールについて詳しくは以下を参照してください。\n",
    "\n",
    "https://docs.python.jp/3/library/math.html"
   ]
  },
  {
   "cell_type": "markdown",
   "metadata": {},
   "source": [
    "## random\n",
    "**`random`** は、乱数を生成する関数から成るモジュールです。詳しくは、以下を参照してください。\n",
    "\n",
    "**乱数**とは、一般にある範囲の数の値の中から無作為に選ばれる数の値のことを指します。\n",
    "\n",
    "https://docs.python.jp/3/library/random.html"
   ]
  },
  {
   "cell_type": "code",
   "execution_count": null,
   "metadata": {},
   "outputs": [],
   "source": [
    "import random"
   ]
  },
  {
   "cell_type": "markdown",
   "metadata": {},
   "source": [
    "**`random.random`** は、ゼロ個の引数の関数で、0.0 以上 1.0 未満の実数を一様にランダムに選んで返します。\n",
    "すなわち、一様分布にしたがって乱数を生成します。"
   ]
  },
  {
   "cell_type": "code",
   "execution_count": null,
   "metadata": {},
   "outputs": [],
   "source": [
    "random.random()"
   ]
  },
  {
   "cell_type": "code",
   "execution_count": null,
   "metadata": {},
   "outputs": [],
   "source": [
    "random.random()"
   ]
  },
  {
   "cell_type": "markdown",
   "metadata": {},
   "source": [
    "このように、呼び出すごとに異なる数が返ります。\n",
    "\n",
    "**`random.gauss`** を `random.gauss(mu,sigma)` として呼び出すと、\n",
    "平均 `mu`、標準偏差 `sigma` の正規分布（ガウス分布）にしたがって乱数を生成して返します。"
   ]
  },
  {
   "cell_type": "code",
   "execution_count": null,
   "metadata": {},
   "outputs": [],
   "source": [
    "random.gauss(0,1)"
   ]
  },
  {
   "cell_type": "code",
   "execution_count": null,
   "metadata": {},
   "outputs": [],
   "source": [
    "random.gauss(0,1)"
   ]
  },
  {
   "cell_type": "markdown",
   "metadata": {},
   "source": [
    "**`random.randint`** を `random.randint(from,to)` として呼び出すと、\n",
    "`from` から `to` までの整数を等確率で返します。\n",
    "`to` も含まれることに注意してください。"
   ]
  },
  {
   "cell_type": "code",
   "execution_count": null,
   "metadata": {},
   "outputs": [],
   "source": [
    "random.randint(1,10)"
   ]
  },
  {
   "cell_type": "code",
   "execution_count": null,
   "metadata": {},
   "outputs": [],
   "source": [
    "random.randint(1,10)"
   ]
  },
  {
   "cell_type": "code",
   "execution_count": null,
   "metadata": {},
   "outputs": [],
   "source": [
    "random.randint(0,1)"
   ]
  },
  {
   "cell_type": "code",
   "execution_count": null,
   "metadata": {},
   "outputs": [],
   "source": [
    "random.randint(0,1)"
   ]
  },
  {
   "cell_type": "markdown",
   "metadata": {},
   "source": [
    "乱数を使用するときに、乱数として値を使いたい様な場合があります。まずリスタートを押してから、次を実行してみて下さい。"
   ]
  },
  {
   "cell_type": "code",
   "execution_count": null,
   "metadata": {},
   "outputs": [],
   "source": [
    "for i in range(5):\n",
    "    print(random.randint(1,10))"
   ]
  },
  {
   "cell_type": "markdown",
   "metadata": {},
   "source": [
    "その上で改めてリスタートを押して上のセルを実行してみて下さい。最初の実行時とは違う値が表示されるはずです。\n",
    "\n",
    "例えば、乱数を使うコードを書いていて、「乱数で決定されるある値ではエラーが発生するけれどある値では発生しない」という場合、エラーを解消するには同じ乱数の値が出てくれた方が都合が良いですね。そこで次の様な関数 **`random.seed`** を使うことでそれを実現することが出来ます。具体的には、以下の様に使用します。\n",
    "\n",
    "---\n",
    "```Python\n",
    "    random.seed(a=整数):\n",
    "```\n",
    "---\n",
    "\n",
    "`整数` に何でも良いので整数を指定します。すると、その指定された整数を基準にして乱数が初期化されますので、同じ値を乱数として使用することが出来る様になります。試してみましょう。"
   ]
  },
  {
   "cell_type": "code",
   "execution_count": null,
   "metadata": {},
   "outputs": [],
   "source": [
    "random.seed(a=0) # 0を指定しました\n",
    "for i in range(5):\n",
    "    print(random.randint(1,10))"
   ]
  },
  {
   "cell_type": "markdown",
   "metadata": {},
   "source": [
    "リスタートを押しても押さなくても、以下を実行すると、上のセルと同じ値が表示されます。"
   ]
  },
  {
   "cell_type": "code",
   "execution_count": null,
   "metadata": {},
   "outputs": [],
   "source": [
    "random.seed(a=0) # 0を指定しました\n",
    "for i in range(5):\n",
    "    print(random.randint(1,10))"
   ]
  },
  {
   "cell_type": "markdown",
   "metadata": {},
   "source": [
    "## 練習\n",
    "\n",
    "実行すると `1/5` の確率で `0` を、 `3/10` の確率で `1` を、`1/2` の確率で `2` を返す関数 `paperrockscissors` を作成して下さい。 \n",
    "\n",
    "以下のセルの `...` のところを書き換えて解答して下さい。"
   ]
  },
  {
   "cell_type": "code",
   "execution_count": null,
   "metadata": {},
   "outputs": [],
   "source": [
    "import ...\n",
    "def paperrockscissors():\n",
    "    ..."
   ]
  },
  {
   "cell_type": "markdown",
   "metadata": {},
   "source": [
    "上のセルで解答を作成した後、以下のセルを実行し、実行結果が全て `True` になることを確認して下さい。"
   ]
  },
  {
   "cell_type": "code",
   "execution_count": null,
   "metadata": {},
   "outputs": [],
   "source": [
    "list1 = [0] * 3\n",
    "for i in range(100000):\n",
    "    list1[paperrockscissors()] += 1\n",
    "print(abs(list1[0]-20000)<500, abs(list1[1]-30000)<500, abs(list1[2]-50000)<500)"
   ]
  },
  {
   "cell_type": "markdown",
   "metadata": {},
   "source": [
    "## 練習\n",
    "二次元のランダムウォークをシミュレートしてみましょう。\n",
    "\n",
    "以下のような関数 `brownian(n)` を定義してください。\n",
    "\n",
    "まず、\n",
    "\n",
    "```Python\n",
    "xs = []\n",
    "ys = []\n",
    "```\n",
    "\n",
    "として、変数 `xs` と `ys` を空リストで初期化します。\n",
    "\n",
    "`x` と `y` という二つの変数を用意して、それぞれ 0.0 で初期化します。\n",
    "\n",
    "```Python\n",
    "x = 0.0\n",
    "y = 0.0\n",
    "```\n",
    "\n",
    "`i` を 0 から `n-1` まで動かします。\n",
    "\n",
    "各ステップで、`xs` と `ys` の最後にそれぞれ `x` と `y` を追加します。\n",
    "\n",
    "その後、`x` と `y` を以下のように更新します。\n",
    "\n",
    "`random.random()` を使って 0 以上 1 未満の実数を一つ選んで、それに円周率の二倍を掛けて、角度を求めます。\n",
    "\n",
    "そして、その角度の cos と sin を求めて、それぞれを x と y に足し込みます。\n",
    "\n",
    "円周率は、`math.pi` で得られます。cos と sin は、`math.sin` と `math.cos` で計算できます。\n",
    "\n",
    "`brownian(n)` は、最終的に `xs` と `ys` のタプルを返してください。\n",
    "\n",
    "```Python\n",
    "return xs,ys\n",
    "```\n",
    "\n",
    "以下のようなライブラリが必要になります。"
   ]
  },
  {
   "cell_type": "code",
   "execution_count": null,
   "metadata": {},
   "outputs": [],
   "source": [
    "import random\n",
    "import math\n",
    "import matplotlib.pyplot as plt\n",
    "%matplotlib inline"
   ]
  },
  {
   "cell_type": "markdown",
   "metadata": {},
   "source": [
    "以下で `brownian(n)` を定義してください。"
   ]
  },
  {
   "cell_type": "code",
   "execution_count": null,
   "metadata": {},
   "outputs": [],
   "source": [
    "def brownian(n):\n",
    "    ...\n",
    "    return xs,ys"
   ]
  },
  {
   "cell_type": "markdown",
   "metadata": {},
   "source": [
    "以下のようにして 100 ステップのランダムウォークをプロットしましょう。"
   ]
  },
  {
   "cell_type": "code",
   "execution_count": null,
   "metadata": {},
   "outputs": [],
   "source": [
    "xs,ys = brownian(100)\n",
    "plt.plot(xs,ys);"
   ]
  },
  {
   "cell_type": "markdown",
   "metadata": {},
   "source": [
    "以下は、`n` ステップのランダムウォーク後の原点からの距離を、`m` 回求めてリストにして返す関数です。"
   ]
  },
  {
   "cell_type": "code",
   "execution_count": null,
   "metadata": {},
   "outputs": [],
   "source": [
    "def brownian_dists(m,n):\n",
    "    ds =  []\n",
    "    for i in range(m):\n",
    "        xs,ys = brownian(n)\n",
    "        ds.append((xs[n-1]**2 + ys[n-1]**2)**0.5)\n",
    "    return ds"
   ]
  },
  {
   "cell_type": "code",
   "execution_count": null,
   "metadata": {},
   "outputs": [],
   "source": [
    "ds = brownian_dists(1000,1000)"
   ]
  },
  {
   "cell_type": "markdown",
   "metadata": {},
   "source": [
    "原点からの距離のヒストグラムを表示します。"
   ]
  },
  {
   "cell_type": "code",
   "execution_count": null,
   "metadata": {},
   "outputs": [],
   "source": [
    "plt.hist(ds, bins=50);"
   ]
  },
  {
   "cell_type": "markdown",
   "metadata": {},
   "source": [
    "ステップ数が増えるにしたがって原点からの平均距離がどのように増加するかを観察しましょう。\n",
    "時間がかかります。"
   ]
  },
  {
   "cell_type": "code",
   "execution_count": null,
   "metadata": {},
   "outputs": [],
   "source": [
    "ad = [0.0]\n",
    "for i in range(1,100):\n",
    "    ds = brownian_dists(100,100*i)\n",
    "    #print(sum(ds)/len(ds))\n",
    "    ad.append(sum(ds)/len(ds))"
   ]
  },
  {
   "cell_type": "code",
   "execution_count": null,
   "metadata": {},
   "outputs": [],
   "source": [
    "plt.plot(ad);"
   ]
  },
  {
   "cell_type": "markdown",
   "metadata": {},
   "source": [
    "ステップ数の平方根に比例するようです。"
   ]
  },
  {
   "cell_type": "markdown",
   "metadata": {},
   "source": [
    "## time\n",
    "**`time`** は、時間に関する関数から成るモジュールです。詳しくは、以下を参照してください。\n",
    "\n",
    "https://docs.python.jp/3/library/time.html"
   ]
  },
  {
   "cell_type": "code",
   "execution_count": null,
   "metadata": {},
   "outputs": [],
   "source": [
    "import time"
   ]
  },
  {
   "cell_type": "markdown",
   "metadata": {},
   "source": [
    "**`time.time`** 関数は、ある定まった起点から現在までの秒数を実数として返します。"
   ]
  },
  {
   "cell_type": "code",
   "execution_count": null,
   "metadata": {},
   "outputs": [],
   "source": [
    "time.time()"
   ]
  },
  {
   "cell_type": "markdown",
   "metadata": {},
   "source": [
    "次のコードでは、最初に現在の時刻を t という変数に記憶しておき、\n",
    "少し時間のかかる計算を行った後、\n",
    "現在の時刻から t を引いて得られる秒数を出力しています。\n",
    "これで計算にかかった秒数を知ることができます。"
   ]
  },
  {
   "cell_type": "code",
   "execution_count": null,
   "metadata": {},
   "outputs": [],
   "source": [
    "t = time.time()\n",
    "\n",
    "def fib(n):\n",
    "    if (n == 0):\n",
    "        return 0\n",
    "    elif (n == 1):\n",
    "        return 1\n",
    "    else:\n",
    "        return fib(n-1)+fib(n-2)\n",
    "print(fib(32))\n",
    "\n",
    "print(time.time() - t)"
   ]
  },
  {
   "cell_type": "markdown",
   "metadata": {},
   "source": [
    "**`time.localtime`** 関数は、現在の時刻の情報をオブジェクトとして返します。"
   ]
  },
  {
   "cell_type": "code",
   "execution_count": null,
   "metadata": {},
   "outputs": [],
   "source": [
    "time.localtime()"
   ]
  },
  {
   "cell_type": "markdown",
   "metadata": {},
   "source": [
    "このオブジェクトの属性を参照することにより、時刻に関する情報を得ることができます。\n",
    "属性名は上のセルの結果に含まれています。"
   ]
  },
  {
   "cell_type": "code",
   "execution_count": null,
   "metadata": {},
   "outputs": [],
   "source": [
    "t = time.localtime()\n",
    "t.tm_year"
   ]
  },
  {
   "cell_type": "markdown",
   "metadata": {},
   "source": [
    "## 練習\n",
    "`fib(n)` にかかる時間を返す `fibtime(n)` という関数を定義してください。"
   ]
  },
  {
   "cell_type": "code",
   "execution_count": null,
   "metadata": {},
   "outputs": [],
   "source": [
    "def fibtime(n):\n",
    "    ..."
   ]
  },
  {
   "cell_type": "markdown",
   "metadata": {},
   "source": [
    "以下を実行してグラフをプロットしてください。"
   ]
  },
  {
   "cell_type": "code",
   "execution_count": null,
   "metadata": {},
   "outputs": [],
   "source": [
    "import matplotlib.pyplot as plt\n",
    "%matplotlib inline\n",
    "plt.plot([fibtime(i) for i in range(20,35)]);"
   ]
  },
  {
   "cell_type": "code",
   "execution_count": null,
   "metadata": {},
   "outputs": [],
   "source": [
    "import matplotlib.pyplot as plt\n",
    "%matplotlib inline\n",
    "plt.plot([fibtime(i) for i in range(20,35)]);"
   ]
  },
  {
   "cell_type": "markdown",
   "metadata": {},
   "source": [
    "## 練習の解答\n",
    "\n",
    "`from` を使ってモジュールを指定、参照する関数を `import` でインポートしてください。 "
   ]
  },
  {
   "cell_type": "code",
   "execution_count": null,
   "metadata": {},
   "outputs": [],
   "source": [
    "from math import sqrt, sin, pi\n",
    "print(sqrt(2))\n",
    "print(sin(pi))"
   ]
  },
  {
   "cell_type": "code",
   "execution_count": null,
   "metadata": {},
   "outputs": [],
   "source": [
    "import random\n",
    "def paperrockscissors():\n",
    "    prc1 = [0, 0, 1, 1, 1, 2, 2, 2, 2, 2]\n",
    "    int1 = random.randint(0, 9)\n",
    "    return prc1[int1]"
   ]
  },
  {
   "cell_type": "code",
   "execution_count": null,
   "metadata": {},
   "outputs": [],
   "source": [
    "def brownian(n):\n",
    "    xs = []\n",
    "    ys = []\n",
    "    x = 0.0\n",
    "    y = 0.0\n",
    "    for i in range(n):\n",
    "        xs.append(x)\n",
    "        ys.append(y)\n",
    "        theta = random.random()\n",
    "        x += math.cos(2*math.pi*theta)\n",
    "        y += math.sin(2*math.pi*theta)\n",
    "    return xs,ys"
   ]
  },
  {
   "cell_type": "code",
   "execution_count": null,
   "metadata": {},
   "outputs": [],
   "source": [
    "def fibtime(n):\n",
    "    t = time.time()\n",
    "    fib(n)\n",
    "    return time.time() - t\n",
    "def fibtime(n):\n",
    "    t = time.perf_counter()\n",
    "    fib(n)\n",
    "    return time.perf_counter() - t"
   ]
  },
  {
   "cell_type": "code",
   "execution_count": null,
   "metadata": {},
   "outputs": [],
   "source": []
  }
 ],
 "metadata": {
  "kernelspec": {
   "display_name": "Python 3",
   "language": "python",
   "name": "python3"
  },
  "language_info": {
   "codemirror_mode": {
    "name": "ipython",
    "version": 3
   },
   "file_extension": ".py",
   "mimetype": "text/x-python",
   "name": "python",
   "nbconvert_exporter": "python",
   "pygments_lexer": "ipython3",
   "version": "3.6.4"
  }
 },
 "nbformat": 4,
 "nbformat_minor": 2
}
