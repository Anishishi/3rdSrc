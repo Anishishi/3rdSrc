{
 "cells": [
  {
   "cell_type": "markdown",
   "metadata": {},
   "source": [
    "# 第3回予習課題\n",
    "\n",
    "\n",
    "二つの整数のリスト `a` と `b` を引数とする関数 `U(a,b)` を定義してください。\n",
    "関数 `U(a,b)` は、`a` の要素と `b` の要素のすべての組み合わせに対して、\n",
    "- `a` の要素の方が `b` の要素よりも大きければ 1、\n",
    "- 等しければ 0.5、\n",
    "- `a` の要素の方が `b` の要素よりも小さければ 0\n",
    "\n",
    "を選び、それら値の総和を返します。\n",
    "\n",
    "総和は `return` で返してください、`print()` による印字は不正解とします。\n",
    "\n",
    "for文を用いると、以下のような形になるでしょう。\n",
    "```Python\n",
    "def U(a,b):\n",
    "    ...\n",
    "    for x in a:\n",
    "        for y in b:\n",
    "            ...\n",
    "            ...\n",
    "    return ...\n",
    "```\n",
    "必ずしもこの形にする必要はありません。たとえば、内包表記を用いても構いません。\n",
    "\n",
    "以下のセルの `...` のところを書き換えください。\n",
    "\n",
    "Define a function `U(a,b)` that is given two lists `a` and `b` of integers as arguments.\n",
    "For each pair of an element of `a` and an element of `b`, the function `U(a,b)` selects\n",
    "- 1 if the element of `a` is greater than that of `b`,\n",
    "- 0.5 if they are identical, and\n",
    "- 0 if the element of `a` is less than that of `b`,\n",
    "\n",
    "and returns the sum of those values.\n",
    "\n",
    "Return the sum by `return`. Printing it by `print()` is regarded as an incorrect answer.\n",
    "\n",
    "If for-statements are used, the definition can be as follows.\n",
    "```Python\n",
    "def U(a,b):\n",
    "    ...\n",
    "    for x in a:\n",
    "        for y in b:\n",
    "            ...\n",
    "            ...\n",
    "    return ...\n",
    "```\n",
    "It is not necessary to follow this form. For example, comprehension can be used.\n",
    "\n",
    "Rewrite the part `...` in the following cell."
   ]
  },
  {
   "cell_type": "code",
   "execution_count": 3,
   "metadata": {},
   "outputs": [],
   "source": [
    "def U(a,b):\n",
    "    ans=0\n",
    "    for i in range(len(a)):\n",
    "        for j in range(len(b)):\n",
    "            if a[i]>b[j]:\n",
    "                ans+=1\n",
    "            elif a[i]==b[j]:\n",
    "                ans+=0.5\n",
    "    return ans"
   ]
  },
  {
   "cell_type": "markdown",
   "metadata": {},
   "source": [
    "提出前に以下のテストを実行し、`True` のみが印字されることを確認してください。\n",
    "\n",
    "Before submission, execute the following tests and check if only `True` is printed."
   ]
  },
  {
   "cell_type": "code",
   "execution_count": 4,
   "metadata": {},
   "outputs": [
    {
     "name": "stdout",
     "output_type": "stream",
     "text": [
      "True\n",
      "True\n",
      "True\n",
      "True\n",
      "True\n",
      "True\n",
      "True\n",
      "True\n",
      "True\n",
      "True\n",
      "True\n",
      "True\n",
      "True\n",
      "True\n"
     ]
    }
   ],
   "source": [
    "print(U([1,2,3],[4,5]) == 0.0)\n",
    "print(U([1,2,3],[3,4]) == 0.5)\n",
    "print(U([1,2,3],[3,4,5]) == 0.5)\n",
    "print(U([1,2,3],[2,3,4]) == 2.0)\n",
    "print(U([1,2,3],[1,2,3]) == 4.5)\n",
    "print(U([1,2,3],[0,1,2]) == 7.0)\n",
    "print(U([3,2,1],[0,1,2]) == 7.0)\n",
    "print(U([1,2,3],[0,1]) == 5.5)\n",
    "print(U([1,2,3],[0]) == 3.0)\n",
    "print(U([1,2,3],[]) == 0.0)\n",
    "print(U([1,2,3],[-1,0]) == 6.0)\n",
    "print(U([2,3],[2,3,4]) == 2.0)\n",
    "print(U([3],[2,3,4]) == 1.5)\n",
    "print(U([],[2,3,4]) == 0.0)"
   ]
  },
  {
   "cell_type": "markdown",
   "metadata": {},
   "source": [
    "関数 `U` が返す値は、Mann-Whitneyの検定で用いられ、U値と呼ばれています。\n",
    "`U` の定義が完成したら、次のセルを実行して、U値の分布を観察してみましょう。\n",
    "ここでは、リストの要素として 0 から 10 までの整数をランダムに選んでいます。\n",
    "\n",
    "The value returned by the function `U` is used in the Mann–Whitney U test, and called a U value.\n",
    "After the definition of `U` is completed, execute the following cell and examine the distribution of U values.\n",
    "Here, integers from 0 to 10 are randomly chosen as elements of the lists."
   ]
  },
  {
   "cell_type": "code",
   "execution_count": 6,
   "metadata": {},
   "outputs": [
    {
     "data": {
      "image/png": "[encoded data removed]",
      "text/plain": [
       "<Figure size 432x288 with 1 Axes>"
      ]
     },
     "metadata": {
      "needs_background": "light"
     },
     "output_type": "display_data"
    }
   ],
   "source": [
    "import random\n",
    "import matplotlib.pyplot as plt\n",
    "data = []\n",
    "for i in range(100000):\n",
    "    data.append(U([random.randint(0,10) for _ in range(5)],[random.randint(0,10) for _ in range(7)]))\n",
    "plt.hist(data,bins=100)\n",
    "plt.show()"
   ]
  }
 ],
 "metadata": {
  "kernelspec": {
   "display_name": "Python 3",
   "language": "python",
   "name": "python3"
  },
  "language_info": {
   "codemirror_mode": {
    "name": "ipython",
    "version": 3
   },
   "file_extension": ".py",
   "mimetype": "text/x-python",
   "name": "python",
   "nbconvert_exporter": "python",
   "pygments_lexer": "ipython3",
   "version": "3.7.1"
  }
 },
 "nbformat": 4,
 "nbformat_minor": 2
}
