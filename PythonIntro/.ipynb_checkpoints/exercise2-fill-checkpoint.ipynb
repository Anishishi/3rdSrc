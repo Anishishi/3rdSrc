{
 "cells": [
  {
   "cell_type": "code",
   "execution_count": 62,
   "metadata": {},
   "outputs": [],
   "source": [
    "def vowels_sort(s):\n",
    "    ups = s.upper()\n",
    "    d1 = {}\n",
    "    d1['A']= ups.count('A')\n",
    "    d1['E']= ups.count('E')\n",
    "    d1['I']= ups.count('I')\n",
    "    d1['O']= ups.count('O')\n",
    "    d1['U']= ups.count('U')\n",
    "\n",
    "    rdic = {}\n",
    "\n",
    "    rdic[d1['A']] = []\n",
    "    rdic[d1['E']] = []\n",
    "    rdic[d1['I']] = []\n",
    "    rdic[d1['O']] = []\n",
    "    rdic[d1['U']] = []\n",
    "\n",
    "    #辞書の要素を作っていく\n",
    "    \n",
    "    freq = list(d1.values())\n",
    "    freq.sort(reverse=True)\n",
    "\n",
    "    result = []\n",
    "\n",
    "    result.append(rdic[freq[0]].pop(0))\n",
    "    result.append(rdic[freq[1]].pop(0))\n",
    "    result.append(rdic[freq[2]].pop(0))\n",
    "    result.append(rdic[freq[3]].pop(0))\n",
    "    result.append(rdic[freq[4]].pop(0))\n",
    "    \n",
    "    return(tuple(result))    "
   ]
  }
 ],
 "metadata": {
  "kernelspec": {
   "display_name": "Python 3",
   "language": "python",
   "name": "python3"
  },
  "language_info": {
   "codemirror_mode": {
    "name": "ipython",
    "version": 3
   },
   "file_extension": ".py",
   "mimetype": "text/x-python",
   "name": "python",
   "nbconvert_exporter": "python",
   "pygments_lexer": "ipython3",
   "version": "3.7.1"
  }
 },
 "nbformat": 4,
 "nbformat_minor": 2
}
